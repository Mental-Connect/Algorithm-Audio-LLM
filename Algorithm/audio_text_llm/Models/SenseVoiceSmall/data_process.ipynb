{
 "cells": [
  {
   "cell_type": "code",
   "execution_count": 1,
   "metadata": {},
   "outputs": [
    {
     "name": "stderr",
     "output_type": "stream",
     "text": [
      "c:\\Users\\Administrator\\AppData\\Local\\Programs\\Python\\Python310\\lib\\site-packages\\requests\\__init__.py:109: RequestsDependencyWarning: urllib3 (2.2.3) or chardet (5.0.0)/charset_normalizer (2.1.1) doesn't match a supported version!\n",
      "  warnings.warn(\n",
      "c:\\Users\\Administrator\\AppData\\Local\\Programs\\Python\\Python310\\lib\\site-packages\\scipy\\__init__.py:155: UserWarning: A NumPy version >=1.18.5 and <1.25.0 is required for this version of SciPy (detected version 1.26.4\n",
      "  warnings.warn(f\"A NumPy version >={np_minversion} and <{np_maxversion}\"\n"
     ]
    },
    {
     "name": "stdout",
     "output_type": "stream",
     "text": [
      "Notice: ffmpeg is not installed. torchaudio is used to load audio\n",
      "If you want to use ffmpeg backend to load audio, please install it by:\n",
      "\tsudo apt install ffmpeg # ubuntu\n",
      "\t# brew install ffmpeg # mac\n"
     ]
    }
   ],
   "source": [
    "from funasr import AutoModel\n",
    "from funasr.utils.postprocess_utils import rich_transcription_postprocess\n",
    "import librosa\n",
    "import numpy as np\n",
    "\n",
    "from IPython.display import Audio as IPythonAudio"
   ]
  },
  {
   "cell_type": "code",
   "execution_count": 2,
   "metadata": {},
   "outputs": [
    {
     "ename": "ModuleNotFoundError",
     "evalue": "No module named 'sounddevice'",
     "output_type": "error",
     "traceback": [
      "\u001b[1;31m---------------------------------------------------------------------------\u001b[0m",
      "\u001b[1;31mModuleNotFoundError\u001b[0m                       Traceback (most recent call last)",
      "Cell \u001b[1;32mIn[2], line 1\u001b[0m\n\u001b[1;32m----> 1\u001b[0m \u001b[38;5;28;01mimport\u001b[39;00m \u001b[38;5;21;01msounddevice\u001b[39;00m \u001b[38;5;28;01mas\u001b[39;00m \u001b[38;5;21;01msd\u001b[39;00m\n\u001b[0;32m      2\u001b[0m \u001b[38;5;28;01mimport\u001b[39;00m \u001b[38;5;21;01msoundfile\u001b[39;00m \u001b[38;5;28;01mas\u001b[39;00m \u001b[38;5;21;01msf\u001b[39;00m\n\u001b[0;32m      3\u001b[0m \u001b[38;5;28;01mimport\u001b[39;00m \u001b[38;5;21;01mnumpy\u001b[39;00m \u001b[38;5;28;01mas\u001b[39;00m \u001b[38;5;21;01mnp\u001b[39;00m\n",
      "\u001b[1;31mModuleNotFoundError\u001b[0m: No module named 'sounddevice'"
     ]
    }
   ],
   "source": [
    "import sounddevice as sd\n",
    "import soundfile as sf\n",
    "import numpy as np\n",
    "import io\n",
    "\n",
    "# Parameters for recording\n",
    "duration = 5  # seconds\n",
    "sample_rate = 22050  # Hz, the default for librosa or your model\n",
    "\n"
   ]
  },
  {
   "cell_type": "code",
   "execution_count": 19,
   "metadata": {},
   "outputs": [
    {
     "name": "stdout",
     "output_type": "stream",
     "text": [
      "Recording...\n",
      "Recording complete!\n",
      "Audio Array Dtype: float32, Shape: (110250,), Sample Rate: 22050\n"
     ]
    }
   ],
   "source": [
    "#Record audio\n",
    "print(\"Recording...\")\n",
    "audio_data = sd.rec(int(duration * sample_rate), samplerate=sample_rate, channels=1, dtype='float32')\n",
    "sd.wait()  # Wait until the recording is finished\n",
    "print(\"Recording complete!\")\n",
    "\n",
    "# Convert the recorded audio to a format compatible with the model\n",
    "# Here we create an in-memory buffer to simulate a file-like object\n",
    "audio_buffer = io.BytesIO()\n",
    "\n",
    "# Write the recorded audio to this in-memory buffer using soundfile\n",
    "sf.write(audio_buffer, audio_data, sample_rate, format='mp3')\n",
    "\n",
    "# Move to the beginning of the buffer so it can be read from the start\n",
    "audio_buffer.seek(0)\n",
    "\n",
    "# Read the audio data from the buffer (in memory) and ensure dtype is float32\n",
    "audio_array, sr = sf.read(audio_buffer, dtype='float32')\n",
    "\n",
    "# Display information about the processed audio data\n",
    "print(f\"Audio Array Dtype: {audio_array.dtype}, Shape: {audio_array.shape}, Sample Rate: {sr}\")\n",
    "\n",
    "# The audio data is now ready to be used directly with your transcription model\n",
    "# For example:\n",
    "#\n"
   ]
  },
  {
   "cell_type": "code",
   "execution_count": 11,
   "metadata": {},
   "outputs": [
    {
     "name": "stderr",
     "output_type": "stream",
     "text": [
      "C:\\Users\\Administrator\\AppData\\Local\\Temp\\ipykernel_20036\\3891720155.py:2: UserWarning: PySoundFile failed. Trying audioread instead.\n",
      "  audio_array, sampling_rate = librosa.load(audio_path, sr = None)\n",
      "c:\\Users\\Administrator\\Desktop\\Backend-LLM\\audio_text_llm\\SenseVoiceSmall\\sensevoice_env\\Lib\\site-packages\\librosa\\core\\audio.py:184: FutureWarning: librosa.core.audio.__audioread_load\n",
      "\tDeprecated as of librosa version 0.10.0.\n",
      "\tIt will be removed in librosa version 1.0.\n",
      "  y, sr_native = __audioread_load(path, offset, duration, dtype)\n"
     ]
    }
   ],
   "source": [
    "audio_path = r'C:\\Users\\Administrator\\Desktop\\Backend-LLM\\audio_text_llm\\SenseVoiceSmall\\audio_sample\\听故事学中文 Learn Chinese with 12 Stories - The Easiest Way to Improve Chinese.mp3'\n",
    "audio_array, sampling_rate = librosa.load(audio_path, sr = None)"
   ]
  },
  {
   "cell_type": "code",
   "execution_count": 26,
   "metadata": {},
   "outputs": [
    {
     "name": "stdout",
     "output_type": "stream",
     "text": [
      "Sample Rate: 44100\n",
      "Audio Array: [0. 0. 0. ... 0. 0. 0.]\n",
      "Audio Array datatype is Array:  True\n"
     ]
    }
   ],
   "source": [
    "# Print details\n",
    "print(\"Sample Rate:\", sampling_rate)\n",
    "print(\"Audio Array:\", audio_array)\n",
    "print(\"Audio Array datatype is Array: \", isinstance(audio_array,np.ndarray) )"
   ]
  },
  {
   "cell_type": "code",
   "execution_count": 27,
   "metadata": {},
   "outputs": [],
   "source": [
    "# Calculate the number of samples per chunk\n",
    "chunk_samples = int(30 * sampling_rate)\n",
    "total_samples = int(len(audio_array))"
   ]
  },
  {
   "cell_type": "markdown",
   "metadata": {},
   "source": [
    "# Manual Splitting method"
   ]
  },
  {
   "cell_type": "code",
   "execution_count": 31,
   "metadata": {},
   "outputs": [
    {
     "name": "stdout",
     "output_type": "stream",
     "text": [
      "funasr version: 1.1.6.\n",
      "Check update of funasr, and it would cost few times. You may disable it by set `disable_update=True` in AutoModel\n",
      "You are using the latest version of funasr-1.1.6\n"
     ]
    },
    {
     "name": "stderr",
     "output_type": "stream",
     "text": [
      "2024-09-06 15:50:25,189 - modelscope - WARNING - Using branch: master as version is unstable, use with caution\n",
      "c:\\Users\\Administrator\\Desktop\\Backend-LLM\\audio_text_llm\\SenseVoiceSmall\\sensevoice_env\\Lib\\site-packages\\funasr\\train_utils\\load_pretrained_model.py:38: FutureWarning: You are using `torch.load` with `weights_only=False` (the current default value), which uses the default pickle module implicitly. It is possible to construct malicious pickle data which will execute arbitrary code during unpickling (See https://github.com/pytorch/pytorch/blob/main/SECURITY.md#untrusted-models for more details). In a future release, the default value for `weights_only` will be flipped to `True`. This limits the functions that could be executed during unpickling. Arbitrary objects will no longer be allowed to be loaded via this mode unless they are explicitly allowlisted by the user via `torch.serialization.add_safe_globals`. We recommend you start setting `weights_only=True` for any use case where you don't have full control of the loaded file. Please open an issue on GitHub for any issues related to this experimental feature.\n",
      "  src_state = torch.load(path, map_location=map_location)\n",
      "  0%|\u001b[34m          \u001b[0m| 0/1 [00:00<?, ?it/s]c:\\Users\\Administrator\\Desktop\\Backend-LLM\\audio_text_llm\\SenseVoiceSmall\\sensevoice_env\\Lib\\site-packages\\funasr\\models\\paraformer\\model.py:251: FutureWarning: `torch.cuda.amp.autocast(args...)` is deprecated. Please use `torch.amp.autocast('cuda', args...)` instead.\n",
      "  with autocast(False):\n",
      "rtf_avg: 0.042: 100%|\u001b[34m██████████\u001b[0m| 1/1 [00:01<00:00,  1.27s/it]                                                                                          \n",
      "rtf_avg: 0.048: 100%|\u001b[34m██████████\u001b[0m| 1/1 [00:01<00:00,  1.45s/it]                                                                                          \n",
      "rtf_avg: 0.045: 100%|\u001b[34m██████████\u001b[0m| 1/1 [00:01<00:00,  1.34s/it]                                                                                          \n",
      "rtf_avg: 0.042: 100%|\u001b[34m██████████\u001b[0m| 1/1 [00:01<00:00,  1.25s/it]                                                                                          \n",
      "rtf_avg: 0.042: 100%|\u001b[34m██████████\u001b[0m| 1/1 [00:01<00:00,  1.27s/it]                                                                                          \n",
      "rtf_avg: 0.041: 100%|\u001b[34m██████████\u001b[0m| 1/1 [00:01<00:00,  1.23s/it]                                                                                          \n",
      "rtf_avg: 0.042: 100%|\u001b[34m██████████\u001b[0m| 1/1 [00:01<00:00,  1.27s/it]                                                                                          \n",
      "rtf_avg: 0.041: 100%|\u001b[34m██████████\u001b[0m| 1/1 [00:01<00:00,  1.23s/it]                                                                                          \n",
      "rtf_avg: 0.042: 100%|\u001b[34m██████████\u001b[0m| 1/1 [00:01<00:00,  1.28s/it]                                                                                          \n",
      "rtf_avg: 0.046: 100%|\u001b[34m██████████\u001b[0m| 1/1 [00:01<00:00,  1.37s/it]                                                                                          \n",
      "rtf_avg: 0.043: 100%|\u001b[34m██████████\u001b[0m| 1/1 [00:01<00:00,  1.28s/it]                                                                                          \n",
      "rtf_avg: 0.041: 100%|\u001b[34m██████████\u001b[0m| 1/1 [00:01<00:00,  1.24s/it]                                                                                          \n",
      "rtf_avg: 0.041: 100%|\u001b[34m██████████\u001b[0m| 1/1 [00:01<00:00,  1.24s/it]                                                                                          \n",
      "rtf_avg: 0.041: 100%|\u001b[34m██████████\u001b[0m| 1/1 [00:01<00:00,  1.22s/it]                                                                                          \n",
      "rtf_avg: 0.042: 100%|\u001b[34m██████████\u001b[0m| 1/1 [00:01<00:00,  1.27s/it]                                                                                          \n",
      "rtf_avg: 0.043: 100%|\u001b[34m██████████\u001b[0m| 1/1 [00:01<00:00,  1.30s/it]                                                                                          \n",
      "rtf_avg: 0.042: 100%|\u001b[34m██████████\u001b[0m| 1/1 [00:01<00:00,  1.25s/it]                                                                                          \n",
      "rtf_avg: 0.041: 100%|\u001b[34m██████████\u001b[0m| 1/1 [00:01<00:00,  1.23s/it]                                                                                          \n",
      "rtf_avg: 0.041: 100%|\u001b[34m██████████\u001b[0m| 1/1 [00:01<00:00,  1.22s/it]                                                                                          \n",
      "rtf_avg: 0.043: 100%|\u001b[34m██████████\u001b[0m| 1/1 [00:01<00:00,  1.28s/it]                                                                                          \n",
      "rtf_avg: 0.042: 100%|\u001b[34m██████████\u001b[0m| 1/1 [00:01<00:00,  1.25s/it]                                                                                          \n",
      "rtf_avg: 0.041: 100%|\u001b[34m██████████\u001b[0m| 1/1 [00:01<00:00,  1.24s/it]                                                                                          \n",
      "rtf_avg: 0.041: 100%|\u001b[34m██████████\u001b[0m| 1/1 [00:01<00:00,  1.24s/it]                                                                                          \n",
      "rtf_avg: 0.042: 100%|\u001b[34m██████████\u001b[0m| 1/1 [00:01<00:00,  1.26s/it]                                                                                          \n",
      "rtf_avg: 0.042: 100%|\u001b[34m██████████\u001b[0m| 1/1 [00:01<00:00,  1.28s/it]                                                                                          \n",
      "rtf_avg: 0.042: 100%|\u001b[34m██████████\u001b[0m| 1/1 [00:01<00:00,  1.27s/it]                                                                                          \n",
      "rtf_avg: 0.042: 100%|\u001b[34m██████████\u001b[0m| 1/1 [00:01<00:00,  1.27s/it]                                                                                          \n",
      "rtf_avg: 0.042: 100%|\u001b[34m██████████\u001b[0m| 1/1 [00:01<00:00,  1.26s/it]                                                                                          \n",
      "rtf_avg: 0.042: 100%|\u001b[34m██████████\u001b[0m| 1/1 [00:01<00:00,  1.25s/it]                                                                                          \n",
      "rtf_avg: 0.041: 100%|\u001b[34m██████████\u001b[0m| 1/1 [00:01<00:00,  1.22s/it]                                                                                          \n",
      "rtf_avg: 0.041: 100%|\u001b[34m██████████\u001b[0m| 1/1 [00:01<00:00,  1.22s/it]                                                                                          \n",
      "rtf_avg: 0.041: 100%|\u001b[34m██████████\u001b[0m| 1/1 [00:01<00:00,  1.24s/it]                                                                                          \n",
      "rtf_avg: 0.041: 100%|\u001b[34m██████████\u001b[0m| 1/1 [00:01<00:00,  1.23s/it]                                                                                          \n",
      "rtf_avg: 0.042: 100%|\u001b[34m██████████\u001b[0m| 1/1 [00:01<00:00,  1.27s/it]                                                                                          \n",
      "rtf_avg: 0.041: 100%|\u001b[34m██████████\u001b[0m| 1/1 [00:01<00:00,  1.22s/it]                                                                                          \n",
      "rtf_avg: 0.040: 100%|\u001b[34m██████████\u001b[0m| 1/1 [00:01<00:00,  1.21s/it]                                                                                          \n",
      "rtf_avg: 0.041: 100%|\u001b[34m██████████\u001b[0m| 1/1 [00:01<00:00,  1.23s/it]                                                                                          \n",
      "rtf_avg: 0.041: 100%|\u001b[34m██████████\u001b[0m| 1/1 [00:01<00:00,  1.23s/it]                                                                                          \n",
      "rtf_avg: 0.041: 100%|\u001b[34m██████████\u001b[0m| 1/1 [00:01<00:00,  1.24s/it]                                                                                          \n",
      "rtf_avg: 0.043: 100%|\u001b[34m██████████\u001b[0m| 1/1 [00:01<00:00,  1.29s/it]                                                                                          \n",
      "rtf_avg: 0.042: 100%|\u001b[34m██████████\u001b[0m| 1/1 [00:01<00:00,  1.28s/it]                                                                                          \n",
      "rtf_avg: 0.041: 100%|\u001b[34m██████████\u001b[0m| 1/1 [00:01<00:00,  1.24s/it]                                                                                          \n",
      "rtf_avg: 0.041: 100%|\u001b[34m██████████\u001b[0m| 1/1 [00:01<00:00,  1.22s/it]                                                                                          \n",
      "rtf_avg: 0.041: 100%|\u001b[34m██████████\u001b[0m| 1/1 [00:01<00:00,  1.23s/it]                                                                                          \n",
      "rtf_avg: 0.041: 100%|\u001b[34m██████████\u001b[0m| 1/1 [00:01<00:00,  1.22s/it]                                                                                          \n",
      "rtf_avg: 0.041: 100%|\u001b[34m██████████\u001b[0m| 1/1 [00:01<00:00,  1.23s/it]                                                                                          \n",
      "rtf_avg: 0.040: 100%|\u001b[34m██████████\u001b[0m| 1/1 [00:01<00:00,  1.21s/it]                                                                                          \n",
      "rtf_avg: 0.041: 100%|\u001b[34m██████████\u001b[0m| 1/1 [00:01<00:00,  1.23s/it]                                                                                          \n",
      "rtf_avg: 0.041: 100%|\u001b[34m██████████\u001b[0m| 1/1 [00:01<00:00,  1.24s/it]                                                                                          \n",
      "rtf_avg: 0.041: 100%|\u001b[34m██████████\u001b[0m| 1/1 [00:01<00:00,  1.24s/it]                                                                                          \n",
      "rtf_avg: 0.042: 100%|\u001b[34m██████████\u001b[0m| 1/1 [00:01<00:00,  1.27s/it]                                                                                          \n",
      "rtf_avg: 0.041: 100%|\u001b[34m██████████\u001b[0m| 1/1 [00:01<00:00,  1.22s/it]                                                                                          \n",
      "rtf_avg: 0.041: 100%|\u001b[34m██████████\u001b[0m| 1/1 [00:01<00:00,  1.23s/it]                                                                                          \n",
      "rtf_avg: 0.041: 100%|\u001b[34m██████████\u001b[0m| 1/1 [00:01<00:00,  1.23s/it]                                                                                          \n",
      "rtf_avg: 0.041: 100%|\u001b[34m██████████\u001b[0m| 1/1 [00:01<00:00,  1.22s/it]                                                                                          \n",
      "rtf_avg: 0.041: 100%|\u001b[34m██████████\u001b[0m| 1/1 [00:01<00:00,  1.23s/it]                                                                                          \n",
      "rtf_avg: 0.041: 100%|\u001b[34m██████████\u001b[0m| 1/1 [00:01<00:00,  1.22s/it]                                                                                          \n",
      "rtf_avg: 0.042: 100%|\u001b[34m██████████\u001b[0m| 1/1 [00:01<00:00,  1.26s/it]                                                                                          \n",
      "rtf_avg: 0.041: 100%|\u001b[34m██████████\u001b[0m| 1/1 [00:01<00:00,  1.23s/it]                                                                                          \n",
      "rtf_avg: 0.042: 100%|\u001b[34m██████████\u001b[0m| 1/1 [00:01<00:00,  1.26s/it]                                                                                          \n",
      "rtf_avg: 0.042: 100%|\u001b[34m██████████\u001b[0m| 1/1 [00:01<00:00,  1.26s/it]                                                                                          \n",
      "rtf_avg: 0.042: 100%|\u001b[34m██████████\u001b[0m| 1/1 [00:01<00:00,  1.27s/it]                                                                                          \n",
      "rtf_avg: 0.042: 100%|\u001b[34m██████████\u001b[0m| 1/1 [00:01<00:00,  1.26s/it]                                                                                          \n",
      "rtf_avg: 0.041: 100%|\u001b[34m██████████\u001b[0m| 1/1 [00:01<00:00,  1.24s/it]                                                                                          \n",
      "rtf_avg: 0.041: 100%|\u001b[34m██████████\u001b[0m| 1/1 [00:01<00:00,  1.22s/it]                                                                                          \n",
      "rtf_avg: 0.042: 100%|\u001b[34m██████████\u001b[0m| 1/1 [00:01<00:00,  1.26s/it]                                                                                          \n",
      "rtf_avg: 0.041: 100%|\u001b[34m██████████\u001b[0m| 1/1 [00:01<00:00,  1.24s/it]                                                                                          \n",
      "rtf_avg: 0.041: 100%|\u001b[34m██████████\u001b[0m| 1/1 [00:01<00:00,  1.24s/it]                                                                                          \n",
      "rtf_avg: 0.041: 100%|\u001b[34m██████████\u001b[0m| 1/1 [00:01<00:00,  1.23s/it]                                                                                          \n",
      "rtf_avg: 0.042: 100%|\u001b[34m██████████\u001b[0m| 1/1 [00:01<00:00,  1.25s/it]                                                                                          \n",
      "rtf_avg: 0.042: 100%|\u001b[34m██████████\u001b[0m| 1/1 [00:01<00:00,  1.26s/it]                                                                                          \n",
      "rtf_avg: 0.042: 100%|\u001b[34m██████████\u001b[0m| 1/1 [00:01<00:00,  1.28s/it]                                                                                          \n",
      "rtf_avg: 0.042: 100%|\u001b[34m██████████\u001b[0m| 1/1 [00:01<00:00,  1.25s/it]                                                                                          \n",
      "rtf_avg: 0.042: 100%|\u001b[34m██████████\u001b[0m| 1/1 [00:01<00:00,  1.27s/it]                                                                                          \n",
      "rtf_avg: 0.042: 100%|\u001b[34m██████████\u001b[0m| 1/1 [00:01<00:00,  1.26s/it]                                                                                          \n",
      "rtf_avg: 0.042: 100%|\u001b[34m██████████\u001b[0m| 1/1 [00:01<00:00,  1.26s/it]                                                                                          \n",
      "rtf_avg: 0.042: 100%|\u001b[34m██████████\u001b[0m| 1/1 [00:01<00:00,  1.26s/it]                                                                                          \n",
      "rtf_avg: 0.041: 100%|\u001b[34m██████████\u001b[0m| 1/1 [00:01<00:00,  1.25s/it]                                                                                          \n",
      "rtf_avg: 0.041: 100%|\u001b[34m██████████\u001b[0m| 1/1 [00:01<00:00,  1.23s/it]                                                                                          \n",
      "rtf_avg: 0.041: 100%|\u001b[34m██████████\u001b[0m| 1/1 [00:01<00:00,  1.23s/it]                                                                                          \n",
      "rtf_avg: 0.042: 100%|\u001b[34m██████████\u001b[0m| 1/1 [00:01<00:00,  1.25s/it]                                                                                          \n",
      "rtf_avg: 0.041: 100%|\u001b[34m██████████\u001b[0m| 1/1 [00:01<00:00,  1.23s/it]                                                                                          \n",
      "rtf_avg: 0.042: 100%|\u001b[34m██████████\u001b[0m| 1/1 [00:01<00:00,  1.25s/it]                                                                                          \n",
      "rtf_avg: 0.041: 100%|\u001b[34m██████████\u001b[0m| 1/1 [00:01<00:00,  1.25s/it]                                                                                          \n",
      "rtf_avg: 0.042: 100%|\u001b[34m██████████\u001b[0m| 1/1 [00:01<00:00,  1.25s/it]                                                                                          \n",
      "rtf_avg: 0.041: 100%|\u001b[34m██████████\u001b[0m| 1/1 [00:01<00:00,  1.23s/it]                                                                                          \n",
      "rtf_avg: 0.042: 100%|\u001b[34m██████████\u001b[0m| 1/1 [00:01<00:00,  1.25s/it]                                                                                          \n",
      "rtf_avg: 0.042: 100%|\u001b[34m██████████\u001b[0m| 1/1 [00:01<00:00,  1.27s/it]                                                                                          \n",
      "rtf_avg: 0.041: 100%|\u001b[34m██████████\u001b[0m| 1/1 [00:01<00:00,  1.22s/it]                                                                                          \n",
      "rtf_avg: 0.042: 100%|\u001b[34m██████████\u001b[0m| 1/1 [00:01<00:00,  1.27s/it]                                                                                          \n",
      "rtf_avg: 0.041: 100%|\u001b[34m██████████\u001b[0m| 1/1 [00:01<00:00,  1.22s/it]                                                                                          \n",
      "rtf_avg: 0.042: 100%|\u001b[34m██████████\u001b[0m| 1/1 [00:01<00:00,  1.25s/it]                                                                                          \n",
      "rtf_avg: 0.042: 100%|\u001b[34m██████████\u001b[0m| 1/1 [00:01<00:00,  1.26s/it]                                                                                          \n",
      "rtf_avg: 0.042: 100%|\u001b[34m██████████\u001b[0m| 1/1 [00:01<00:00,  1.25s/it]                                                                                          \n",
      "rtf_avg: 0.042: 100%|\u001b[34m██████████\u001b[0m| 1/1 [00:01<00:00,  1.25s/it]                                                                                          \n",
      "rtf_avg: 0.041: 100%|\u001b[34m██████████\u001b[0m| 1/1 [00:01<00:00,  1.24s/it]                                                                                          \n",
      "rtf_avg: 0.042: 100%|\u001b[34m██████████\u001b[0m| 1/1 [00:01<00:00,  1.26s/it]                                                                                          \n",
      "rtf_avg: 0.041: 100%|\u001b[34m██████████\u001b[0m| 1/1 [00:01<00:00,  1.22s/it]                                                                                          \n",
      "rtf_avg: 0.042: 100%|\u001b[34m██████████\u001b[0m| 1/1 [00:01<00:00,  1.27s/it]                                                                                          \n",
      "rtf_avg: 0.041: 100%|\u001b[34m██████████\u001b[0m| 1/1 [00:01<00:00,  1.24s/it]                                                                                          \n",
      "rtf_avg: 0.041: 100%|\u001b[34m██████████\u001b[0m| 1/1 [00:01<00:00,  1.23s/it]                                                                                          \n",
      "rtf_avg: 0.041: 100%|\u001b[34m██████████\u001b[0m| 1/1 [00:01<00:00,  1.25s/it]                                                                                          \n",
      "rtf_avg: 0.042: 100%|\u001b[34m██████████\u001b[0m| 1/1 [00:01<00:00,  1.26s/it]                                                                                          \n",
      "rtf_avg: 0.042: 100%|\u001b[34m██████████\u001b[0m| 1/1 [00:01<00:00,  1.25s/it]                                                                                          \n",
      "rtf_avg: 0.041: 100%|\u001b[34m██████████\u001b[0m| 1/1 [00:01<00:00,  1.23s/it]                                                                                          \n",
      "rtf_avg: 0.041: 100%|\u001b[34m██████████\u001b[0m| 1/1 [00:01<00:00,  1.23s/it]                                                                                          \n",
      "rtf_avg: 0.041: 100%|\u001b[34m██████████\u001b[0m| 1/1 [00:01<00:00,  1.24s/it]                                                                                          \n",
      "rtf_avg: 0.040: 100%|\u001b[34m██████████\u001b[0m| 1/1 [00:01<00:00,  1.22s/it]                                                                                          \n",
      "rtf_avg: 0.041: 100%|\u001b[34m██████████\u001b[0m| 1/1 [00:01<00:00,  1.24s/it]                                                                                          \n",
      "rtf_avg: 0.041: 100%|\u001b[34m██████████\u001b[0m| 1/1 [00:01<00:00,  1.24s/it]                                                                                          \n",
      "rtf_avg: 0.041: 100%|\u001b[34m██████████\u001b[0m| 1/1 [00:01<00:00,  1.24s/it]                                                                                          \n",
      "rtf_avg: 0.041: 100%|\u001b[34m██████████\u001b[0m| 1/1 [00:01<00:00,  1.23s/it]                                                                                          \n",
      "rtf_avg: 0.041: 100%|\u001b[34m██████████\u001b[0m| 1/1 [00:01<00:00,  1.24s/it]                                                                                          \n",
      "rtf_avg: 0.042: 100%|\u001b[34m██████████\u001b[0m| 1/1 [00:01<00:00,  1.26s/it]                                                                                          \n",
      "rtf_avg: 0.041: 100%|\u001b[34m██████████\u001b[0m| 1/1 [00:01<00:00,  1.25s/it]                                                                                          \n",
      "rtf_avg: 0.042: 100%|\u001b[34m██████████\u001b[0m| 1/1 [00:01<00:00,  1.26s/it]                                                                                          \n",
      "rtf_avg: 0.042: 100%|\u001b[34m██████████\u001b[0m| 1/1 [00:01<00:00,  1.27s/it]                                                                                          \n",
      "rtf_avg: 0.041: 100%|\u001b[34m██████████\u001b[0m| 1/1 [00:01<00:00,  1.24s/it]                                                                                          \n",
      "rtf_avg: 0.042: 100%|\u001b[34m██████████\u001b[0m| 1/1 [00:01<00:00,  1.27s/it]                                                                                          \n",
      "rtf_avg: 0.042: 100%|\u001b[34m██████████\u001b[0m| 1/1 [00:01<00:00,  1.25s/it]                                                                                          \n",
      "rtf_avg: 0.042: 100%|\u001b[34m██████████\u001b[0m| 1/1 [00:01<00:00,  1.26s/it]                                                                                          \n",
      "rtf_avg: 0.041: 100%|\u001b[34m██████████\u001b[0m| 1/1 [00:01<00:00,  1.24s/it]                                                                                          \n",
      "rtf_avg: 0.042: 100%|\u001b[34m██████████\u001b[0m| 1/1 [00:01<00:00,  1.26s/it]                                                                                          \n",
      "rtf_avg: 0.044: 100%|\u001b[34m██████████\u001b[0m| 1/1 [00:01<00:00,  1.31s/it]                                                                                          \n",
      "rtf_avg: 0.042: 100%|\u001b[34m██████████\u001b[0m| 1/1 [00:01<00:00,  1.26s/it]                                                                                          \n",
      "rtf_avg: 0.041: 100%|\u001b[34m██████████\u001b[0m| 1/1 [00:01<00:00,  1.22s/it]                                                                                          \n",
      "rtf_avg: 0.041: 100%|\u001b[34m██████████\u001b[0m| 1/1 [00:01<00:00,  1.24s/it]                                                                                          \n",
      "rtf_avg: 0.041: 100%|\u001b[34m██████████\u001b[0m| 1/1 [00:01<00:00,  1.24s/it]                                                                                          \n",
      "rtf_avg: 0.041: 100%|\u001b[34m██████████\u001b[0m| 1/1 [00:01<00:00,  1.24s/it]                                                                                          \n",
      "rtf_avg: 0.040: 100%|\u001b[34m██████████\u001b[0m| 1/1 [00:01<00:00,  1.21s/it]                                                                                          \n",
      "rtf_avg: 0.041: 100%|\u001b[34m██████████\u001b[0m| 1/1 [00:01<00:00,  1.24s/it]                                                                                          \n",
      "rtf_avg: 0.043: 100%|\u001b[34m██████████\u001b[0m| 1/1 [00:01<00:00,  1.29s/it]                                                                                          \n",
      "rtf_avg: 0.042: 100%|\u001b[34m██████████\u001b[0m| 1/1 [00:01<00:00,  1.25s/it]                                                                                          \n",
      "rtf_avg: 0.042: 100%|\u001b[34m██████████\u001b[0m| 1/1 [00:01<00:00,  1.25s/it]                                                                                          \n",
      "rtf_avg: 0.042: 100%|\u001b[34m██████████\u001b[0m| 1/1 [00:01<00:00,  1.27s/it]                                                                                          \n",
      "rtf_avg: 0.043: 100%|\u001b[34m██████████\u001b[0m| 1/1 [00:01<00:00,  1.29s/it]                                                                                          \n",
      "rtf_avg: 0.042: 100%|\u001b[34m██████████\u001b[0m| 1/1 [00:01<00:00,  1.25s/it]                                                                                          \n",
      "rtf_avg: 0.041: 100%|\u001b[34m██████████\u001b[0m| 1/1 [00:01<00:00,  1.23s/it]                                                                                          \n",
      "rtf_avg: 0.041: 100%|\u001b[34m██████████\u001b[0m| 1/1 [00:01<00:00,  1.23s/it]                                                                                          \n",
      "rtf_avg: 0.042: 100%|\u001b[34m██████████\u001b[0m| 1/1 [00:01<00:00,  1.27s/it]                                                                                          \n",
      "rtf_avg: 0.041: 100%|\u001b[34m██████████\u001b[0m| 1/1 [00:01<00:00,  1.24s/it]                                                                                          \n",
      "rtf_avg: 0.042: 100%|\u001b[34m██████████\u001b[0m| 1/1 [00:01<00:00,  1.25s/it]                                                                                          \n",
      "rtf_avg: 0.042: 100%|\u001b[34m██████████\u001b[0m| 1/1 [00:01<00:00,  1.25s/it]                                                                                          \n",
      "rtf_avg: 0.041: 100%|\u001b[34m██████████\u001b[0m| 1/1 [00:01<00:00,  1.24s/it]                                                                                          \n",
      "rtf_avg: 0.041: 100%|\u001b[34m██████████\u001b[0m| 1/1 [00:01<00:00,  1.25s/it]                                                                                          \n",
      "rtf_avg: 0.042: 100%|\u001b[34m██████████\u001b[0m| 1/1 [00:01<00:00,  1.27s/it]                                                                                          \n",
      "rtf_avg: 0.042: 100%|\u001b[34m██████████\u001b[0m| 1/1 [00:01<00:00,  1.26s/it]                                                                                          \n",
      "rtf_avg: 0.042: 100%|\u001b[34m██████████\u001b[0m| 1/1 [00:01<00:00,  1.27s/it]                                                                                          \n",
      "rtf_avg: 0.041: 100%|\u001b[34m██████████\u001b[0m| 1/1 [00:01<00:00,  1.24s/it]                                                                                          \n",
      "rtf_avg: 0.042: 100%|\u001b[34m██████████\u001b[0m| 1/1 [00:01<00:00,  1.26s/it]                                                                                          \n",
      "rtf_avg: 0.043: 100%|\u001b[34m██████████\u001b[0m| 1/1 [00:01<00:00,  1.30s/it]                                                                                          \n",
      "rtf_avg: 0.042: 100%|\u001b[34m██████████\u001b[0m| 1/1 [00:01<00:00,  1.26s/it]                                                                                          \n",
      "rtf_avg: 0.041: 100%|\u001b[34m██████████\u001b[0m| 1/1 [00:01<00:00,  1.25s/it]                                                                                          \n",
      "rtf_avg: 0.041: 100%|\u001b[34m██████████\u001b[0m| 1/1 [00:01<00:00,  1.24s/it]                                                                                          \n",
      "rtf_avg: 0.042: 100%|\u001b[34m██████████\u001b[0m| 1/1 [00:01<00:00,  1.26s/it]                                                                                          \n",
      "rtf_avg: 0.043: 100%|\u001b[34m██████████\u001b[0m| 1/1 [00:01<00:00,  1.28s/it]                                                                                          \n",
      "rtf_avg: 0.041: 100%|\u001b[34m██████████\u001b[0m| 1/1 [00:01<00:00,  1.22s/it]                                                                                          \n",
      "rtf_avg: 0.041: 100%|\u001b[34m██████████\u001b[0m| 1/1 [00:01<00:00,  1.23s/it]                                                                                          \n",
      "rtf_avg: 0.041: 100%|\u001b[34m██████████\u001b[0m| 1/1 [00:01<00:00,  1.23s/it]                                                                                          \n",
      "rtf_avg: 0.041: 100%|\u001b[34m██████████\u001b[0m| 1/1 [00:01<00:00,  1.24s/it]                                                                                          \n",
      "rtf_avg: 0.041: 100%|\u001b[34m██████████\u001b[0m| 1/1 [00:01<00:00,  1.24s/it]                                                                                          \n",
      "rtf_avg: 0.039: 100%|\u001b[34m██████████\u001b[0m| 1/1 [00:01<00:00,  1.18s/it]                                                                                          \n",
      "rtf_avg: 0.043: 100%|\u001b[34m██████████\u001b[0m| 1/1 [00:01<00:00,  1.28s/it]                                                                                          \n",
      "rtf_avg: 0.042: 100%|\u001b[34m██████████\u001b[0m| 1/1 [00:01<00:00,  1.26s/it]                                                                                          \n",
      "rtf_avg: 0.041: 100%|\u001b[34m██████████\u001b[0m| 1/1 [00:01<00:00,  1.24s/it]                                                                                          \n",
      "rtf_avg: 0.043: 100%|\u001b[34m██████████\u001b[0m| 1/1 [00:01<00:00,  1.28s/it]                                                                                          \n",
      "rtf_avg: 0.041: 100%|\u001b[34m██████████\u001b[0m| 1/1 [00:01<00:00,  1.24s/it]                                                                                          \n",
      "rtf_avg: 0.042: 100%|\u001b[34m██████████\u001b[0m| 1/1 [00:01<00:00,  1.27s/it]                                                                                          \n",
      "rtf_avg: 0.042: 100%|\u001b[34m██████████\u001b[0m| 1/1 [00:01<00:00,  1.27s/it]                                                                                          \n",
      "rtf_avg: 0.043: 100%|\u001b[34m██████████\u001b[0m| 1/1 [00:01<00:00,  1.28s/it]                                                                                          \n",
      "rtf_avg: 0.042: 100%|\u001b[34m██████████\u001b[0m| 1/1 [00:01<00:00,  1.25s/it]                                                                                          \n",
      "rtf_avg: 0.041: 100%|\u001b[34m██████████\u001b[0m| 1/1 [00:01<00:00,  1.22s/it]                                                                                          \n",
      "rtf_avg: 0.042: 100%|\u001b[34m██████████\u001b[0m| 1/1 [00:01<00:00,  1.27s/it]                                                                                          \n",
      "rtf_avg: 0.044: 100%|\u001b[34m██████████\u001b[0m| 1/1 [00:01<00:00,  1.31s/it]                                                                                          \n",
      "rtf_avg: 0.041: 100%|\u001b[34m██████████\u001b[0m| 1/1 [00:01<00:00,  1.24s/it]                                                                                          \n",
      "rtf_avg: 0.042: 100%|\u001b[34m██████████\u001b[0m| 1/1 [00:01<00:00,  1.27s/it]                                                                                          \n",
      "rtf_avg: 0.041: 100%|\u001b[34m██████████\u001b[0m| 1/1 [00:01<00:00,  1.22s/it]                                                                                          \n",
      "rtf_avg: 0.042: 100%|\u001b[34m██████████\u001b[0m| 1/1 [00:01<00:00,  1.25s/it]                                                                                          \n",
      "rtf_avg: 0.042: 100%|\u001b[34m██████████\u001b[0m| 1/1 [00:01<00:00,  1.25s/it]                                                                                          \n",
      "rtf_avg: 0.041: 100%|\u001b[34m██████████\u001b[0m| 1/1 [00:01<00:00,  1.24s/it]                                                                                          \n",
      "rtf_avg: 0.042: 100%|\u001b[34m██████████\u001b[0m| 1/1 [00:01<00:00,  1.26s/it]                                                                                          \n",
      "rtf_avg: 0.041: 100%|\u001b[34m██████████\u001b[0m| 1/1 [00:01<00:00,  1.22s/it]                                                                                          \n",
      "rtf_avg: 0.106: 100%|\u001b[34m██████████\u001b[0m| 1/1 [00:00<00:00,  2.31it/s]                                                                                          \n"
     ]
    }
   ],
   "source": [
    "audio_path = r'C:\\Users\\Administrator\\Desktop\\Backend-LLM\\audio_text_llm\\SenseVoiceSmall\\audio_sample\\听故事学中文 Learn Chinese with 12 Stories - The Easiest Way to Improve Chinese.mp3'\n",
    "audio_array, sampling_rate = librosa.load(audio_path, sr = None)\n",
    "# List to hold transcriptions\n",
    "transcriptions = []\n",
    "model = AutoModel(\n",
    "    model='paraformer-zh',\n",
    "    # init_param = pretrained_model_path\n",
    "    )\n",
    "for start in range(0, total_samples, chunk_samples):\n",
    "    end = min(start + chunk_samples, total_samples)\n",
    "    chunk = audio_array[start:end]\n",
    "\n",
    "    # Convert chunk to 16kHz if necessary\n",
    "    # Note: Ensure your model accepts the sample rate of 16kHz or resample if needed\n",
    "    chunk_resampled = librosa.resample(chunk, orig_sr = sampling_rate, target_sr = 16000)\n",
    "\n",
    "    # Process the chunk\n",
    "    res = model.generate(\n",
    "        input=chunk_resampled,\n",
    "        cache={},\n",
    "        language=\"auto\",\n",
    "        use_itn=True,\n",
    "        batch_size_s=60,\n",
    "        merge_vad=True,\n",
    "        merge_length_s=15,\n",
    "    )\n",
    "\n",
    "    # Get the transcribed text\n",
    "    text = rich_transcription_postprocess(res[0][\"text\"])\n",
    "    transcriptions.append(text)\n",
    "    # Combine all transcriptions into one\n",
    "full_transcription = \" \".join(transcriptions)\n",
    "# Save the transcription to a text file\n",
    "with open(\"transcription_'paraformer-zh.txt\", \"w\", encoding=\"utf-8\") as file:\n",
    "    file.write(full_transcription)\n"
   ]
  },
  {
   "cell_type": "code",
   "execution_count": 28,
   "metadata": {},
   "outputs": [],
   "source": [
    "# Resampling the Audio so it matches to the requirement of the model\n",
    "audio_16KHz = librosa.resample(audio_array,\n",
    "                               orig_sr=sampling_rate,\n",
    "                \n",
    "                               target_sr=16000)"
   ]
  },
  {
   "cell_type": "markdown",
   "metadata": {},
   "source": [
    "# paraformer-zh model with vad_model\n"
   ]
  },
  {
   "cell_type": "code",
   "execution_count": 21,
   "metadata": {},
   "outputs": [
    {
     "name": "stdout",
     "output_type": "stream",
     "text": [
      "funasr version: 1.1.6.\n",
      "Check update of funasr, and it would cost few times. You may disable it by set `disable_update=True` in AutoModel\n",
      "You are using the latest version of funasr-1.1.6\n"
     ]
    },
    {
     "name": "stderr",
     "output_type": "stream",
     "text": [
      "2024-09-12 16:43:37,907 - modelscope - WARNING - Using branch: master as version is unstable, use with caution\n",
      "2024-09-12 16:43:47,312 - modelscope - WARNING - Using branch: master as version is unstable, use with caution\n",
      "rtf_avg: 0.006: 100%|\u001b[34m██████████\u001b[0m| 1/1 [00:00<00:00, 22.41it/s]                                                                                          \n",
      "  0%|\u001b[31m          \u001b[0m| 0/1 [00:00<?, ?it/s]"
     ]
    },
    {
     "name": "stdout",
     "output_type": "stream",
     "text": [
      "\n"
     ]
    },
    {
     "name": "stderr",
     "output_type": "stream",
     "text": [
      "\n"
     ]
    }
   ],
   "source": [
    "model = AutoModel(\n",
    "    model='paraformer-zh',\n",
    "     vad_model=\"fsmn-vad\",\n",
    "     vad_kwargs={\"max_single_segment_time\": 30000},\n",
    "    device=\"cuda:0\",\n",
    "    #punc_model = \"ct-punc\"\n",
    ")\n",
    "\n",
    "# en\n",
    "res = model.generate(\n",
    "    input=audio_array,\n",
    "    cache={},\n",
    "    language=\"zn\",  # \"zn\", \"en\", \"yue\", \"ja\", \"ko\", \"nospeech\"\n",
    "    use_itn=True,\n",
    "    batch_size_s=60,\n",
    "    merge_vad=True,  #\n",
    "    merge_length_s=15,\n",
    ")\n",
    "text = rich_transcription_postprocess(res[0][\"text\"])\n",
    "print(text)\n",
    "# # Save the transcription to a text file\n",
    "# with open(\"./outdir/transcription_paraformer-zh.txt\", \"w\", encoding=\"utf-8\") as file:\n",
    "#     file.write(full_transcription)"
   ]
  },
  {
   "cell_type": "markdown",
   "metadata": {},
   "source": [
    "# SenseVoiceSmall Model with vad model"
   ]
  },
  {
   "cell_type": "code",
   "execution_count": null,
   "metadata": {},
   "outputs": [],
   "source": [
    "model = AutoModel(\n",
    "    model='iic/SenseVoiceSmall',\n",
    "     vad_model=\"fsmn-vad\",\n",
    "     vad_kwargs={\"max_single_segment_time\": 30000},\n",
    "    device=\"cuda:0\",\n",
    "    #punc_model = \"ct-punc\"\n",
    ")\n",
    "\n",
    "# en\n",
    "res = model.generate(\n",
    "    input=audio_16KHz,\n",
    "    cache={},\n",
    "    language=\"zn\",  # \"zn\", \"en\", \"yue\", \"ja\", \"ko\", \"nospeech\"\n",
    "    use_itn=True,\n",
    "    batch_size_s=60,\n",
    "    merge_vad=True,  #\n",
    "    merge_length_s=15,\n",
    ")\n",
    "text = rich_transcription_postprocess(res[0][\"text\"])\n",
    "print(text)"
   ]
  }
 ],
 "metadata": {
  "kernelspec": {
   "display_name": "sensevoice_env",
   "language": "python",
   "name": "python3"
  },
  "language_info": {
   "codemirror_mode": {
    "name": "ipython",
    "version": 3
   },
   "file_extension": ".py",
   "mimetype": "text/x-python",
   "name": "python",
   "nbconvert_exporter": "python",
   "pygments_lexer": "ipython3",
   "version": "3.10.9"
  }
 },
 "nbformat": 4,
 "nbformat_minor": 2
}
