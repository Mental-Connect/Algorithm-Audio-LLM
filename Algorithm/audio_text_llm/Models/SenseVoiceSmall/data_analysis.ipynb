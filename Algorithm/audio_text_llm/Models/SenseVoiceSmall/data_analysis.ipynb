{
 "cells": [
  {
   "cell_type": "code",
   "execution_count": 1,
   "metadata": {},
   "outputs": [
    {
     "name": "stderr",
     "output_type": "stream",
     "text": [
      "c:\\Users\\Administrator\\Desktop\\Backend-LLM\\audio_text_llm\\SenseVoiceSmall\\sensevoice_env\\Lib\\site-packages\\tqdm\\auto.py:21: TqdmWarning: IProgress not found. Please update jupyter and ipywidgets. See https://ipywidgets.readthedocs.io/en/stable/user_install.html\n",
      "  from .autonotebook import tqdm as notebook_tqdm\n"
     ]
    }
   ],
   "source": [
    "# Loading the libraries\n",
    "from datasets import load_dataset\n",
    "from transformers import pipeline\n",
    "from funasr import AutoModel\n",
    "from funasr.utils.postprocess_utils import rich_transcription_postprocess\n",
    "import librosa\n",
    "import numpy as np\n",
    "\n",
    "from IPython.display import Audio as IPythonAudio"
   ]
  },
  {
   "cell_type": "code",
   "execution_count": 2,
   "metadata": {},
   "outputs": [
    {
     "name": "stderr",
     "output_type": "stream",
     "text": [
      "C:\\Users\\Administrator\\AppData\\Local\\Temp\\ipykernel_144380\\3304871373.py:4: UserWarning: PySoundFile failed. Trying audioread instead.\n",
      "  audio_array, sample_rate = librosa.load(audio_path, sr=None)\n",
      "c:\\Users\\Administrator\\Desktop\\Backend-LLM\\audio_text_llm\\SenseVoiceSmall\\sensevoice_env\\Lib\\site-packages\\librosa\\core\\audio.py:184: FutureWarning: librosa.core.audio.__audioread_load\n",
      "\tDeprecated as of librosa version 0.10.0.\n",
      "\tIt will be removed in librosa version 1.0.\n",
      "  y, sr_native = __audioread_load(path, offset, duration, dtype)\n"
     ]
    }
   ],
   "source": [
    "# Load the MP3 file\n",
    "# audio_path = r'C:\\Users\\Administrator\\Desktop\\LLM_work\\SenseVoiceSmall\\example\\zh.mp3'\n",
    "audio_path = r'C:\\Users\\Administrator\\Desktop\\Backend-LLM\\audio_text_llm\\SenseVoiceSmall\\audio_sample\\听故事学中文 Learn Chinese with 12 Stories - The Easiest Way to Improve Chinese.mp3'\n",
    "audio_array, sample_rate = librosa.load(audio_path, sr=None)"
   ]
  },
  {
   "cell_type": "code",
   "execution_count": 3,
   "metadata": {},
   "outputs": [
    {
     "name": "stdout",
     "output_type": "stream",
     "text": [
      "Sample Rate: 44100\n",
      "Audio Array: [0. 0. 0. ... 0. 0. 0.]\n",
      "Audio Array datatype is Array:  True\n"
     ]
    }
   ],
   "source": [
    "# Print details\n",
    "print(\"Sample Rate:\", sample_rate)\n",
    "print(\"Audio Array:\", audio_array)\n",
    "print(\"Audio Array datatype is Array: \", isinstance(audio_array,np.ndarray) )"
   ]
  },
  {
   "cell_type": "code",
   "execution_count": 4,
   "metadata": {},
   "outputs": [],
   "source": [
    "# Resampling the Audio so it matches to the requirement of the model\n",
    "audio_16KHz = librosa.resample(audio_array,\n",
    "                               orig_sr=sample_rate,\n",
    "                               target_sr=16000)"
   ]
  },
  {
   "cell_type": "code",
   "execution_count": 5,
   "metadata": {},
   "outputs": [],
   "source": [
    "model_dir = \"FunAudioLLM/SenseVoiceSmall\""
   ]
  },
  {
   "cell_type": "markdown",
   "metadata": {},
   "source": [
    "# SenseVoiceSmall \n"
   ]
  },
  {
   "cell_type": "code",
   "execution_count": 6,
   "metadata": {},
   "outputs": [
    {
     "name": "stdout",
     "output_type": "stream",
     "text": [
      "funasr version: 1.1.6.\n",
      "Check update of funasr, and it would cost few times. You may disable it by set `disable_update=True` in AutoModel\n",
      "You are using the latest version of funasr-1.1.6\n"
     ]
    },
    {
     "name": "stderr",
     "output_type": "stream",
     "text": [
      "2024-09-06 14:29:28,485 - modelscope - WARNING - Using branch: master as version is unstable, use with caution\n",
      "c:\\Users\\Administrator\\Desktop\\Backend-LLM\\audio_text_llm\\SenseVoiceSmall\\sensevoice_env\\Lib\\site-packages\\funasr\\train_utils\\load_pretrained_model.py:38: FutureWarning: You are using `torch.load` with `weights_only=False` (the current default value), which uses the default pickle module implicitly. It is possible to construct malicious pickle data which will execute arbitrary code during unpickling (See https://github.com/pytorch/pytorch/blob/main/SECURITY.md#untrusted-models for more details). In a future release, the default value for `weights_only` will be flipped to `True`. This limits the functions that could be executed during unpickling. Arbitrary objects will no longer be allowed to be loaded via this mode unless they are explicitly allowlisted by the user via `torch.serialization.add_safe_globals`. We recommend you start setting `weights_only=True` for any use case where you don't have full control of the loaded file. Please open an issue on GitHub for any issues related to this experimental feature.\n",
      "  src_state = torch.load(path, map_location=map_location)\n",
      "rtf_avg: 0.052: 100%|\u001b[34m██████████\u001b[0m| 1/1 [00:00<00:00,  3.40it/s]                                                                                          "
     ]
    },
    {
     "name": "stdout",
     "output_type": "stream",
     "text": [
      "开饭时间早上9点至下午5点。\n"
     ]
    },
    {
     "name": "stderr",
     "output_type": "stream",
     "text": [
      "\n"
     ]
    }
   ],
   "source": [
    "# model_dir = r'C:/Users/Administrator/Desktop/LLM_work/SenseVoiceSmall'\n",
    "# pretrained_model_path=  r'C:\\Users\\Administrator\\Desktop\\LLM_work\\SenseVoiceSmall\\model.pt'\n",
    "model = AutoModel(\n",
    "    model='iic/SenseVoiceSmall',\n",
    "    # init_param = pretrained_model_path\n",
    ")\n",
    "\n",
    "# en\n",
    "res = model.generate(\n",
    "    input=audio_16KHz,\n",
    "    cache={},\n",
    "    language=\"auto\",  # \"zn\", \"en\", \"yue\", \"ja\", \"ko\", \"nospeech\"\n",
    "    use_itn=True,\n",
    "    batch_size_s=60,\n",
    "    merge_vad=True,  #\n",
    "    merge_length_s=15,\n",
    ")\n",
    "text = rich_transcription_postprocess(res[0][\"text\"])\n",
    "print(text)"
   ]
  },
  {
   "cell_type": "markdown",
   "metadata": {},
   "source": [
    "# paraformer-zh"
   ]
  },
  {
   "cell_type": "code",
   "execution_count": 9,
   "metadata": {},
   "outputs": [
    {
     "name": "stdout",
     "output_type": "stream",
     "text": [
      "funasr version: 1.1.6.\n",
      "Check update of funasr, and it would cost few times. You may disable it by set `disable_update=True` in AutoModel\n",
      "You are using the latest version of funasr-1.1.6\n"
     ]
    },
    {
     "name": "stderr",
     "output_type": "stream",
     "text": [
      "Fetching 10 files: 100%|██████████| 10/10 [00:00<00:00, 9993.58it/s]\n",
      "  0%|\u001b[34m          \u001b[0m| 0/1 [00:00<?, ?it/s]c:\\Users\\Administrator\\Desktop\\Backend-LLM\\audio_text_llm\\SenseVoiceSmall\\sensevoice_env\\Lib\\site-packages\\funasr\\models\\paraformer\\model.py:251: FutureWarning: `torch.cuda.amp.autocast(args...)` is deprecated. Please use `torch.amp.autocast('cuda', args...)` instead.\n",
      "  with autocast(False):\n",
      "c:\\Users\\Administrator\\Desktop\\Backend-LLM\\audio_text_llm\\SenseVoiceSmall\\sensevoice_env\\Lib\\site-packages\\funasr\\models\\paraformer\\cif_predictor.py:212: FutureWarning: `torch.cuda.amp.autocast(args...)` is deprecated. Please use `torch.amp.autocast('cuda', args...)` instead.\n",
      "  with autocast(False):\n",
      "rtf_avg: 0.042: 100%|\u001b[34m██████████\u001b[0m| 1/1 [00:00<00:00,  4.16it/s]                                                                                          "
     ]
    },
    {
     "name": "stdout",
     "output_type": "stream",
     "text": [
      "开放时间早上九点至下午五点\n"
     ]
    },
    {
     "name": "stderr",
     "output_type": "stream",
     "text": [
      "\n"
     ]
    }
   ],
   "source": [
    "model = AutoModel(\n",
    "    model='paraformer-zh',  # This is the directory of model path\n",
    "    device=\"cuda:0\",  # \"cuda:0\" for GPU (if CUDA is available) or \"cpu\" for CPU.\n",
    "    hub=\"hf\",   # \"hf\" for Hugging Face Hub, \"local\" for local filesystem.\n",
    ")\n",
    "\n",
    "# en\n",
    "res = model.generate(\n",
    "    input=audio_16KHz,\n",
    "    cache={},\n",
    "    language=\"zn\",\n",
    "    use_itn=True,\n",
    "    batch_size_s=60,\n",
    "    merge_vad=True,  #\n",
    "    merge_length_s=15,\n",
    ")\n",
    "text = rich_transcription_postprocess(res[0][\"text\"])\n",
    "print(text)\n",
    "\n"
   ]
  },
  {
   "cell_type": "markdown",
   "metadata": {},
   "source": [
    "# ct-punc"
   ]
  },
  {
   "cell_type": "code",
   "execution_count": 10,
   "metadata": {},
   "outputs": [
    {
     "name": "stdout",
     "output_type": "stream",
     "text": [
      "funasr version: 1.1.6.\n",
      "Check update of funasr, and it would cost few times. You may disable it by set `disable_update=True` in AutoModel\n",
      "You are using the latest version of funasr-1.1.6\n"
     ]
    },
    {
     "name": "stderr",
     "output_type": "stream",
     "text": [
      "2024-09-06 14:10:22,487 - modelscope - INFO - Use user-specified model revision: v2.0.4\n",
      "Downloading [README.md]: 100%|██████████| 10.6k/10.6k [00:02<00:00, 5.29kB/s]\n",
      "Building prefix dict from the default dictionary ...\n",
      "DEBUG:jieba:Building prefix dict from the default dictionary ...\n",
      "Loading model from cache C:\\Users\\Administrator\\AppData\\Local\\Temp\\jieba.cache\n",
      "DEBUG:jieba:Loading model from cache C:\\Users\\Administrator\\AppData\\Local\\Temp\\jieba.cache\n",
      "Loading model cost 0.393 seconds.\n",
      "DEBUG:jieba:Loading model cost 0.393 seconds.\n",
      "Prefix dict has been built successfully.\n",
      "DEBUG:jieba:Prefix dict has been built successfully.\n",
      "rtf_avg: -0.026: 100%|\u001b[34m██████████\u001b[0m| 1/1 [00:00<00:00, 37.55it/s]                                                                                  "
     ]
    },
    {
     "name": "stdout",
     "output_type": "stream",
     "text": [
      "[{'key': 'rand_key_2yW4Acq9GFz6Y', 'text': '那今天的会就到这里吧，happy new year,明年见。', 'punc_array': tensor([1, 1, 1, 1, 1, 1, 1, 1, 1, 2, 1, 1, 2, 1, 1, 3])}]\n"
     ]
    },
    {
     "name": "stderr",
     "output_type": "stream",
     "text": [
      "\n"
     ]
    }
   ],
   "source": [
    "# This model is used to detect the punctuation in the generated text\n",
    "model = AutoModel(model=\"ct-punc\", model_revision=\"v2.0.4\")\n",
    "res = model.generate(input=\"那今天的会就到这里吧 happy new year 明年见\")\n",
    "print(res)"
   ]
  },
  {
   "cell_type": "markdown",
   "metadata": {},
   "source": [
    "# fsmn-vad"
   ]
  },
  {
   "cell_type": "code",
   "execution_count": 11,
   "metadata": {},
   "outputs": [
    {
     "name": "stdout",
     "output_type": "stream",
     "text": [
      "funasr version: 1.1.6.\n",
      "Check update of funasr, and it would cost few times. You may disable it by set `disable_update=True` in AutoModel\n",
      "You are using the latest version of funasr-1.1.6\n"
     ]
    },
    {
     "name": "stderr",
     "output_type": "stream",
     "text": [
      "2024-09-06 14:10:44,028 - modelscope - INFO - Use user-specified model revision: v2.0.4\n",
      "rtf_avg: 0.005: 100%|\u001b[34m██████████\u001b[0m| 1/1 [00:00<00:00, 31.15it/s]                                                                                          "
     ]
    },
    {
     "name": "stdout",
     "output_type": "stream",
     "text": [
      "[{'key': 'rand_key_2yW4Acq9GFz6Y', 'value': [[420, 5600]]}]\n"
     ]
    },
    {
     "name": "stderr",
     "output_type": "stream",
     "text": [
      "\n"
     ]
    }
   ],
   "source": [
    "from funasr import AutoModel\n",
    "\n",
    "model = AutoModel(model=\"fsmn-vad\", model_revision=\"v2.0.4\")\n",
    "\n",
    "res = model.generate(input=audio_16KHz)\n",
    "print(res)"
   ]
  },
  {
   "cell_type": "markdown",
   "metadata": {},
   "source": [
    "# Combined all"
   ]
  },
  {
   "cell_type": "code",
   "execution_count": 12,
   "metadata": {},
   "outputs": [
    {
     "name": "stdout",
     "output_type": "stream",
     "text": [
      "funasr version: 1.1.6.\n",
      "Check update of funasr, and it would cost few times. You may disable it by set `disable_update=True` in AutoModel\n",
      "You are using the latest version of funasr-1.1.6\n"
     ]
    },
    {
     "name": "stderr",
     "output_type": "stream",
     "text": [
      "2024-09-06 15:39:31,145 - modelscope - WARNING - Using branch: master as version is unstable, use with caution\n",
      "2024-09-06 15:39:35,738 - modelscope - WARNING - Using branch: master as version is unstable, use with caution\n",
      "rtf_avg: 5.553: 100%|\u001b[34m██████████\u001b[0m| 1/1 [00:22<00:00, 22.60s/it]                                                                                            \n",
      "rtf_avg: 0.396: 100%|\u001b[34m██████████\u001b[0m| 1/1 [00:00<00:00,  8.21it/s]\n",
      "rtf_avg: 0.386: 100%|\u001b[34m██████████\u001b[0m| 1/1 [00:00<00:00,  8.40it/s]\n",
      "rtf_avg: 0.390: 100%|\u001b[34m██████████\u001b[0m| 1/1 [00:00<00:00,  8.33it/s]\n",
      "rtf_avg: 0.390: 100%|\u001b[34m██████████\u001b[0m| 1/1 [00:00<00:00,  8.33it/s]\n",
      "rtf_avg: 0.385: 100%|\u001b[34m██████████\u001b[0m| 1/1 [00:00<00:00,  8.43it/s]\n",
      "rtf_avg: 0.386: 100%|\u001b[34m██████████\u001b[0m| 1/1 [00:00<00:00,  8.40it/s]\n",
      "rtf_avg: 0.383: 100%|\u001b[34m██████████\u001b[0m| 1/1 [00:00<00:00,  8.47it/s]\n",
      "rtf_avg: 0.390: 100%|\u001b[34m██████████\u001b[0m| 1/1 [00:00<00:00,  8.22it/s]\n",
      "rtf_avg: 0.341: 100%|\u001b[34m██████████\u001b[0m| 1/1 [00:00<00:00,  9.47it/s]\n",
      "rtf_avg: 0.312: 100%|\u001b[34m██████████\u001b[0m| 1/1 [00:00<00:00, 10.52it/s]\n",
      "rtf_avg: 0.406: 100%|\u001b[34m██████████\u001b[0m| 1/1 [00:00<00:00,  8.04it/s]\n",
      "rtf_avg: 0.313: 100%|\u001b[34m██████████\u001b[0m| 1/1 [00:00<00:00, 10.45it/s]\n",
      "rtf_avg: 0.294: 100%|\u001b[34m██████████\u001b[0m| 1/1 [00:00<00:00, 10.99it/s]\n",
      "rtf_avg: 0.212: 100%|\u001b[34m██████████\u001b[0m| 1/1 [00:00<00:00, 10.96it/s]\n",
      "rtf_avg: 0.176: 100%|\u001b[34m██████████\u001b[0m| 1/1 [00:00<00:00, 10.24it/s]\n",
      "rtf_avg: 0.176: 100%|\u001b[34m██████████\u001b[0m| 1/1 [00:00<00:00,  9.26it/s]\n",
      "rtf_avg: 0.160: 100%|\u001b[34m██████████\u001b[0m| 1/1 [00:00<00:00, 10.24it/s]\n",
      "rtf_avg: 0.155: 100%|\u001b[34m██████████\u001b[0m| 1/1 [00:00<00:00,  9.62it/s]\n",
      "rtf_avg: 0.146: 100%|\u001b[34m██████████\u001b[0m| 1/1 [00:00<00:00, 10.17it/s]\n",
      "rtf_avg: 0.134: 100%|\u001b[34m██████████\u001b[0m| 1/1 [00:00<00:00, 10.10it/s]\n",
      "rtf_avg: 0.102: 100%|\u001b[34m██████████\u001b[0m| 1/1 [00:00<00:00,  8.81it/s]\n",
      "rtf_avg: 0.091: 100%|\u001b[34m██████████\u001b[0m| 1/1 [00:00<00:00,  8.88it/s]\n",
      "rtf_avg: 0.073: 100%|\u001b[34m██████████\u001b[0m| 1/1 [00:00<00:00,  7.96it/s]\n",
      "rtf_avg: 0.064: 100%|\u001b[34m██████████\u001b[0m| 1/1 [00:00<00:00,  7.99it/s]\n",
      "rtf_avg: 0.068: 100%|\u001b[34m██████████\u001b[0m| 1/1 [00:00<00:00,  4.94it/s]\n",
      "rtf_avg: 0.066: 100%|\u001b[34m██████████\u001b[0m| 1/1 [00:00<00:00,  4.95it/s]\n",
      "rtf_avg: 0.056: 100%|\u001b[34m██████████\u001b[0m| 1/1 [00:00<00:00,  5.67it/s]\n",
      "rtf_avg: 0.072: 100%|\u001b[34m██████████\u001b[0m| 1/1 [00:00<00:00,  4.15it/s]\n",
      "rtf_avg: 0.051: 100%|\u001b[34m██████████\u001b[0m| 1/1 [00:00<00:00,  5.29it/s]\n",
      "rtf_avg: 0.054: 100%|\u001b[34m██████████\u001b[0m| 1/1 [00:00<00:00,  4.68it/s]\n",
      "rtf_avg: 0.049: 100%|\u001b[34m██████████\u001b[0m| 1/1 [00:00<00:00,  5.04it/s]\n",
      "rtf_avg: 0.049: 100%|\u001b[34m██████████\u001b[0m| 1/1 [00:00<00:00,  4.95it/s]\n",
      "rtf_avg: 0.050: 100%|\u001b[34m██████████\u001b[0m| 1/1 [00:00<00:00,  4.30it/s]\n",
      "rtf_avg: 0.048: 100%|\u001b[34m██████████\u001b[0m| 1/1 [00:00<00:00,  4.44it/s]\n",
      "rtf_avg: 0.045: 100%|\u001b[34m██████████\u001b[0m| 1/1 [00:00<00:00,  4.59it/s]\n",
      "rtf_avg: 0.051: 100%|\u001b[34m██████████\u001b[0m| 1/1 [00:00<00:00,  3.99it/s]\n",
      "rtf_avg: 0.051: 100%|\u001b[34m██████████\u001b[0m| 1/1 [00:00<00:00,  3.99it/s]\n",
      "rtf_avg: 0.045: 100%|\u001b[34m██████████\u001b[0m| 1/1 [00:00<00:00,  4.42it/s]\n",
      "rtf_avg: 0.042: 100%|\u001b[34m██████████\u001b[0m| 1/1 [00:00<00:00,  4.61it/s]\n",
      "rtf_avg: 0.051: 100%|\u001b[34m██████████\u001b[0m| 1/1 [00:00<00:00,  3.75it/s]\n",
      "rtf_avg: 0.046: 100%|\u001b[34m██████████\u001b[0m| 1/1 [00:00<00:00,  4.21it/s]\n",
      "rtf_avg: 0.049: 100%|\u001b[34m██████████\u001b[0m| 1/1 [00:00<00:00,  4.00it/s]\n",
      "rtf_avg: 0.048: 100%|\u001b[34m██████████\u001b[0m| 1/1 [00:00<00:00,  3.99it/s]\n",
      "rtf_avg: 0.056: 100%|\u001b[34m██████████\u001b[0m| 1/1 [00:00<00:00,  3.33it/s]\n",
      "rtf_avg: 0.049: 100%|\u001b[34m██████████\u001b[0m| 1/1 [00:00<00:00,  3.72it/s]\n",
      "rtf_avg: 0.048: 100%|\u001b[34m██████████\u001b[0m| 1/1 [00:00<00:00,  3.70it/s]\n",
      "rtf_avg: 0.045: 100%|\u001b[34m██████████\u001b[0m| 1/1 [00:00<00:00,  3.95it/s]\n",
      "rtf_avg: 0.042: 100%|\u001b[34m██████████\u001b[0m| 1/1 [00:00<00:00,  4.03it/s]\n",
      "rtf_avg: 0.042: 100%|\u001b[34m██████████\u001b[0m| 1/1 [00:00<00:00,  4.05it/s]\n",
      "rtf_avg: 0.041: 100%|\u001b[34m██████████\u001b[0m| 1/1 [00:00<00:00,  4.14it/s]\n",
      "rtf_avg: 0.040: 100%|\u001b[34m██████████\u001b[0m| 1/1 [00:00<00:00,  4.17it/s]\n",
      "rtf_avg: 0.039: 100%|\u001b[34m██████████\u001b[0m| 1/1 [00:00<00:00,  4.24it/s]\n",
      "rtf_avg: 0.046: 100%|\u001b[34m██████████\u001b[0m| 1/1 [00:00<00:00,  3.47it/s]\n",
      "rtf_avg: 0.046: 100%|\u001b[34m██████████\u001b[0m| 1/1 [00:00<00:00,  3.49it/s]\n",
      "rtf_avg: 0.042: 100%|\u001b[34m██████████\u001b[0m| 1/1 [00:00<00:00,  3.75it/s]\n",
      "rtf_avg: 0.043: 100%|\u001b[34m██████████\u001b[0m| 1/1 [00:00<00:00,  3.71it/s]\n",
      "rtf_avg: 0.040: 100%|\u001b[34m██████████\u001b[0m| 1/1 [00:00<00:00,  3.94it/s]\n",
      "rtf_avg: 0.039: 100%|\u001b[34m██████████\u001b[0m| 1/1 [00:00<00:00,  4.00it/s]\n",
      "rtf_avg: 0.047: 100%|\u001b[34m██████████\u001b[0m| 1/1 [00:00<00:00,  3.27it/s]\n",
      "rtf_avg: 0.044: 100%|\u001b[34m██████████\u001b[0m| 1/1 [00:00<00:00,  3.39it/s]\n",
      "rtf_avg: 0.042: 100%|\u001b[34m██████████\u001b[0m| 1/1 [00:00<00:00,  3.47it/s]\n",
      "rtf_avg: 0.045: 100%|\u001b[34m██████████\u001b[0m| 1/1 [00:00<00:00,  3.22it/s]\n",
      "rtf_avg: 0.044: 100%|\u001b[34m██████████\u001b[0m| 1/1 [00:00<00:00,  3.30it/s]\n",
      "rtf_avg: 0.043: 100%|\u001b[34m██████████\u001b[0m| 1/1 [00:00<00:00,  3.33it/s]\n",
      "rtf_avg: 0.040: 100%|\u001b[34m██████████\u001b[0m| 1/1 [00:00<00:00,  3.51it/s]\n",
      "rtf_avg: 0.042: 100%|\u001b[34m██████████\u001b[0m| 1/1 [00:00<00:00,  3.35it/s]\n",
      "rtf_avg: 0.046: 100%|\u001b[34m██████████\u001b[0m| 1/1 [00:00<00:00,  2.98it/s]\n",
      "rtf_avg: 0.043: 100%|\u001b[34m██████████\u001b[0m| 1/1 [00:00<00:00,  3.20it/s]\n",
      "rtf_avg: 0.039: 100%|\u001b[34m██████████\u001b[0m| 1/1 [00:00<00:00,  3.56it/s]\n",
      "rtf_avg: 0.044: 100%|\u001b[34m██████████\u001b[0m| 1/1 [00:00<00:00,  3.07it/s]\n",
      "rtf_avg: 0.043: 100%|\u001b[34m██████████\u001b[0m| 1/1 [00:00<00:00,  3.14it/s]\n",
      "rtf_avg: 0.043: 100%|\u001b[34m██████████\u001b[0m| 1/1 [00:00<00:00,  3.14it/s]\n",
      "rtf_avg: 0.039: 100%|\u001b[34m██████████\u001b[0m| 1/1 [00:00<00:00,  3.46it/s]\n",
      "rtf_avg: 0.043: 100%|\u001b[34m██████████\u001b[0m| 1/1 [00:00<00:00,  3.06it/s]\n",
      "rtf_avg: 0.040: 100%|\u001b[34m██████████\u001b[0m| 1/1 [00:00<00:00,  3.23it/s]\n",
      "rtf_avg: 0.039: 100%|\u001b[34m██████████\u001b[0m| 1/1 [00:00<00:00,  3.30it/s]\n",
      "rtf_avg: 0.042: 100%|\u001b[34m██████████\u001b[0m| 1/1 [00:00<00:00,  2.99it/s]\n",
      "rtf_avg: 0.037: 100%|\u001b[34m██████████\u001b[0m| 1/1 [00:00<00:00,  3.38it/s]\n",
      "rtf_avg: 0.036: 100%|\u001b[34m██████████\u001b[0m| 1/1 [00:00<00:00,  3.48it/s]\n",
      "rtf_avg: 0.035: 100%|\u001b[34m██████████\u001b[0m| 1/1 [00:00<00:00,  3.57it/s]\n",
      "rtf_avg: 0.047: 100%|\u001b[34m██████████\u001b[0m| 1/1 [00:00<00:00,  2.67it/s]\n",
      "rtf_avg: 0.048: 100%|\u001b[34m██████████\u001b[0m| 1/1 [00:00<00:00,  2.59it/s]\n",
      "rtf_avg: 0.039: 100%|\u001b[34m██████████\u001b[0m| 1/1 [00:00<00:00,  3.15it/s]\n",
      "rtf_avg: 0.039: 100%|\u001b[34m██████████\u001b[0m| 1/1 [00:00<00:00,  3.14it/s]\n",
      "rtf_avg: 0.039: 100%|\u001b[34m██████████\u001b[0m| 1/1 [00:00<00:00,  3.13it/s]\n",
      "rtf_avg: 0.041: 100%|\u001b[34m██████████\u001b[0m| 1/1 [00:00<00:00,  2.94it/s]\n",
      "rtf_avg: 0.042: 100%|\u001b[34m██████████\u001b[0m| 1/1 [00:00<00:00,  2.86it/s]\n",
      "rtf_avg: 0.039: 100%|\u001b[34m██████████\u001b[0m| 1/1 [00:00<00:00,  3.09it/s]\n",
      "rtf_avg: 0.035: 100%|\u001b[34m██████████\u001b[0m| 1/1 [00:00<00:00,  3.39it/s]\n",
      "rtf_avg: 0.038: 100%|\u001b[34m██████████\u001b[0m| 1/1 [00:00<00:00,  3.13it/s]\n",
      "rtf_avg: 0.036: 100%|\u001b[34m██████████\u001b[0m| 1/1 [00:00<00:00,  3.24it/s]\n",
      "rtf_avg: 0.040: 100%|\u001b[34m██████████\u001b[0m| 1/1 [00:00<00:00,  2.98it/s]\n",
      "rtf_avg: 0.036: 100%|\u001b[34m██████████\u001b[0m| 1/1 [00:00<00:00,  3.23it/s]\n",
      "rtf_avg: 0.042: 100%|\u001b[34m██████████\u001b[0m| 1/1 [00:00<00:00,  2.78it/s]\n",
      "rtf_avg: 0.042: 100%|\u001b[34m██████████\u001b[0m| 1/1 [00:00<00:00,  2.79it/s]\n",
      "rtf_avg: 0.039: 100%|\u001b[34m██████████\u001b[0m| 1/1 [00:00<00:00,  3.04it/s]\n",
      "rtf_avg: 0.035: 100%|\u001b[34m██████████\u001b[0m| 1/1 [00:00<00:00,  3.30it/s]\n",
      "rtf_avg: 0.038: 100%|\u001b[34m██████████\u001b[0m| 1/1 [00:00<00:00,  3.05it/s]\n",
      "rtf_avg: 0.038: 100%|\u001b[34m██████████\u001b[0m| 1/1 [00:00<00:00,  3.05it/s]\n",
      "rtf_avg: 0.042: 100%|\u001b[34m██████████\u001b[0m| 1/1 [00:00<00:00,  2.77it/s]\n",
      "rtf_avg: 0.040: 100%|\u001b[34m██████████\u001b[0m| 1/1 [00:00<00:00,  2.85it/s]\n",
      "rtf_avg: 0.042: 100%|\u001b[34m██████████\u001b[0m| 1/1 [00:00<00:00,  2.75it/s]\n",
      "rtf_avg: 0.034: 100%|\u001b[34m██████████\u001b[0m| 1/1 [00:00<00:00,  3.30it/s]\n",
      "rtf_avg: 0.034: 100%|\u001b[34m██████████\u001b[0m| 1/1 [00:00<00:00,  3.33it/s]\n",
      "rtf_avg: 0.035: 100%|\u001b[34m██████████\u001b[0m| 1/1 [00:00<00:00,  3.23it/s]\n",
      "rtf_avg: 0.041: 100%|\u001b[34m██████████\u001b[0m| 1/1 [00:00<00:00,  2.78it/s]\n",
      "rtf_avg: 0.041: 100%|\u001b[34m██████████\u001b[0m| 1/1 [00:00<00:00,  2.74it/s]\n",
      "rtf_avg: 0.036: 100%|\u001b[34m██████████\u001b[0m| 1/1 [00:00<00:00,  3.11it/s]\n",
      "rtf_avg: 0.035: 100%|\u001b[34m██████████\u001b[0m| 1/1 [00:00<00:00,  3.22it/s]\n",
      "rtf_avg: 0.035: 100%|\u001b[34m██████████\u001b[0m| 1/1 [00:00<00:00,  3.19it/s]\n",
      "rtf_avg: 0.034: 100%|\u001b[34m██████████\u001b[0m| 1/1 [00:00<00:00,  3.27it/s]\n",
      "rtf_avg: 0.033: 100%|\u001b[34m██████████\u001b[0m| 1/1 [00:00<00:00,  3.31it/s]\n",
      "rtf_avg: 0.039: 100%|\u001b[34m██████████\u001b[0m| 1/1 [00:00<00:00,  2.84it/s]\n",
      "rtf_avg: 0.036: 100%|\u001b[34m██████████\u001b[0m| 1/1 [00:00<00:00,  3.06it/s]\n",
      "rtf_avg: 0.033: 100%|\u001b[34m██████████\u001b[0m| 1/1 [00:00<00:00,  3.32it/s]\n",
      "rtf_avg: 0.033: 100%|\u001b[34m██████████\u001b[0m| 1/1 [00:00<00:00,  3.29it/s]\n",
      "rtf_avg: 0.036: 100%|\u001b[34m██████████\u001b[0m| 1/1 [00:00<00:00,  2.97it/s]\n",
      "rtf_avg: 0.036: 100%|\u001b[34m██████████\u001b[0m| 1/1 [00:00<00:00,  3.00it/s]\n",
      "rtf_avg: 0.040: 100%|\u001b[34m██████████\u001b[0m| 1/1 [00:00<00:00,  2.73it/s]\n",
      "rtf_avg: 0.038: 100%|\u001b[34m██████████\u001b[0m| 1/1 [00:00<00:00,  2.84it/s]\n",
      "rtf_avg: 0.037: 100%|\u001b[34m██████████\u001b[0m| 1/1 [00:00<00:00,  2.87it/s]\n",
      "rtf_avg: 0.040: 100%|\u001b[34m██████████\u001b[0m| 1/1 [00:00<00:00,  2.63it/s]\n",
      "rtf_avg: 0.037: 100%|\u001b[34m██████████\u001b[0m| 1/1 [00:00<00:00,  2.87it/s]\n",
      "rtf_avg: 0.034: 100%|\u001b[34m██████████\u001b[0m| 1/1 [00:00<00:00,  3.10it/s]\n",
      "rtf_avg: 0.039: 100%|\u001b[34m██████████\u001b[0m| 1/1 [00:00<00:00,  2.69it/s]\n",
      "rtf_avg: 0.038: 100%|\u001b[34m██████████\u001b[0m| 1/1 [00:00<00:00,  2.70it/s]\n",
      "rtf_avg: 0.036: 100%|\u001b[34m██████████\u001b[0m| 1/1 [00:00<00:00,  2.84it/s]\n",
      "rtf_avg: 0.036: 100%|\u001b[34m██████████\u001b[0m| 1/1 [00:00<00:00,  2.81it/s]\n",
      "rtf_avg: 0.035: 100%|\u001b[34m██████████\u001b[0m| 1/1 [00:00<00:00,  2.89it/s]\n",
      "rtf_avg: 0.043: 100%|\u001b[34m██████████\u001b[0m| 1/1 [00:00<00:00,  2.33it/s]\n",
      "rtf_avg: 0.038: 100%|\u001b[34m██████████\u001b[0m| 1/1 [00:00<00:00,  2.58it/s]\n",
      "rtf_avg: 0.040: 100%|\u001b[34m██████████\u001b[0m| 1/1 [00:00<00:00,  2.45it/s]\n",
      "rtf_avg: 0.037: 100%|\u001b[34m██████████\u001b[0m| 1/1 [00:00<00:00,  2.71it/s]\n",
      "rtf_avg: 0.034: 100%|\u001b[34m██████████\u001b[0m| 1/1 [00:00<00:00,  2.86it/s]\n",
      "rtf_avg: 0.035: 100%|\u001b[34m██████████\u001b[0m| 1/1 [00:00<00:00,  2.78it/s]\n",
      "rtf_avg: 0.035: 100%|\u001b[34m██████████\u001b[0m| 1/1 [00:00<00:00,  2.80it/s]\n",
      "rtf_avg: 0.039: 100%|\u001b[34m██████████\u001b[0m| 1/1 [00:00<00:00,  2.49it/s]\n",
      "rtf_avg: 0.037: 100%|\u001b[34m██████████\u001b[0m| 1/1 [00:00<00:00,  2.63it/s]\n",
      "rtf_avg: 0.037: 100%|\u001b[34m██████████\u001b[0m| 1/1 [00:00<00:00,  2.61it/s]\n",
      "rtf_avg: 0.036: 100%|\u001b[34m██████████\u001b[0m| 1/1 [00:00<00:00,  2.68it/s]\n",
      "rtf_avg: 0.035: 100%|\u001b[34m██████████\u001b[0m| 1/1 [00:00<00:00,  2.75it/s]\n",
      "rtf_avg: 0.039: 100%|\u001b[34m██████████\u001b[0m| 1/1 [00:00<00:00,  2.44it/s]\n",
      "rtf_avg: 0.038: 100%|\u001b[34m██████████\u001b[0m| 1/1 [00:00<00:00,  2.48it/s]\n",
      "rtf_avg: 0.036: 100%|\u001b[34m██████████\u001b[0m| 1/1 [00:00<00:00,  2.64it/s]\n",
      "rtf_avg: 0.036: 100%|\u001b[34m██████████\u001b[0m| 1/1 [00:00<00:00,  2.59it/s]\n",
      "rtf_avg: 0.037: 100%|\u001b[34m██████████\u001b[0m| 1/1 [00:00<00:00,  2.56it/s]\n",
      "rtf_avg: 0.039: 100%|\u001b[34m██████████\u001b[0m| 1/1 [00:00<00:00,  2.41it/s]\n",
      "rtf_avg: 0.041: 100%|\u001b[34m██████████\u001b[0m| 1/1 [00:00<00:00,  2.25it/s]\n",
      "rtf_avg: 0.038: 100%|\u001b[34m██████████\u001b[0m| 1/1 [00:00<00:00,  2.49it/s]\n",
      "rtf_avg: 0.035: 100%|\u001b[34m██████████\u001b[0m| 1/1 [00:00<00:00,  2.66it/s]\n",
      "rtf_avg: 0.039: 100%|\u001b[34m██████████\u001b[0m| 1/1 [00:00<00:00,  2.37it/s]\n",
      "rtf_avg: 0.035: 100%|\u001b[34m██████████\u001b[0m| 1/1 [00:00<00:00,  2.62it/s]\n",
      "rtf_avg: 0.038: 100%|\u001b[34m██████████\u001b[0m| 1/1 [00:00<00:00,  2.43it/s]\n",
      "rtf_avg: 0.034: 100%|\u001b[34m██████████\u001b[0m| 1/1 [00:00<00:00,  2.76it/s]\n",
      "rtf_avg: 0.034: 100%|\u001b[34m██████████\u001b[0m| 1/1 [00:00<00:00,  2.73it/s]\n",
      "rtf_avg: 0.033: 100%|\u001b[34m██████████\u001b[0m| 1/1 [00:00<00:00,  2.80it/s]\n",
      "rtf_avg: 0.035: 100%|\u001b[34m██████████\u001b[0m| 1/1 [00:00<00:00,  2.65it/s]\n",
      "rtf_avg: 0.036: 100%|\u001b[34m██████████\u001b[0m| 1/1 [00:00<00:00,  2.54it/s]\n",
      "rtf_avg: 0.035: 100%|\u001b[34m██████████\u001b[0m| 1/1 [00:00<00:00,  2.60it/s]\n",
      "rtf_avg: 0.034: 100%|\u001b[34m██████████\u001b[0m| 1/1 [00:00<00:00,  2.69it/s]\n",
      "rtf_avg: 0.032: 100%|\u001b[34m██████████\u001b[0m| 1/1 [00:00<00:00,  2.78it/s]\n",
      "rtf_avg: 0.035: 100%|\u001b[34m██████████\u001b[0m| 1/1 [00:00<00:00,  2.60it/s]\n",
      "rtf_avg: 0.033: 100%|\u001b[34m██████████\u001b[0m| 1/1 [00:00<00:00,  2.75it/s]\n",
      "rtf_avg: 0.036: 100%|\u001b[34m██████████\u001b[0m| 1/1 [00:00<00:00,  2.45it/s]\n",
      "rtf_avg: 0.032: 100%|\u001b[34m██████████\u001b[0m| 1/1 [00:00<00:00,  2.74it/s]\n",
      "rtf_avg: 0.035: 100%|\u001b[34m██████████\u001b[0m| 1/1 [00:00<00:00,  2.52it/s]\n",
      "rtf_avg: 0.035: 100%|\u001b[34m██████████\u001b[0m| 1/1 [00:00<00:00,  2.55it/s]\n",
      "rtf_avg: 0.032: 100%|\u001b[34m██████████\u001b[0m| 1/1 [00:00<00:00,  2.77it/s]\n",
      "rtf_avg: 0.036: 100%|\u001b[34m██████████\u001b[0m| 1/1 [00:00<00:00,  2.46it/s]\n",
      "rtf_avg: 0.035: 100%|\u001b[34m██████████\u001b[0m| 1/1 [00:00<00:00,  2.54it/s]\n",
      "rtf_avg: 0.038: 100%|\u001b[34m██████████\u001b[0m| 1/1 [00:00<00:00,  2.33it/s]\n",
      "rtf_avg: 0.042: 100%|\u001b[34m██████████\u001b[0m| 1/1 [00:00<00:00,  2.11it/s]\n",
      "rtf_avg: 0.034: 100%|\u001b[34m██████████\u001b[0m| 1/1 [00:00<00:00,  2.54it/s]\n",
      "rtf_avg: 0.046: 100%|\u001b[34m██████████\u001b[0m| 1/1 [00:00<00:00,  1.89it/s]\n",
      "rtf_avg: 0.036: 100%|\u001b[34m██████████\u001b[0m| 1/1 [00:00<00:00,  2.43it/s]\n",
      "rtf_avg: 0.036: 100%|\u001b[34m██████████\u001b[0m| 1/1 [00:00<00:00,  2.42it/s]\n",
      "rtf_avg: 0.035: 100%|\u001b[34m██████████\u001b[0m| 1/1 [00:00<00:00,  2.50it/s]\n",
      "rtf_avg: 0.034: 100%|\u001b[34m██████████\u001b[0m| 1/1 [00:00<00:00,  2.49it/s]\n",
      "rtf_avg: 0.036: 100%|\u001b[34m██████████\u001b[0m| 1/1 [00:00<00:00,  2.38it/s]\n",
      "rtf_avg: 0.034: 100%|\u001b[34m██████████\u001b[0m| 1/1 [00:00<00:00,  2.47it/s]\n",
      "rtf_avg: 0.032: 100%|\u001b[34m██████████\u001b[0m| 1/1 [00:00<00:00,  2.65it/s]\n",
      "rtf_avg: 0.032: 100%|\u001b[34m██████████\u001b[0m| 1/1 [00:00<00:00,  2.68it/s]\n",
      "rtf_avg: 0.036: 100%|\u001b[34m██████████\u001b[0m| 1/1 [00:00<00:00,  2.34it/s]\n",
      "rtf_avg: 0.036: 100%|\u001b[34m██████████\u001b[0m| 1/1 [00:00<00:00,  2.36it/s]\n",
      "rtf_avg: 0.038: 100%|\u001b[34m██████████\u001b[0m| 1/1 [00:00<00:00,  2.20it/s]\n",
      "rtf_avg: 0.035: 100%|\u001b[34m██████████\u001b[0m| 1/1 [00:00<00:00,  2.43it/s]\n",
      "rtf_avg: 0.035: 100%|\u001b[34m██████████\u001b[0m| 1/1 [00:00<00:00,  2.43it/s]\n",
      "rtf_avg: 0.034: 100%|\u001b[34m██████████\u001b[0m| 1/1 [00:00<00:00,  2.44it/s]\n",
      "rtf_avg: 0.041: 100%|\u001b[34m██████████\u001b[0m| 1/1 [00:00<00:00,  2.03it/s]\n",
      "rtf_avg: 0.038: 100%|\u001b[34m██████████\u001b[0m| 1/1 [00:00<00:00,  2.23it/s]\n",
      "rtf_avg: 0.037: 100%|\u001b[34m██████████\u001b[0m| 1/1 [00:00<00:00,  2.27it/s]\n",
      "rtf_avg: 0.034: 100%|\u001b[34m██████████\u001b[0m| 1/1 [00:00<00:00,  2.44it/s]\n",
      "rtf_avg: 0.033: 100%|\u001b[34m██████████\u001b[0m| 1/1 [00:00<00:00,  2.45it/s]\n",
      "rtf_avg: 0.035: 100%|\u001b[34m██████████\u001b[0m| 1/1 [00:00<00:00,  2.32it/s]\n",
      "rtf_avg: 0.038: 100%|\u001b[34m██████████\u001b[0m| 1/1 [00:00<00:00,  2.16it/s]\n",
      "rtf_avg: 0.032: 100%|\u001b[34m██████████\u001b[0m| 1/1 [00:00<00:00,  2.59it/s]\n",
      "rtf_avg: 0.033: 100%|\u001b[34m██████████\u001b[0m| 1/1 [00:00<00:00,  2.47it/s]\n",
      "rtf_avg: 0.034: 100%|\u001b[34m██████████\u001b[0m| 1/1 [00:00<00:00,  2.41it/s]\n",
      "rtf_avg: 0.038: 100%|\u001b[34m██████████\u001b[0m| 1/1 [00:00<00:00,  2.16it/s]\n",
      "rtf_avg: 0.036: 100%|\u001b[34m██████████\u001b[0m| 1/1 [00:00<00:00,  2.26it/s]\n",
      "rtf_avg: 0.035: 100%|\u001b[34m██████████\u001b[0m| 1/1 [00:00<00:00,  2.33it/s]\n",
      "rtf_avg: 0.037: 100%|\u001b[34m██████████\u001b[0m| 1/1 [00:00<00:00,  2.18it/s]\n",
      "rtf_avg: 0.035: 100%|\u001b[34m██████████\u001b[0m| 1/1 [00:00<00:00,  2.32it/s]\n",
      "rtf_avg: 0.040: 100%|\u001b[34m██████████\u001b[0m| 1/1 [00:00<00:00,  2.00it/s]\n",
      "rtf_avg: 0.035: 100%|\u001b[34m██████████\u001b[0m| 1/1 [00:00<00:00,  2.27it/s]\n",
      "rtf_avg: 0.037: 100%|\u001b[34m██████████\u001b[0m| 1/1 [00:00<00:00,  2.16it/s]\n",
      "rtf_avg: 0.039: 100%|\u001b[34m██████████\u001b[0m| 1/1 [00:00<00:00,  2.04it/s]\n",
      "rtf_avg: 0.035: 100%|\u001b[34m██████████\u001b[0m| 1/1 [00:00<00:00,  2.30it/s]\n",
      "rtf_avg: 0.042: 100%|\u001b[34m██████████\u001b[0m| 1/1 [00:00<00:00,  1.89it/s]\n",
      "rtf_avg: 0.035: 100%|\u001b[34m██████████\u001b[0m| 1/1 [00:00<00:00,  2.29it/s]\n",
      "rtf_avg: 0.032: 100%|\u001b[34m██████████\u001b[0m| 1/1 [00:00<00:00,  2.48it/s]\n",
      "rtf_avg: 0.035: 100%|\u001b[34m██████████\u001b[0m| 1/1 [00:00<00:00,  2.24it/s]\n",
      "rtf_avg: 0.039: 100%|\u001b[34m██████████\u001b[0m| 1/1 [00:00<00:00,  2.05it/s]\n",
      "rtf_avg: 0.034: 100%|\u001b[34m██████████\u001b[0m| 1/1 [00:00<00:00,  2.33it/s]\n",
      "rtf_avg: 0.032: 100%|\u001b[34m██████████\u001b[0m| 1/1 [00:00<00:00,  2.46it/s]\n",
      "rtf_avg: 0.033: 100%|\u001b[34m██████████\u001b[0m| 1/1 [00:00<00:00,  2.38it/s]\n",
      "rtf_avg: 0.036: 100%|\u001b[34m██████████\u001b[0m| 1/1 [00:00<00:00,  2.19it/s]\n",
      "rtf_avg: 0.036: 100%|\u001b[34m██████████\u001b[0m| 1/1 [00:00<00:00,  2.15it/s]\n",
      "rtf_avg: 0.034: 100%|\u001b[34m██████████\u001b[0m| 1/1 [00:00<00:00,  2.32it/s]\n",
      "rtf_avg: 0.034: 100%|\u001b[34m██████████\u001b[0m| 1/1 [00:00<00:00,  2.31it/s]\n",
      "rtf_avg: 0.033: 100%|\u001b[34m██████████\u001b[0m| 1/1 [00:00<00:00,  2.33it/s]\n",
      "rtf_avg: 0.033: 100%|\u001b[34m██████████\u001b[0m| 1/1 [00:00<00:00,  2.38it/s]\n",
      "rtf_avg: 0.036: 100%|\u001b[34m██████████\u001b[0m| 1/1 [00:00<00:00,  2.18it/s]\n",
      "rtf_avg: 0.033: 100%|\u001b[34m██████████\u001b[0m| 1/1 [00:00<00:00,  2.35it/s]\n",
      "rtf_avg: 0.034: 100%|\u001b[34m██████████\u001b[0m| 1/1 [00:00<00:00,  2.29it/s]\n",
      "rtf_avg: 0.034: 100%|\u001b[34m██████████\u001b[0m| 1/1 [00:00<00:00,  2.28it/s]\n",
      "rtf_avg: 0.033: 100%|\u001b[34m██████████\u001b[0m| 1/1 [00:00<00:00,  2.37it/s]\n",
      "rtf_avg: 0.040: 100%|\u001b[34m██████████\u001b[0m| 1/1 [00:00<00:00,  1.92it/s]\n",
      "rtf_avg: 0.034: 100%|\u001b[34m██████████\u001b[0m| 1/1 [00:00<00:00,  2.30it/s]\n",
      "rtf_avg: 0.034: 100%|\u001b[34m██████████\u001b[0m| 1/1 [00:00<00:00,  2.24it/s]\n",
      "rtf_avg: 0.034: 100%|\u001b[34m██████████\u001b[0m| 1/1 [00:00<00:00,  2.24it/s]\n",
      "rtf_avg: 0.033: 100%|\u001b[34m██████████\u001b[0m| 1/1 [00:00<00:00,  2.30it/s]\n",
      "rtf_avg: 0.037: 100%|\u001b[34m██████████\u001b[0m| 1/1 [00:00<00:00,  2.08it/s]\n",
      "rtf_avg: 0.033: 100%|\u001b[34m██████████\u001b[0m| 1/1 [00:00<00:00,  2.35it/s]\n",
      "rtf_avg: 0.033: 100%|\u001b[34m██████████\u001b[0m| 1/1 [00:00<00:00,  2.33it/s]\n",
      "rtf_avg: 0.038: 100%|\u001b[34m██████████\u001b[0m| 1/1 [00:00<00:00,  1.98it/s]\n",
      "rtf_avg: 0.041: 100%|\u001b[34m██████████\u001b[0m| 1/1 [00:00<00:00,  1.84it/s]\n",
      "rtf_avg: 0.033: 100%|\u001b[34m██████████\u001b[0m| 1/1 [00:00<00:00,  2.33it/s]\n",
      "rtf_avg: 0.033: 100%|\u001b[34m██████████\u001b[0m| 1/1 [00:00<00:00,  2.34it/s]\n",
      "rtf_avg: 0.035: 100%|\u001b[34m██████████\u001b[0m| 1/1 [00:00<00:00,  2.19it/s]\n",
      "rtf_avg: 0.032: 100%|\u001b[34m██████████\u001b[0m| 1/1 [00:00<00:00,  2.34it/s]\n",
      "rtf_avg: 0.039: 100%|\u001b[34m██████████\u001b[0m| 1/1 [00:00<00:00,  1.95it/s]\n",
      "rtf_avg: 0.035: 100%|\u001b[34m██████████\u001b[0m| 1/1 [00:00<00:00,  2.16it/s]\n",
      "rtf_avg: 0.037: 100%|\u001b[34m██████████\u001b[0m| 1/1 [00:00<00:00,  2.06it/s]\n",
      "rtf_avg: 0.034: 100%|\u001b[34m██████████\u001b[0m| 1/1 [00:00<00:00,  2.24it/s]\n",
      "rtf_avg: 0.035: 100%|\u001b[34m██████████\u001b[0m| 1/1 [00:00<00:00,  2.17it/s]\n",
      "rtf_avg: 0.034: 100%|\u001b[34m██████████\u001b[0m| 1/1 [00:00<00:00,  2.20it/s]\n",
      "rtf_avg: 0.034: 100%|\u001b[34m██████████\u001b[0m| 1/1 [00:00<00:00,  2.21it/s]\n",
      "rtf_avg: 0.033: 100%|\u001b[34m██████████\u001b[0m| 1/1 [00:00<00:00,  2.24it/s]\n",
      "rtf_avg: 0.033: 100%|\u001b[34m██████████\u001b[0m| 1/1 [00:00<00:00,  2.26it/s]\n",
      "rtf_avg: 0.037: 100%|\u001b[34m██████████\u001b[0m| 1/1 [00:00<00:00,  2.00it/s]\n",
      "rtf_avg: 0.033: 100%|\u001b[34m██████████\u001b[0m| 1/1 [00:00<00:00,  2.28it/s]\n",
      "rtf_avg: 0.036: 100%|\u001b[34m██████████\u001b[0m| 1/1 [00:00<00:00,  2.09it/s]\n",
      "rtf_avg: 0.033: 100%|\u001b[34m██████████\u001b[0m| 1/1 [00:00<00:00,  2.22it/s]\n",
      "rtf_avg: 0.031: 100%|\u001b[34m██████████\u001b[0m| 1/1 [00:00<00:00,  2.35it/s]\n",
      "rtf_avg: 0.035: 100%|\u001b[34m██████████\u001b[0m| 1/1 [00:00<00:00,  2.12it/s]\n",
      "rtf_avg: 0.037: 100%|\u001b[34m██████████\u001b[0m| 1/1 [00:00<00:00,  1.99it/s]\n",
      "rtf_avg: 0.033: 100%|\u001b[34m██████████\u001b[0m| 1/1 [00:00<00:00,  2.21it/s]\n",
      "rtf_avg: 0.032: 100%|\u001b[34m██████████\u001b[0m| 1/1 [00:00<00:00,  2.25it/s]\n",
      "rtf_avg: 0.037: 100%|\u001b[34m██████████\u001b[0m| 1/1 [00:00<00:00,  1.96it/s]\n",
      "rtf_avg: 0.035: 100%|\u001b[34m██████████\u001b[0m| 1/1 [00:00<00:00,  2.07it/s]\n",
      "rtf_avg: 0.032: 100%|\u001b[34m██████████\u001b[0m| 1/1 [00:00<00:00,  2.33it/s]\n",
      "rtf_avg: 0.032: 100%|\u001b[34m██████████\u001b[0m| 1/1 [00:00<00:00,  2.28it/s]\n",
      "rtf_avg: 0.033: 100%|\u001b[34m██████████\u001b[0m| 1/1 [00:00<00:00,  2.21it/s]\n",
      "rtf_avg: 0.037: 100%|\u001b[34m██████████\u001b[0m| 1/1 [00:00<00:00,  1.96it/s]\n",
      "rtf_avg: 0.037: 100%|\u001b[34m██████████\u001b[0m| 1/1 [00:00<00:00,  1.99it/s]\n",
      "rtf_avg: 0.035: 100%|\u001b[34m██████████\u001b[0m| 1/1 [00:00<00:00,  2.08it/s]\n",
      "rtf_avg: 0.033: 100%|\u001b[34m██████████\u001b[0m| 1/1 [00:00<00:00,  2.19it/s]\n",
      "rtf_avg: 0.038: 100%|\u001b[34m██████████\u001b[0m| 1/1 [00:00<00:00,  1.91it/s]\n",
      "rtf_avg: 0.033: 100%|\u001b[34m██████████\u001b[0m| 1/1 [00:00<00:00,  2.24it/s]\n",
      "rtf_avg: 0.034: 100%|\u001b[34m██████████\u001b[0m| 1/1 [00:00<00:00,  2.12it/s]\n",
      "rtf_avg: 0.034: 100%|\u001b[34m██████████\u001b[0m| 1/1 [00:00<00:00,  2.16it/s]\n",
      "rtf_avg: 0.032: 100%|\u001b[34m██████████\u001b[0m| 1/1 [00:00<00:00,  2.25it/s]\n",
      "rtf_avg: 0.034: 100%|\u001b[34m██████████\u001b[0m| 1/1 [00:00<00:00,  2.16it/s]\n",
      "rtf_avg: 0.035: 100%|\u001b[34m██████████\u001b[0m| 1/1 [00:00<00:00,  2.08it/s]\n",
      "rtf_avg: 0.036: 100%|\u001b[34m██████████\u001b[0m| 1/1 [00:00<00:00,  2.02it/s]\n",
      "rtf_avg: 0.034: 100%|\u001b[34m██████████\u001b[0m| 1/1 [00:00<00:00,  2.12it/s]\n",
      "rtf_avg: 0.037: 100%|\u001b[34m██████████\u001b[0m| 1/1 [00:00<00:00,  1.95it/s]\n",
      "rtf_avg: 0.032: 100%|\u001b[34m██████████\u001b[0m| 1/1 [00:00<00:00,  2.23it/s]\n",
      "rtf_avg: 0.034: 100%|\u001b[34m██████████\u001b[0m| 1/1 [00:00<00:00,  2.11it/s]\n",
      "rtf_avg: 0.032: 100%|\u001b[34m██████████\u001b[0m| 1/1 [00:00<00:00,  2.27it/s]\n",
      "rtf_avg: 0.031: 100%|\u001b[34m██████████\u001b[0m| 1/1 [00:00<00:00,  2.30it/s]\n",
      "rtf_avg: 0.037: 100%|\u001b[34m██████████\u001b[0m| 1/1 [00:00<00:00,  1.93it/s]\n",
      "rtf_avg: 0.036: 100%|\u001b[34m██████████\u001b[0m| 1/1 [00:00<00:00,  1.98it/s]\n",
      "rtf_avg: 0.034: 100%|\u001b[34m██████████\u001b[0m| 1/1 [00:00<00:00,  2.11it/s]\n",
      "rtf_avg: 0.031: 100%|\u001b[34m██████████\u001b[0m| 1/1 [00:00<00:00,  2.33it/s]\n",
      "rtf_avg: 0.034: 100%|\u001b[34m██████████\u001b[0m| 1/1 [00:00<00:00,  2.09it/s]\n",
      "rtf_avg: 0.033: 100%|\u001b[34m██████████\u001b[0m| 1/1 [00:00<00:00,  2.13it/s]\n",
      "rtf_avg: 0.033: 100%|\u001b[34m██████████\u001b[0m| 1/1 [00:00<00:00,  2.16it/s]\n",
      "rtf_avg: 0.032: 100%|\u001b[34m██████████\u001b[0m| 1/1 [00:00<00:00,  2.26it/s]\n",
      "rtf_avg: 0.032: 100%|\u001b[34m██████████\u001b[0m| 1/1 [00:00<00:00,  2.20it/s]\n",
      "rtf_avg: 0.036: 100%|\u001b[34m██████████\u001b[0m| 1/1 [00:00<00:00,  1.97it/s]\n",
      "rtf_avg: 0.033: 100%|\u001b[34m██████████\u001b[0m| 1/1 [00:00<00:00,  2.16it/s]\n",
      "rtf_avg: 0.035: 100%|\u001b[34m██████████\u001b[0m| 1/1 [00:00<00:00,  2.04it/s]\n",
      "rtf_avg: 0.033: 100%|\u001b[34m██████████\u001b[0m| 1/1 [00:00<00:00,  2.15it/s]\n",
      "rtf_avg: 0.036: 100%|\u001b[34m██████████\u001b[0m| 1/1 [00:00<00:00,  1.95it/s]\n",
      "rtf_avg: 0.032: 100%|\u001b[34m██████████\u001b[0m| 1/1 [00:00<00:00,  2.23it/s]\n",
      "rtf_avg: 0.034: 100%|\u001b[34m██████████\u001b[0m| 1/1 [00:00<00:00,  2.07it/s]\n",
      "rtf_avg: 0.031: 100%|\u001b[34m██████████\u001b[0m| 1/1 [00:00<00:00,  2.24it/s]\n",
      "rtf_avg: 0.031: 100%|\u001b[34m██████████\u001b[0m| 1/1 [00:00<00:00,  2.26it/s]\n",
      "rtf_avg: 0.034: 100%|\u001b[34m██████████\u001b[0m| 1/1 [00:00<00:00,  2.05it/s]\n",
      "rtf_avg: 0.030: 100%|\u001b[34m██████████\u001b[0m| 1/1 [00:00<00:00,  2.29it/s]\n",
      "rtf_avg: 0.034: 100%|\u001b[34m██████████\u001b[0m| 1/1 [00:00<00:00,  2.02it/s]\n",
      "rtf_avg: 0.031: 100%|\u001b[34m██████████\u001b[0m| 1/1 [00:00<00:00,  2.26it/s]\n",
      "rtf_avg: 0.036: 100%|\u001b[34m██████████\u001b[0m| 1/1 [00:00<00:00,  1.90it/s]\n",
      "rtf_avg: 0.030: 100%|\u001b[34m██████████\u001b[0m| 1/1 [00:00<00:00,  2.29it/s]\n",
      "rtf_avg: 0.033: 100%|\u001b[34m██████████\u001b[0m| 1/1 [00:00<00:00,  2.11it/s]\n",
      "rtf_avg: 0.031: 100%|\u001b[34m██████████\u001b[0m| 1/1 [00:00<00:00,  2.22it/s]\n",
      "rtf_avg: 0.029: 100%|\u001b[34m██████████\u001b[0m| 1/1 [00:00<00:00,  2.34it/s]\n",
      "rtf_avg: 0.034: 100%|\u001b[34m██████████\u001b[0m| 1/1 [00:00<00:00,  1.98it/s]\n",
      "rtf_avg: 0.033: 100%|\u001b[34m██████████\u001b[0m| 1/1 [00:00<00:00,  2.06it/s]\n",
      "rtf_avg: 0.033: 100%|\u001b[34m██████████\u001b[0m| 1/1 [00:00<00:00,  2.10it/s]\n",
      "rtf_avg: 0.032: 100%|\u001b[34m██████████\u001b[0m| 1/1 [00:00<00:00,  2.13it/s]\n",
      "rtf_avg: 0.034: 100%|\u001b[34m██████████\u001b[0m| 1/1 [00:00<00:00,  2.00it/s]\n",
      "rtf_avg: 0.033: 100%|\u001b[34m██████████\u001b[0m| 1/1 [00:00<00:00,  2.04it/s]\n",
      "rtf_avg: 0.031: 100%|\u001b[34m██████████\u001b[0m| 1/1 [00:00<00:00,  2.22it/s]\n",
      "rtf_avg: 0.031: 100%|\u001b[34m██████████\u001b[0m| 1/1 [00:00<00:00,  2.16it/s]\n",
      "rtf_avg: 0.032: 100%|\u001b[34m██████████\u001b[0m| 1/1 [00:00<00:00,  2.14it/s]\n",
      "rtf_avg: 0.033: 100%|\u001b[34m██████████\u001b[0m| 1/1 [00:00<00:00,  2.03it/s]\n",
      "rtf_avg: 0.032: 100%|\u001b[34m██████████\u001b[0m| 1/1 [00:00<00:00,  2.10it/s]\n",
      "rtf_avg: 0.030: 100%|\u001b[34m██████████\u001b[0m| 1/1 [00:00<00:00,  2.23it/s]\n",
      "rtf_avg: 0.032: 100%|\u001b[34m██████████\u001b[0m| 1/1 [00:00<00:00,  2.12it/s]\n",
      "rtf_avg: 0.037: 100%|\u001b[34m██████████\u001b[0m| 1/1 [00:00<00:00,  1.82it/s]\n",
      "rtf_avg: 0.032: 100%|\u001b[34m██████████\u001b[0m| 1/1 [00:00<00:00,  2.14it/s]\n",
      "rtf_avg: 0.031: 100%|\u001b[34m██████████\u001b[0m| 1/1 [00:00<00:00,  2.16it/s]\n",
      "rtf_avg: 0.035: 100%|\u001b[34m██████████\u001b[0m| 1/1 [00:00<00:00,  1.93it/s]\n",
      "rtf_avg: 0.039: 100%|\u001b[34m██████████\u001b[0m| 1/1 [00:00<00:00,  1.73it/s]\n",
      "rtf_avg: 0.032: 100%|\u001b[34m██████████\u001b[0m| 1/1 [00:00<00:00,  2.11it/s]\n",
      "rtf_avg: 0.031: 100%|\u001b[34m██████████\u001b[0m| 1/1 [00:00<00:00,  2.16it/s]\n",
      "rtf_avg: 0.032: 100%|\u001b[34m██████████\u001b[0m| 1/1 [00:00<00:00,  2.11it/s]\n",
      "rtf_avg: 0.031: 100%|\u001b[34m██████████\u001b[0m| 1/1 [00:00<00:00,  2.14it/s]\n",
      "rtf_avg: 0.036: 100%|\u001b[34m██████████\u001b[0m| 1/1 [00:00<00:00,  1.85it/s]\n",
      "rtf_avg: 0.034: 100%|\u001b[34m██████████\u001b[0m| 1/1 [00:00<00:00,  1.94it/s]\n",
      "rtf_avg: 0.032: 100%|\u001b[34m██████████\u001b[0m| 1/1 [00:00<00:00,  2.11it/s]\n",
      "rtf_avg: 0.031: 100%|\u001b[34m██████████\u001b[0m| 1/1 [00:00<00:00,  2.17it/s]\n",
      "rtf_avg: 0.035: 100%|\u001b[34m██████████\u001b[0m| 1/1 [00:00<00:00,  1.92it/s]\n",
      "rtf_avg: 0.031: 100%|\u001b[34m██████████\u001b[0m| 1/1 [00:00<00:00,  2.16it/s]\n",
      "rtf_avg: 0.033: 100%|\u001b[34m██████████\u001b[0m| 1/1 [00:00<00:00,  2.05it/s]\n",
      "rtf_avg: 0.032: 100%|\u001b[34m██████████\u001b[0m| 1/1 [00:00<00:00,  2.10it/s]\n",
      "rtf_avg: 0.034: 100%|\u001b[34m██████████\u001b[0m| 1/1 [00:00<00:00,  1.98it/s]\n",
      "rtf_avg: 0.031: 100%|\u001b[34m██████████\u001b[0m| 1/1 [00:00<00:00,  2.15it/s]\n",
      "rtf_avg: 0.034: 100%|\u001b[34m██████████\u001b[0m| 1/1 [00:00<00:00,  1.96it/s]\n",
      "rtf_avg: 0.037: 100%|\u001b[34m██████████\u001b[0m| 1/1 [00:00<00:00,  1.80it/s]\n",
      "rtf_avg: 0.037: 100%|\u001b[34m██████████\u001b[0m| 1/1 [00:00<00:00,  1.80it/s]\n",
      "rtf_avg: 0.034: 100%|\u001b[34m██████████\u001b[0m| 1/1 [00:00<00:00,  1.97it/s]\n",
      "rtf_avg: 0.034: 100%|\u001b[34m██████████\u001b[0m| 1/1 [00:00<00:00,  1.95it/s]\n",
      "rtf_avg: 0.035: 100%|\u001b[34m██████████\u001b[0m| 1/1 [00:00<00:00,  1.89it/s]\n",
      "rtf_avg: 0.034: 100%|\u001b[34m██████████\u001b[0m| 1/1 [00:00<00:00,  1.92it/s]\n",
      "rtf_avg: 0.033: 100%|\u001b[34m██████████\u001b[0m| 1/1 [00:00<00:00,  2.01it/s]\n",
      "rtf_avg: 0.031: 100%|\u001b[34m██████████\u001b[0m| 1/1 [00:00<00:00,  2.12it/s]\n",
      "rtf_avg: 0.031: 100%|\u001b[34m██████████\u001b[0m| 1/1 [00:00<00:00,  2.11it/s]\n",
      "rtf_avg: 0.032: 100%|\u001b[34m██████████\u001b[0m| 1/1 [00:00<00:00,  2.07it/s]\n",
      "rtf_avg: 0.037: 100%|\u001b[34m██████████\u001b[0m| 1/1 [00:00<00:00,  1.77it/s]\n",
      "rtf_avg: 0.033: 100%|\u001b[34m██████████\u001b[0m| 1/1 [00:00<00:00,  2.00it/s]\n",
      "rtf_avg: 0.032: 100%|\u001b[34m██████████\u001b[0m| 1/1 [00:00<00:00,  2.03it/s]\n",
      "rtf_avg: 0.033: 100%|\u001b[34m██████████\u001b[0m| 1/1 [00:00<00:00,  1.96it/s]\n",
      "rtf_avg: 0.039: 100%|\u001b[34m██████████\u001b[0m| 1/1 [00:00<00:00,  1.65it/s]\n",
      "rtf_avg: 0.033: 100%|\u001b[34m██████████\u001b[0m| 1/1 [00:00<00:00,  1.91it/s]\n",
      "rtf_avg: 0.034: 100%|\u001b[34m██████████\u001b[0m| 1/1 [00:00<00:00,  1.83it/s]\n",
      "rtf_avg: 0.035: 100%|\u001b[34m██████████\u001b[0m| 1/1 [00:00<00:00,  1.78it/s]\n",
      "rtf_avg: 0.039: 100%|\u001b[34m██████████\u001b[0m| 1/1 [00:00<00:00,  1.58it/s]\n",
      "rtf_avg: 0.033: 100%|\u001b[34m██████████\u001b[0m| 1/1 [00:00<00:00,  1.86it/s]\n",
      "rtf_avg: 0.034: 100%|\u001b[34m██████████\u001b[0m| 1/1 [00:00<00:00,  1.79it/s]\n",
      "rtf_avg: 0.037: 100%|\u001b[34m██████████\u001b[0m| 1/1 [00:00<00:00,  1.65it/s]\n",
      "rtf_avg: 0.031: 100%|\u001b[34m██████████\u001b[0m| 1/1 [00:00<00:00,  1.94it/s]\n",
      "rtf_avg: 0.035: 100%|\u001b[34m██████████\u001b[0m| 1/1 [00:00<00:00,  1.70it/s]\n",
      "rtf_avg: 0.034: 100%|\u001b[34m██████████\u001b[0m| 1/1 [00:00<00:00,  1.74it/s]\n",
      "rtf_avg: 0.035: 100%|\u001b[34m██████████\u001b[0m| 1/1 [00:00<00:00,  1.67it/s]\n",
      "rtf_avg: 0.032: 100%|\u001b[34m██████████\u001b[0m| 1/1 [00:00<00:00,  1.81it/s]\n",
      "rtf_avg: 0.035: 100%|\u001b[34m██████████\u001b[0m| 1/1 [00:00<00:00,  1.69it/s]\n",
      "rtf_avg: 0.034: 100%|\u001b[34m██████████\u001b[0m| 1/1 [00:00<00:00,  1.74it/s]\n",
      "rtf_avg: 0.036: 100%|\u001b[34m██████████\u001b[0m| 1/1 [00:00<00:00,  1.61it/s]\n",
      "rtf_avg: 0.033: 100%|\u001b[34m██████████\u001b[0m| 1/1 [00:00<00:00,  1.71it/s]\n",
      "rtf_avg: 0.033: 100%|\u001b[34m██████████\u001b[0m| 1/1 [00:00<00:00,  1.71it/s]\n",
      "rtf_avg: 0.035: 100%|\u001b[34m██████████\u001b[0m| 1/1 [00:00<00:00,  1.62it/s]\n",
      "rtf_avg: 0.032: 100%|\u001b[34m██████████\u001b[0m| 1/1 [00:00<00:00,  1.75it/s]\n",
      "rtf_avg: 0.031: 100%|\u001b[34m██████████\u001b[0m| 1/1 [00:00<00:00,  1.75it/s]\n",
      "rtf_avg: 0.037: 100%|\u001b[34m██████████\u001b[0m| 1/1 [00:00<00:00,  1.45it/s]\n",
      "rtf_avg: 0.038: 100%|\u001b[34m██████████\u001b[0m| 1/1 [00:00<00:00,  1.40it/s]\n",
      "rtf_avg: 0.034: 100%|\u001b[34m██████████\u001b[0m| 1/1 [00:00<00:00,  1.58it/s]\n",
      "rtf_avg: 0.032: 100%|\u001b[34m██████████\u001b[0m| 1/1 [00:00<00:00,  1.69it/s]\n",
      "rtf_avg: 0.034: 100%|\u001b[34m██████████\u001b[0m| 1/1 [00:00<00:00,  1.56it/s]\n",
      "rtf_avg: 0.030: 100%|\u001b[34m██████████\u001b[0m| 1/1 [00:00<00:00,  1.74it/s]\n",
      "rtf_avg: 0.030: 100%|\u001b[34m██████████\u001b[0m| 1/1 [00:00<00:00,  1.77it/s]\n",
      "rtf_avg: 0.030: 100%|\u001b[34m██████████\u001b[0m| 1/1 [00:00<00:00,  1.73it/s]\n",
      "rtf_avg: 0.035: 100%|\u001b[34m██████████\u001b[0m| 1/1 [00:00<00:00,  1.49it/s]\n",
      "rtf_avg: 0.032: 100%|\u001b[34m██████████\u001b[0m| 1/1 [00:00<00:00,  1.60it/s]\n",
      "rtf_avg: 0.031: 100%|\u001b[34m██████████\u001b[0m| 1/1 [00:00<00:00,  1.64it/s]\n",
      "rtf_avg: 0.033: 100%|\u001b[34m██████████\u001b[0m| 1/1 [00:00<00:00,  1.57it/s]\n",
      "rtf_avg: 0.030: 100%|\u001b[34m██████████\u001b[0m| 1/1 [00:00<00:00,  1.72it/s]\n",
      "rtf_avg: 0.031: 100%|\u001b[34m██████████\u001b[0m| 1/1 [00:00<00:00,  1.64it/s]\n",
      "rtf_avg: 0.030: 100%|\u001b[34m██████████\u001b[0m| 1/1 [00:00<00:00,  1.69it/s]\n",
      "rtf_avg: 0.032: 100%|\u001b[34m██████████\u001b[0m| 1/1 [00:00<00:00,  1.56it/s]\n",
      "rtf_avg: 0.036: 100%|\u001b[34m██████████\u001b[0m| 1/1 [00:00<00:00,  1.37it/s]\n",
      "rtf_avg: 0.032: 100%|\u001b[34m██████████\u001b[0m| 1/1 [00:00<00:00,  1.51it/s]\n",
      "rtf_avg: 0.036: 100%|\u001b[34m██████████\u001b[0m| 1/1 [00:00<00:00,  1.37it/s]\n",
      "rtf_avg: 0.040: 100%|\u001b[34m██████████\u001b[0m| 1/1 [00:00<00:00,  1.21it/s]\n",
      "rtf_avg: 0.042: 100%|\u001b[34m██████████\u001b[0m| 1/1 [00:00<00:00,  1.15it/s]\n",
      "rtf_avg: 0.038: 100%|\u001b[34m██████████\u001b[0m| 1/1 [00:00<00:00,  1.27it/s]\n",
      "rtf_avg: 0.039: 100%|\u001b[34m██████████\u001b[0m| 1/1 [00:00<00:00,  1.22it/s]\n",
      "rtf_avg: 0.040: 100%|\u001b[34m██████████\u001b[0m| 1/1 [00:00<00:00,  1.15it/s]\n",
      "rtf_avg: 0.041: 100%|\u001b[34m██████████\u001b[0m| 1/1 [00:00<00:00,  1.14it/s]\n",
      "rtf_avg: 0.041: 100%|\u001b[34m██████████\u001b[0m| 1/1 [00:00<00:00,  1.10it/s]\n",
      "rtf_avg: 0.037: 100%|\u001b[34m██████████\u001b[0m| 1/1 [00:00<00:00,  1.18it/s]\n",
      "rtf_avg: 0.034: 100%|\u001b[34m██████████\u001b[0m| 1/1 [00:00<00:00,  1.27it/s]\n",
      "rtf_avg: 0.038: 100%|\u001b[34m██████████\u001b[0m| 1/1 [00:00<00:00,  1.15it/s]\n",
      "rtf_avg: 0.035: 100%|\u001b[34m██████████\u001b[0m| 1/1 [00:00<00:00,  1.22it/s]\n",
      "rtf_avg: 0.032: 100%|\u001b[34m██████████\u001b[0m| 1/1 [00:00<00:00,  1.31it/s]\n",
      "rtf_avg: 0.032: 100%|\u001b[34m██████████\u001b[0m| 1/1 [00:00<00:00,  1.31it/s]\n",
      "rtf_avg: 0.033: 100%|\u001b[34m██████████\u001b[0m| 1/1 [00:00<00:00,  1.25it/s]\n",
      "rtf_avg: 0.033: 100%|\u001b[34m██████████\u001b[0m| 1/1 [00:00<00:00,  1.22it/s]\n",
      "rtf_avg: 0.032: 100%|\u001b[34m██████████\u001b[0m| 1/1 [00:00<00:00,  1.28it/s]\n",
      "rtf_avg: 0.033: 100%|\u001b[34m██████████\u001b[0m| 1/1 [00:00<00:00,  1.19it/s]\n",
      "rtf_avg: 0.033: 100%|\u001b[34m██████████\u001b[0m| 1/1 [00:00<00:00,  1.17it/s]\n",
      "rtf_avg: 0.031: 100%|\u001b[34m██████████\u001b[0m| 1/1 [00:00<00:00,  1.24it/s]\n",
      "rtf_avg: 0.032: 100%|\u001b[34m██████████\u001b[0m| 1/1 [00:00<00:00,  1.17it/s]\n",
      "rtf_avg: 0.029: 100%|\u001b[34m██████████\u001b[0m| 1/1 [00:00<00:00,  1.23it/s]\n",
      "rtf_avg: 0.032: 100%|\u001b[34m██████████\u001b[0m| 1/1 [00:00<00:00,  1.13it/s]\n",
      "rtf_avg: 0.034: 100%|\u001b[34m██████████\u001b[0m| 1/1 [00:00<00:00,  1.06it/s]\n",
      "rtf_avg: 0.033: 100%|\u001b[34m██████████\u001b[0m| 1/1 [00:00<00:00,  1.08it/s]\n",
      "rtf_avg: 0.034: 100%|\u001b[34m██████████\u001b[0m| 1/1 [00:00<00:00,  1.03it/s]\n",
      "rtf_avg: 0.032: 100%|\u001b[34m██████████\u001b[0m| 1/1 [00:00<00:00,  1.07it/s]\n",
      "rtf_avg: 0.032: 100%|\u001b[34m██████████\u001b[0m| 1/1 [00:00<00:00,  1.07it/s]\n",
      "rtf_avg: 0.034: 100%|\u001b[34m██████████\u001b[0m| 1/1 [00:01<00:00,  1.02s/it]\n",
      "rtf_avg: 0.035: 100%|\u001b[34m██████████\u001b[0m| 1/1 [00:01<00:00,  1.04s/it]\n",
      "rtf_avg: 0.035: 100%|\u001b[34m██████████\u001b[0m| 1/1 [00:01<00:00,  1.04s/it]\n",
      "rtf_avg: 0.030: 100%|\u001b[34m██████████\u001b[0m| 1/1 [00:00<00:00,  1.09it/s]\n",
      "rtf_avg: 0.036: 100%|\u001b[34m██████████\u001b[0m| 1/1 [00:01<00:00,  1.10s/it]\n",
      "rtf_avg: 0.034: 100%|\u001b[34m██████████\u001b[0m| 1/1 [00:01<00:00,  1.03s/it]\n",
      "rtf_avg: 0.037: 100%|\u001b[34m██████████\u001b[0m| 1/1 [00:01<00:00,  1.10s/it]\n",
      "rtf_avg: 0.034: 100%|\u001b[34m██████████\u001b[0m| 1/1 [00:01<00:00,  1.01s/it]\n",
      "rtf_avg: 0.036: 100%|\u001b[34m██████████\u001b[0m| 1/1 [00:01<00:00,  1.08s/it]\n",
      "rtf_avg: 0.038: 100%|\u001b[34m██████████\u001b[0m| 1/1 [00:01<00:00,  1.14s/it]\n",
      "rtf_avg: 0.035: 100%|\u001b[34m██████████\u001b[0m| 1/1 [00:01<00:00,  1.04s/it]\n",
      "rtf_avg: 0.035: 100%|\u001b[34m██████████\u001b[0m| 1/1 [00:01<00:00,  1.05s/it]\n",
      "rtf_avg: 0.036, time_speech:  5464.050, time_escape: 197.281: 100%|\u001b[31m██████████\u001b[0m| 1/1 [03:17<00:00, 197.28s/it]"
     ]
    },
    {
     "name": "stdout",
     "output_type": "stream",
     "text": [
      "张小静，29岁，他来上海5年了。这天早晨，他像往常一样，站在卫生间的洗手池前，一边快速的刷着牙，一边浏览着手机上客户刚刚发来的消息。他的脑子里飞快的计划着今天的工作，你恐怕不会相信他是那种接到工作，从不抱怨。而且计划和学习能力极强，从不怕吃苦的人，毫不夸张的说，任何老板遇到他都会对他的工作能力非常满意。他就职于上海的一家设计公司，公司的写字楼坐落在上海浦东的商业中心。他没有像其他人一样，为了节省生活成本搬去郊区居住，而是在上海市中心的弄堂里租了一个小公寓。别看这个房子小只有30平米，但租金却贵得吓人。也许对于大多数人而言，上海只是一个路过的城市。他们早晚会回到属于自己真正的家。但小静却有一个远大的目标，他想留在这座城市，享受国际大都市的繁华，过上富足优越的生活。这正是他为什么拼命工作，他想让自己快一点成为一个有经济实力，再也不必为贫穷而恐惧和不安的人。小静是一个来自小城市的姑娘，她的父母都是普通人。在她的童年记忆里，日子是灰色的。生活里的一切好像都是一成不变的。每天吃过的饭。走过的路，遇到的人，那里的一切仿佛从未真正改变过。而小静在上海的生活彻底颠覆了他对人生的认知。他不想再回到过去，他不想平庸的在日复一日的重复中浪费自己的人生。这也是为什么？即便每天下班以后，他都要回到那个拥挤的小房间。但是每当他望向窗外，看到上海夜晚的灯火。仿佛那远处的灯火，就是一座希望的灯塔，指引着他的人生。之所以写这个故事给大家，是因为我也是来自小城市，也曾经在上海打拼。你现在看到的这些老房子呢，就是我在上海的第一个家。从这个门进去，三楼中间的那个窗户，就是我当时租的房子。我还记得当时这个房子的设计有一个特别奇葩的地方，那就是厨房、洗手间和卧室共用一个门，大家可以想象吗？比如当你做饭的时候，千万别关门，因为那个门也是厕所的门。虽然当时的条件有点艰苦，但是却给我留下了非常美好的记忆。12年过去了，我又带着孩子回到上海去看望我的老朋友。不要忘了下载视频下方的中文ebook，我们已经帮你总结出了今天用到的关键词汇核心句型，把今天学到的全部变成你自己的。请你来听一听这段办公室的对话。迈克正在给他的助理安排工作。麻烦你下午帮我预定一间会议室，这间会议室一定要有白板和投影仪。好，开会前千万别忘了提醒我，带上马克笔和麦克风。问题，麦克需要的这间会议室需要有什么和什么呢？麦克是一位会说中文的美国商人。他目前在中国经商，今天他约了ABC公司的产品部经理张晓静见面。喂，你好，张小姐吗？我是麦克，我已经到达了您公司的前台。哦，迈克先生您好，麻烦您坐电梯到三楼，我在2号会议室等您。好的，我们会议室见问题。🎼张小静让麦克坐电梯去几楼？张伟，27岁。是个典型的城市打工仔，他来上海三年了，但仍旧觉得自己一事无成。为了省钱。他在上海郊区和朋友合租了一间公寓，租金倒是比市区便宜了很多，但是却每天要花40多分钟坐地铁去上班。如果你问我张伟最大的优点是什么？那当然是他的外表，他常常在坐地铁的时候，吸引来了年轻女孩们的目光。但是他的缺点也很明显，他是一个凡事都懒得做，爱拖延，而且还旺性很大的人。一天早晨，闹钟又响了，他像往常一样赖在床上不肯起来。闹钟每响一次，就又被他按下。尽管他总是把闹钟调快5分钟，他却还是那个经常迟到的人。张伟慵懒的从床上坐起来，头发乱作一团。正当他迷迷糊糊的时候，突然想起来，今早公司有早会。他一下从床上跳起来，急急忙忙的跑到洗手间刷牙洗脸，来不及整理头发，就拿起公文包出了门。他一边走，一边整理头发、衣领和领带。去地铁的路上，张伟还在想。如果能住在市区该多好啊，不用每天起这么早，还要花近两个小时的时间上下班，还总是要担心迟到。到了地铁站，张伟习惯性的掏出手机，要刷地铁卡进站，却发现手机不见了。他匆忙的翻遍所有的口袋，却还是找不到。他索性把包里的东西全部倒在地上。就在这时，手机从文件夹里掉了出来。旁边路过的几个年轻女孩捂着嘴笑她的粗心和混乱，而她呢却抬起头，露出了一副我很帅的表情。他心想又被我的帅气吸引了吧。嗨，这就是张伟。一个头脑简单帅气，粗心健忘，好像永远也长不大的大男孩。问题。张伟起床的时候，突然想起来今天公司有什么重要的事情要发生呢？请你来听一听这段办公室的对话。小静和张伟在同一家公司工作，这一天，张伟匆忙的走进小静的办公室。小静，你见我宫门包了吗？没见啊，怎么了，坏了，保险柜的钥匙在我公文包里呢，不会是被人偷了吧。你先别着急，公司到处都是摄像头。你可以去保安室调取监控录像，看看谁动了你的包。问题，张伟的公文包里有什么重要的东西呢？🎼 在这张照片上，你可以看到一位年轻的女性，一个女孩子，年轻的女孩子，她叫什么名字呢？她叫玛丽。他今年27岁，他来中国两年了，这也是他第一次一个人在国外住了这么长时间。玛丽这是在干什么呢？你可以看到他身后有很多很多的纸箱子，纸箱子纸箱子哦，原来他在搬家，他是要搬进来还是要搬走呢？他要搬走，也就是他要从这里搬出去，为什么他要搬走呢？其实玛丽之前和另外一个人合租了这套公寓，公寓apartment。我们也可以说他和另外一个人合租了这个房子。对中国人来说，房子可以是一个house，也可以是一个 apartmentpartment。所以房子你可以说玛丽和另外一个人合租了这套房子，也可以说，玛丽和另外一个人合租了这套公寓。Okay.那么这个人就是玛丽的室友。上节课我们学了舍友，舍友指的是你们住在同一个宿舍doitory，我们叫舍友宿舍的舍。住在同一套公寓里的，我们叫室友室友，到底发生了什么呢？为什么玛丽要搬出去呢？玛丽刚搬进来的时候，他觉得他的室友是一个性格开朗，爱说话爱笑的人，所以他才决定搬进来。可是现在他们之间有了矛盾，因为什么有矛盾的呢？他的室友其实有一个非常不好的习惯，这个习惯就是每个周五晚上会约朋友来家里聚会。也许你会说我也喜欢约我的朋友，每个星期五来我家聚会，这不是一个坏习惯吧。你听我说完，他们不仅来聚会，还在家里抽烟喝酒，晚上一两点了，还没有回去，还在这个房子里开派对。派对就是party，晚上一两点了还不睡觉，当然会影响玛丽的休息。到了第二天早上，星期六的早上，玛丽走出卧室，一看客厅。地上乱七八糟，有烟头，有酒瓶，而且沙发上还睡着陌生人。这下玛丽不高兴了，他决定要找他的室友谈一谈。玛丽告诉他的室友，既然我们要住在一起，那么我们就必须遵守一些规则。比如不可以在房子里抽烟，如果你或者你的朋友要抽烟，请你们到阳台上去。第二，你们每个星期五聚会可以，但是必须在晚上12点以前结束，12点以后就不能在这里聚会了。第三。聚会完之后，一定要把房间打扫干净，这样我才同意你让朋友来家里聚会。玛丽的室友不高兴了，他认为玛丽又不是他的妈妈，为什么什么都想管，他认为玛丽这是在干涉她的生活。玛丽终于意识到。他和他的室友是完全不同的两种人，他们没有办法住在一起，也没有办法改变彼此。所以玛丽决定搬出去。说到这里，我想问，如果你是玛丽，你会怎么做呢？现在让我们来一起看看今天学习到的词汇。第一个词汇是。室友室友和你同租一个公寓的一个房子的人，我们叫室友。但是你在大学里住的是宿舍。住在同一个宿舍的人叫做舍友舍友。下一个词是公寓。你可以看到这张照片上除了有一个房间以外，我还放了一栋楼房，一栋楼房。在这栋楼房里有很多户人家，这每一户人家的房子其实就是一个公寓，公寓这个词其实是比较高级的。因为一说到公寓，人们就联想到这栋楼房里应该有电梯，他应该很干。安静居住环境很好，很安全，甚至还有保安。这种居住环境很好的楼房，我们一般称为公寓楼。下一个词乱七八糟，我们先来说一说这个词它的发音。如果你一个字一个字的看的话啊，很多人喜欢看拼音，对吗？乱七八糟。可是在日常生活中，我们说话的时候不是这么发音的，你听乱七八糟。乱七八糟，我说的是乱七乱七，这个漆变得非常轻，乱七八糟，你的房间乱七八糟，你的房间乱七八糟。😊除了说房间乱七八糟，还可以说什么呢？啊，我还可以说一个人的生活乱七八糟，他的生活啊乱七八糟，这是什么意思呢？是表示这个人的生活中其实发生了很多不应该发生的事情，都是一些不好的事情，乱七八糟。他不知道怎么经营自己的生活，他的生活乱七八糟。还可以是什么呢？哎呀，你的这些朋友，乱七八糟的朋友，乱七八糟的朋友是什么样的朋友呢？就是那些不好的朋友，乱七八糟的朋友，什么人乱七八糟。好了，这是我们刚才说的乱七八糟。下一个找什么什么人谈一谈。大家可能知道聊一聊，我们来聊一聊let's chat，我们来聊一聊什么叫找什么人谈一谈是什么意思呢？😊通常是表示现在有一个问题，嗯有一个问题，我们想要去解决。那我要找你谈一谈。所以这种谈话不是轻松的谈话，很高兴的谈话，而是比较严肃的要解决一些问题的谈话。我想找你谈一谈。如果我说我想找你聊一聊啊，其实就轻松很多轻松很多。所以请大家在用词的时候要小心。你很高兴的给朋友打电话说，嘿小张，我想找你聊一聊，聊一聊。好啊，我们聊天我也喜欢聊天。可是如果你拿起电。电话说我想找你谈一谈，我就会想我做错什么了吗？有什么问题吗？好，下一个词。😊遵守规则。其实你看这里有一张纸，上面写的1234，这些都是必须遵守的规则。遵守规则，遵守是一个动词，规则是一个名词。动词和名词啊，在我看来就好像是一对夫妻， like a couple.动词和名词，他们要同时出现，遵守什么？遵守规则，什么规则，遵守规则，比如我们必须遵守交通规则，你开车的时候必须遵守交通规则。下一个干涉干涉不是干涉啊，你要听干涉。很多朋友喜欢看拼音，看拼音当然可以帮助你提高中文，对吗？可以帮助你更好的理解中文。但是千万不要认为中国人学中文的时候是读着拼音学会的，当然不是需要大量的听。你要听我怎么读，而不是看着拼音读干涉干涉。你可以看到这里有几个年轻人正在跳舞，对吗？正在跳舞，可是其中一个人的室友还记得吗？室友roommate不高兴了，他觉得太吵了，所以他过来告诉这些人说，你们可不可以安静一点，我在工作太吵了。😊Okay.可是这些人高兴吗？他们不高兴，他们认为这个女孩子干涉了他们，干涉的意思就是管他们，就是不让他们做想做的事情。所以通常孩子们会说，爸爸妈妈总是干涉我，爸爸妈妈总是管我，我再翻译一下。爸爸妈妈总是不让我做，我想做的事。ganan涉.当然有时候也可能是你的朋友总是干涉你。你刚找了一个女朋友，你的朋友就说哎呀，这个女孩子不好，嗯，我觉得你不应该找他做女朋友。你看他在干涉你交女朋友的事情。.你刚刚找了个工作，你的朋友说辞职吧，这家公司不好，他在干涉你干涉。也就是一个人他想要帮你做决定，他不想让你做你想做的事。Ganhou.如果我想拍视频，可是我的朋友说，但不要拍视频，做什么youtuber，我觉得这个工作不好，你还是回学校当老师吧，我就会说你不要干涉我的生活。🎼你可以看到照片上有一个男人。这个人叫什么名字？他叫安德烈，安德烈是法国人，安德烈在干什么？他在他在做饭。他是在自己家做饭吗？不是他是在一家餐厅的厨房里做饭。因为他是这家厨房的主厨，主厨的意思就是一家餐厅当中最重要的那个厨师，就称为主厨。安德烈这么年轻就当了主厨，他是怎么当上厨师的呢？其实，安德烈成长于一个单亲家庭。单亲家庭的意思就是在这个家庭中，只有爸爸或者只有妈妈称为单亲家庭。单的意思其实是表示单一一个。亲是表示亲人单亲家庭。安德烈是跟着妈妈长大的，他还有一个哥哥。小的时候妈妈要一边工作，还要一边照顾他们兄弟俩。最麻烦的是，妈妈不喜欢做饭，也不会做饭。所以他们哥俩经常要吃罐装食品。罐装食品的意思就是用罐子装的食品，罐装食品。终于在安德烈10岁那年，他决定自己学做饭。一开始他经常会把厨房搞得乱七八糟。可是没过多久，他就真的可以为妈妈，还有哥哥做一顿简单的晚餐。虽然简单，但是这要比吃罐装食品好得多。自从安德烈学会做饭，他们家的伙食越来越好。随着安德烈的厨艺不断提高，哥哥有时候甚至会主动要求安德烈给他做个什么好吃的。比如哥哥会让安德烈给他做汉堡大餐或者红酒牛排。在家，安德烈绝对是个好孩子。可是在学校，他却惹出了各种麻烦，老师甚至会把妈妈请到学校去。今天是因为安德烈上课说话不认真听讲，明天是因为他踢足球，把老师办公室的窗户给打碎了。总之是各种各样的麻烦不断，最终安德烈并没有考上大学。18岁的他认真的思考他到底想干什么。他不想坐在办公室里，因为他觉得坐在办公室就像坐在教室里面认真听讲一样，特别无聊，特别让他头疼。他想干什么呢？他最喜欢干的事情是什么呢？他最喜欢做的事就是做饭烹饪。于是他向妈妈和哥哥道别，一个人去了纽约。因为在纽约有一家非常有名的法国餐厅，这家餐厅的主厨正在招学徒，他决定去纽约在这家餐厅当学徒。一去就是5年，5年之后，他终于回到了法国。回到法国后，他在巴黎的一家高级餐厅里做主厨。你看这就是现在的安德烈，我想每个人都有自己喜欢并且擅长的事情。但是要把自己喜欢并且擅长的事作为职业，可不是一个简单的事情。那么你的职业是你喜欢并且擅长的事吗？现在让我们来一起看一看今天用到的词汇。第一个词汇是单亲家庭。什么样的家庭叫单亲家庭？单是表示一个单亲表示，在这个家庭里，只有爸爸或者只有妈妈称为单亲家庭。请大家特别注意单这个字。如果你去酒店预定房间。可能也会用到这个字，单人间单人间就是表示这个房间只能住一个人。单人间。那如果这个房间可以住两个人呢，床比较大呢，我们称为双人间。所以一旦你学习了单，你就要认识双单。双比如说一双鞋双，你看是两个单是表示一个下一个罐装食品。你去超市买食品的时候，也就是买吃的东西的时候，你会发现有各种各样的包装，有罐装的罐子装的，还有什么装的呢？还有这种装的。还有盒装的，用塑料盒装的盒装的。以及用塑料袋子装的塑料袋装的称为袋装食品。袋装食品。今天我们学到的是罐装食品，你在家经常吃罐装食品吗？我最讨厌吃罐装食品。因为我爸爸是厨师，对，因为我爸爸是厨师。下一个厨艺不断提高，厨艺是什么呢？厨房的厨艺术的艺，其实他是表示一种能力，什么能力，做饭的能力。如果我说一个人的厨艺很高，厨艺很高是表示这个人太会做饭了，他做的饭太好吃了。在你们家，谁的厨艺最高？如果你说一个人的厨艺很差，哎呀，这个厨艺太差了，表示他不会做饭，他的饭太难吃了。安德烈的厨艺不断提高，因为他从10岁的时候就开始自学做饭了。我也希望正在看视频的你，正在自学中文的你，你的中文不断提高不断提高。下一个惹麻烦。我们之前说过，如果学了名词，你一定要想一想动词和它搭配的动词是什么？因为他们两个是一对夫妻couple。今天我们学的名词是麻烦 trouble宝，什么麻烦惹麻烦，谁惹麻烦。这两个孩子惹麻烦，他们在学校惹麻烦，所以老师让他们两个坐到办公室外面。惹麻烦，如果我是他们两个的妈妈，我可能会说你们两个天天给我惹麻烦，看到了吗？给我惹麻烦，为什么？因为他们两个在学校惹麻烦，老师就会给我打电话，让我到学校去把我训一顿，你是怎么教育孩子的？你们两个给我惹麻烦。所以在办公室，有时候经理可能会对他的下属说，你天天给我惹麻烦，是表示这个下属这个员工。在公司经常犯错误，这些错误给经理带来了很多麻烦。下一个坐办公室，什么叫坐办公室呢？你学过坐火车、坐汽车、坐地铁，这里说的是坐办公室。做办公室其实是一种工作方式。有的人的工作可能是在户外啊，不在不在办公楼里面。那么那些要在办公楼里工作的这些人，我们可以说他们是做办公室的。其实有一个词可以替换，他们是白领wh color。对有些人来说，做办公室是一件特别好的事。因为在户外工作很可能很辛苦，也很危险。坐办公室多好啊，在电脑面前打打字，接接电话，喝喝咖啡，下班了。但是。对安德利来说，他认为做办公室的工作又辛苦又无聊。下一个词，学徒学徒和学生有什么不一样呢？学生一般是学习课本上的知识，学的是理论，学的是一种知识。而学徒一般是要动手去做才能学会的。比如如果我想做面包师，我必须要到一家面包店去做学徒，看着我的师傅来做啊，看他怎么做，跟他一起做。他会教我。所以你会发现有学徒就会有师傅，师傅和学徒。如果在学校那些学习理论知识的，我们称为老师和学生。所以学徒指的是要动手做才能学会的。🎼比如在今天的故事里，安德烈想做一名厨师，所以他要去一家餐厅做学徒，因为是要动手去做的。照片上的这个女孩叫安娜，安娜今年19岁，她成长于一个幸福的家庭。从小到大，他都是爸爸妈妈的掌上明珠，无论他想要什么，想吃什么，爸爸妈妈都会尽可能的满足他的要求。19岁的安娜第一次离开父母，一个人住，可是照片上的安娜怎么了？你可以看到照片上的安娜受伤了，她哪里受伤了，她的左腿受伤了，这是右腿，这是左腿，她的左腿受伤了。他的左腿是怎么受伤的？其实今天中午在安娜做饭的时候发生了一场意外。安娜原本不会做饭，她从小都没有做过饭，但是刚刚搬进新家，她特别的兴奋。他想要给自己做个什么呢？有什么又容易又好吃呢？诶炸薯条。说干就干。安娜走进厨房，拿出了锅和油，她把油倒进锅里，油加热了，她再把薯条倒进油锅里。等着薯条变颜色。可就在这个时候，他的电话响了。安娜接起电话，原来是她最好的朋友。他的朋友特别想知道他的新房子怎么样，漂不漂亮，安娜实在是太开心了，可是因为厨房的油烟太大，她走到了客厅，和他的朋友聊天。😊一分钟过去了2分钟过去了，3分钟过去了。安娜突然闻到客厅里有一股奇怪的味道，而且从厨房里飘出了白烟。安娜突然想起来，坏了，我的薯条。安娜冲进厨房一看，不得了，油锅着火了，他该怎么办？她从来没有遇到这样的情况，他怎么知道做薯条会着火呢？安娜快速想到，用水用水可以浇灭火，于是他接了一杯水，直接倒进了油锅里，你会做饭吗？你知道如果油锅着火了，你该怎么做吗？真的要用水吗？千万不要。应该用盖子盖在油锅上。如果油锅里没有氧气了，火就熄灭了。可是安娜做了错误的决定。当油遇到水会发生什么事情？火苗一下就冲上了房顶，这下可把安娜吓坏了，情况已经够糟糕了，对吗？可是安娜因为太惊恐，从厨房向外跑的时候，他居然把油锅碰到了地上，而油锅却扣在了他的脚上。这就是为什么安娜的左脚受伤了。现在让我们来一起看一看今天的词汇。第一个表达是掌上明珠。掌是什么意思呢？你看这是我的手，而这个部分就是我的手掌手掌明珠明珠。你看照片上这个圆圆的亮亮的珠子是珍珠珍珠。明珠表示，闪闪发光的珍珠掌上明珠。我可以说某个人是我的掌上明珠。而且通常我们说的这个人是孩子。如果你听到有人说我们家孩子就是我们的掌上明珠，说明这个孩子对他们来说太重要了，太宝贵了。掌上明珠。也许在工作中，你还会听到小王可是我们老板的掌上明珠，表示小王对老板来说，对他们公司的老板来说是非常重要的一个人，非常小心的把他保护起来，非常小心的照顾他。掌上明珠。Okay.下一个表达发生了一场意外，什么是意外？意外是一个名词，意外是不好的事情。意外意料之外的事情，我没想到他会发生意料之外的事情。Yeah.我来给大家一个例子，比如你和朋友去参加派对，什么派对是一个人的生日派对，生日party，大家太高兴了，决定站在房顶上庆祝。可是就在这个时候，有一个人不小心从房顶上掉了下来。这就是一场意外。我们可以说在昨天的生日聚会上发生了一场意外。😊在昨天的生日聚会上发生了一场意外，什么意外，有一个人从房顶上掉下来了。下一个词炸薯条，你看这个就是薯条，你也可以说炸薯条，它的名字叫薯条或者炸薯条。炸其实是一种烹饪的办法，就是把油加热，然后把食物放进油里，炸这些食物fry炸这些食物。比如我们可以炸薯条，有的人可能还会炸甜甜圈，donnuut炸甜甜圈。薯条、甜甜圈，这些食物都是油炸食品。油炸食品。薯条、甜甜圈这些虽然很好吃，但是如果你自己去炸的话，你会发现厨房里怎么了？厨房里油烟很大油烟很大，也就是你在炸薯条，炸甜甜圈的时候冒的那些白烟。は.你可以说油烟很大油烟很大，而在厨房里通常大家都会装一个抽油烟机，你也可以说吸油烟机，也就是把这些油烟抽走。把这些油烟抽走，抽油烟机。下一个表达，用水把火浇灭。如果着火了，着火了，有些情况下，你是可以用水把火浇灭，把火浇灭浇这个字，可能你已经认识了浇，比如浇花，如果你喜欢养花养植物的话，你要定期浇花给花浇水，对吗？浇水浇花。可是今天我们。觉得不是浇水，而是浇灭浇灭，把什么浇灭，把火浇灭，把火浇灭。最后一个表达，惊恐惊恐，惊吃惊，shocked，恐是表示恐惧，非常非常害怕，又吃惊又害怕惊恐，有什么事情会让你惊恐呢啊，很可能是突然发生了不好的事情。比如突然地震了，人们会非常的惊恐。🎼 今天我们要讲一个关于麦克的故事，麦克是谁？照片上的这个男人就是麦克。麦克今年38岁，他是一家公司的老板。照片上的麦克看上去非常痛苦，他怎么了？你看他皱着眉头，还不停的揉着自己的太阳穴。他遇到什么麻烦了吗？对他遇到了大麻烦。故事要从10年前讲起，10年前，麦克只有28岁。那时的他创建了一家食品公司，公司开业不久就赚了不少钱。麦克有钱买车买房，这让他信心大增。他意识到自己是一个有商业头脑的人，什么叫有商业头脑呢？头脑指的是这里有商业头脑的意思就是表示他很善于发现做生意的机会，他很会赚钱，他很会做生意。于是他又向银行贷款了100万，向银行贷款的意思就是向银行借钱，我们称为向银行贷款。可是，即便麦克在生意上获得了这么多成功，他的父亲却始终不怎么支持迈克做生意，为什么呢？因为麦克的父亲是一名军人。在他看来，做生意这件事风险太大，他尤其担心的是麦克的性格。麦克做事不沉稳，而且急于求成。做事不沉稳是什么意思呢？我们说一个人不沉稳，其实是表示他容易冲动，容易快速做决定，也就是喜欢做而不考虑后果的人。而急于求成就是太着急的希望快点成功。急于求成。比如麦克有时会请生意上的朋友吃饭、喝酒、赌博，甚至给他们借一些钱。麦克不同意父亲的看法，因为在他看来不交朋友又怎么做生意呢？在迈克看来，父亲是一个古板又思想守旧的人。古板的意思是表示不容易改变，思想守旧，是表示守着一些老的思想，总是按照过去的办法，老的办法来做事情。可是最近麦克遇到了大麻烦，就在今天早上，工厂的厂房发生了爆炸，有好几名工人都受伤了。麦克不仅要支付高额的赔偿金，重建厂房也需要大量的钱。工厂不能正常运转，他就没有钱去偿还那100万的银行贷款。这时候他打电话给他的那些生意伙伴。可是没有一个人接他的电话，大家都知道麦克是来借钱的。麦克痛苦不已，他认为这一切都是由他自己造成的。他想起了父亲的话，父亲曾经警告过他，做生意是一件高风险的事情，一定要谨慎谨慎再谨慎。他没有听父亲的话。父亲也曾经警告过他，不要随便借钱，那些爱借钱的人都不是真正的朋友。现在麦克的人生陷入了低谷。🎼就在这个时候，门铃响了，麦克怎么也想不到谁会在这个时候来看望他这个失败者呢？来看望他的正是父亲和母亲，父亲从口袋里掏出一张银行卡，交到了麦克手里。他对麦克说，儿子。这是我和你妈妈这些年来的存款，现在你一定非常需要钱，你拿去用吧。麦克接过银行卡，不知道该说什么好。他意识到自己深深的错怪了父亲，现在让我们来一起看一下今天的词汇。第一个表达是有生意头脑。如果你有一个朋友，只要他做生意就一定赚钱。我们可以说他很有生意头脑，说明他在做生意方面有很多想法，他很善于赚钱，他很善于做生意，有生意头脑。下一个表达向谁贷款。一般我们会向谁贷款呢？如果你想买一辆汽车，可是你没有足够的钱，或者你想买一个大房子，没有足够的钱，我们会选择向银行贷款。也就是向银行借钱的意思。但是有一个更正式的说法，叫做向银行贷款。你买房子向银行贷款了吗？你向银行贷款了多少钱？下一个表达，给谁借钱，给谁借钱。有可能你的朋友遇到了困难，你没有办法不得不给他借一些钱。给某人借钱，你看我把钱给他，我给他借钱。大家要特别注意两个字，一个是给一个是向。如果我给你借钱是表示我把钱给你给你。可是如果我向你借钱是表示我没有钱，你给我借点钱吧，我向你借钱，可是我没有钱，我向你借钱。下一个表达，做事情不沉稳。当我们形容一个人做事情不沉稳是什么意思呢？你看这两个孩子嗯。看来这两个孩子特别粗心，有可能总是做错什么事情，总是忘了什么事情。也可能呢他在做之前没多想，他没有认真的想应该怎么把他做好，而是急急忙忙的去做，做的很快，但是做的不好，做事情不沉稳。😊下一个表达，急于求成四个字，急于求成。急于求成的意思就是着急着要成功，想快点成功，急于求成。比如有的人急于求成，希望快点赚钱，所以会选择那些风险很高的事情去赚钱。急于求成，比如赌博就是急于求成。最后一个表达，古板守旧。古板是一个词，守旧是一个词，通常这两个词会同时出现。我们会说一个人古板守旧，古板就是表示它不容易改变。很难改变，守旧就是他不接受新的事物，他总是守着过去的方法，过去的东西守旧古板守旧。🎼在这张照片上，你可以看到4个人1234。这四个人在什么地方？他们在候车厅吗？不是，他们在公共汽车上，也不是，他们在地铁上。而且你可以看到中间的这位年轻人，他穿着白色的衬衣，戴着眼镜，像我一样，戴着眼镜。胸前他的胸前抱着一个黑色的背包，他在干什么？他睡着了，没错，他在地铁上睡着了。这位年轻人叫王晓鹏，他今年25岁，他大学毕业两年了。他目前在上海的一家公司做电脑工程师，也就是IT。他在上海的一家公司做IT。他其实不是上海的本地人，也就是说他的家原来不在上海，他来自北方的一个小城市。大学毕业以后，他像很多年轻人一样决定到中国的北上广深打拼。什么叫北上广深呢？其实这是一个网络的流行语，北指的是北京，上指的是上海，广指的是广州深指的是深圳。很多年轻人都去了北上广深打拼，为什么呢？为什么一定要去北上广深打拼呢？如果你对中国有一定的了解，那么你肯定知道北京、上海、广州和深圳可以说是中国最繁华、经济最发达的城市。经济发达是什么意思呢？当我们说一个国家或者一个城市经济很发达，是表示这个地方有很多的大公司，大企业，人们有很多的就业机会，而且工资很高。所以这里的人，他们的生活水平很高，他们过得很富足。其实也就是过得很好，有很多钱的意思。而经济不发达的地方是表示，这里可能没有什么企业，也没有什么工作机会。这里的人生活水平很低，经济条件不是特别好。如果一个国家或者一个城市经济不发达，其实指的就是这个地方很穷，人们的生活水平很低，这也是为什么？在中国有很多来自小城市的年轻人，大学毕业以后，他们决定去北上广深打拼。因为这些大城市有更多的工作机会，工资会比较高，而且未来职业的发展也要比。在小城市更有前景，更有前途。有前景有前途的意思就是表示有非常光明的未来。看来王晓鹏一定是太累了，他坐着地铁都睡着了，他每天要坐多长时间的地铁呢？他每天要坐两个小时的地铁，上班一个小时，下班一个小时，每天上下班要在路上花费2个小时。也许你会问他为什么不住的离公司近一点呢？其实啊在大城市的市中心，房租是非常贵的，房租就是指你去租房子，要付的钱就叫做房租。在大城市的市中心，房租非常贵。所以王晓鹏决定在郊区找一个房子，郊区就是指远离市中心的suburb。所以他在郊区租了一套房子。而且他不是一个人租这套房子，而是和别人合租合租就是和几个人一起租一个房子，这样就可以节省一些钱。现在让我们来一起复习一遍今天的词汇。第一个词汇，大学毕业。毕业就是表示完成学习大学毕业，你完成了大学的学习。当然也可以说高中毕业，你完成了高中的学习。B表示完毕完成的意思。下一个词打拼。在前几期视频中，我们学了打工。今天我们说的是打拼。打拼的意思就是努力工作。比如他在北京打拼了很多年，这句话的意思是，他在北京努力工作了很多年，我一直在上海打拼，我一直在上海努力工作。Okay.下一个词，经济发达，经济economy。经济发达的国家就是表示富裕的国家。经济不发达的国家就是表示贫穷的国家。当然你也可以说经济发达的城市和经济不发达的城市。下一个生活水平很高。当人们的生活水平越来越高，是表示他们除了。了有钱买食物呃，租房子还可以买电脑、手机、首饰或者坐飞机去国外旅行，上更好的大学，人们的生活水平越来越高。生活水平很低的意思是表示人们的收入很低，消费能力很有限，只能买一些食物或者日常的基本生活用品。没有钱去买电脑、手机或者出国旅行，生活水平很低。下一个词，房租房房子租租金，租金就是你要租用一个什么东西，必须付的钱。房租我租这个房子，我们的房租是1000人民币，房租。最后一个词合租。合租的意思就是表示你和另外一个人或者另外几个人一起租什么东西，可以租房子，所以合租房子。🎼也可以合租一辆汽车合租。你可以看到照片上有两个人。这个年轻的男孩今年16岁，他叫kevin，他上高中二年级，而这个戴眼镜的中年男人是kevin的父亲。你可以看到他们两个正在聊天，可是凯文看上去不怎么高兴，他们之间发生了什么呢？为什么凯文不高兴呢？kevin的父亲其实是一位成功的建筑设计师。他在事业上非常成功，可是最让他头疼的却是他和儿子之间的关系。小的时候，凯文很喜欢和爸爸在一起。但是，随着年龄的增长，凯vin和爸爸的关系越来越疏远。当两个人的关系越来越疏远的时候。他的意思是，两个人的心越来越远，两个人的关系越来越不好。为什么他们两个的关系越来越疏远呢？自从凯文上了高中以后，爸爸的事业也发展的越来越好，每天他都有大量的工作和应酬。应酬的意思就是因为工作而不得不去见某个人，有时候是去吃饭，有时候是参加活动或者旅行应酬。Y.爸爸有大量的工作和应酬，那么就没有时间陪kevin。有时候爸爸甚至没有时间回家吃晚饭，所以他会给凯vin一些零用钱，让他自己出去到餐馆买东西吃。Okay.爸爸除了给儿子零用钱，还会送他各种礼物、电子手表、手机、游戏机、各种昂贵的电子产品。一开始，凯文还觉得这样的生活太棒了，因为没有人可以管他，他可以做任何自己想做的事情。可是渐渐的他发现他和父亲在一起的时间越来越少。上了高中后，凯文发生了很大变化，他常常不跟父亲说话，把自己一个人关在房间里。Okay.爸爸意识到这样下去可不行，所以他决定找凯vin谈一谈。他想知道到底发生了什么事情，让凯vin变成这样，是因为他做错了什么吗？还是因为在学校发生了什么事情？kevin告诉爸爸，他真正想要的不是那些礼物，而是一段正常的父子关系。爸爸不理解什么才算正常的父子关系。他们说，比如学校有活动，我有篮球比赛，我希望你能来参加。我还希望每天放学后，你能回家陪我吃晚饭。在放假的时候，能有一次属于我们父子俩的旅行。凯文的父亲虽然带凯文去过很多国家。但那些旅行都是和客户一起去的。kevin从来没有真正享受过那样的旅行。他想要更多和父亲在一起的时间。第一个表达是在事业上很成功，在什么什么上很成功，生活有很多方面，不是所有的事情我们都能做好。Yeah.有的人在事业上很成功，比如他的工作非常好，在事业上很成功。我们也可以说一个人在生活上很成功，在生活上很成功，可能是因为他家庭很幸福，他过得非常快乐，在生活上很成功。下一个关系疏远。在前几期视频中，我们学习过关系亲近，你和水很亲近，表示两个人的关系很好，关系疏远很远，表示两个人的关系不好，不怎么说话，关系疏远。下一个表达，性格沉闷。我们已经学习过非常多描述性格的词汇。今天我们又学习了一个新词汇，新表达，性格沉闷，性格沉闷，表示这个人不爱说话，他总是不说话，性格沉闷。Okay.可能你会问性格沉闷和性格孤僻有什么不一样呢？孤僻其实更多的是表示这个人不爱交朋友。性格沉闷是表示这个人很少说话，没有什么兴奋的事情发生，他可能很少大笑，很少唱歌跳舞，很少做那些让人兴奋的事情，性格沉闷。Okay.下一个应酬，只要是和同事因为工作原因，你要出去吃饭，要出去喝酒，要出去见某个人，我们都称为应酬。我今晚有应酬的意思是，我今晚不在家，我要出去做什么，而出去见的这个人是因为工作原因，有应酬。下一个零用钱，也可以说零花钱。kevin的爸爸每个星期都会给 Kevinvin很多零用钱，你小的时候有零用钱吗？最后一个表达正常的关系。我们每个人都希望在一个正常的关系里，在一个健康的关系里。什么叫正常的关系呢？在今天的故事里，对凯文来说，正常的父子关系是他们有时间在一起相处。爸爸每天下班后会和凯文一起吃饭。凯文在学校有活动，爸爸会参加。他们父子有机会一起去旅行，对凯文来说，这才是正常的父子关系。🎼.在这张照片上，你可以看到有一些学生，还有家长，家长是什么意思呢？家长就是爸爸妈妈。这张照片上的女孩子。推着一个行李箱，行李箱上架着他的手提包。他身后的人甚至推了一个平板车，什么是平板车呢？如果你去伊K呀买家具，家具太沉了，拿不动，你就需要一个平板车。平板车上放着大大小小的行李，大大小小的意思啊，就是表示有很多有的大有的小大大小小的行李。大学生活既让人兴奋，又让人紧张。在大学里，我们不仅要认识新同学，适应新环境，学新知识，还有很多无法预测的困难。比如在大学里，你会认识各种各样的人，在大学里的学生，有的是本地学生，有的是外地学生，什么是本地学生、外地学生呢？我们先来解释本地人外地人。本地人的意思就是表示你在这个城市出生长大，那么你就是本地人。如果是从别的城市后来搬过来的，就是外地人。假设这所大学在中国的北京，如果这些学生是北京人，他们就是本地人。我们也可以说他们是本地学生。而其他的学生，如果他们不是北京人，而是从别的城市从其他城市坐飞机、坐火车、坐汽车来到这里上大学，就叫做外地学生。对于外地学生来说，他们要克服很多困难。Okay.上大学的时候，学生们一般住在宿舍里，有的是4人间，有的是8人间，四人间和8人间的价格不一样。那如果家庭条件比较好的人，一般选择4人间。家庭条件不太好的学生一般会选择8人间。在大学里，学生们吃饭的问题是怎么解决的？通常来说，大学都有自己的学生食堂，学生食堂的意思啊就是专门为学生提供的吃饭的地方，而且菜的价格都比较便宜。学生食堂。Y.其实还有一个更好听的名字叫餐厅。那么食堂和餐厅有什么不一样呢？你可以想象一下，如果学生食堂菜又难吃，而且环境又差，我们就说食堂，这是一个比较老套的词，如果学生餐厅又干净又漂亮，而且伙食又好。那么我们就可以说这是餐厅餐厅这个词会让人联想到高品质的。比较舒适的吃饭的地方。餐厅。一般来说，中国最好的大学都是在中国的大城市，比如北京、上海这样的大城市，而那些不太好的大学一般都是在小城市，全国的学生都想去中国的大城市上好大学上一流的大学。而且一流的大学，学费更便宜，越差的学校反而学费越贵。Okay.有一些学生，他的家庭条件不太好，可是父母为了让这个孩子能够上大学，能够更有竞争力，以后能够找一个好工作，所以只好支付昂贵的学费，让这个孩子去上大学。Yeah.有的学生甚至没有足够的生活费。什么叫生活费呢？生活费就是你在这个城市吃饭、坐车、买衣服，日常需要的这些费用就叫做生活费。有的学生没有足够的生活费怎么办呢？他们一般会在城市里或者学校里打工，比如在超市里打工，或者在餐厅打工。总之，在大学里，你会遇到各种各样的人。家庭背景不一样，经济条件也不一样，每个人的想法也不一样，对那些经济条件不太好，需要打工才能够挣足生活费的孩子，常常要面对一个问题，那就是和那些有钱的家庭条件很好的孩子相比，他们的学习生活会更加艰难。让我们来一起复习一遍今天学习过的词汇。第一个词汇是本地人，外地人，本地人的意思就是在这里出生，在这里长大的人，本地人。外地人从别的城市搬过来的人成为外地人。宿舍我不知道你以前有没有住过宿舍，我在东莞打工的时候，我要住宿舍，我上大学的时候也要住宿舍，宿舍分4人间。你看有四个床，我们叫四人间，6个床的话，6人间。8个床呢，8人间。我们还对比了食堂和餐厅，食堂和餐厅有什么区别呢？我一听食堂，食堂这个词比较老，一般食堂的食物不是很贵，所以也不是很好吃。可是餐厅呢通常是价格比较贵，环境比较好。可能这个菜的味道也比较好吃的地方。餐厅。餐厅这个词像不像英语的canteen，它其实是一个后来出现的流行词。下一个词汇是费用，费用就是指你付的什么什么钱。你因为买了什么或者使用什么而要付的钱。所以我们可以说交通费，你坐汽车坐地铁要付的钱，交通费。电费你在家使用电要交的费电费。水费很好理解，你在家用水支付的钱支付的费用就叫做水费。还有呢生活费，你买衣服，买吃的所有这些水费、电费都是一个人的生活费。下一组词，我们用到了经济条件好和经济条件差。可能你已经知道了穷和富，说这个人很穷，或者这个人很富有。其实人们不太喜欢听穷这个字，当一个人很穷，我们也可以说他们家或者这个人的经济条件不好。如果这个人很有钱，我们也可以委婉的说，这个人的经济条件很好，用这种方式更加委婉，更加礼貌。最后一组词打工或者做兼职。在刚才的视频里，我说有些经济条件差的学生要去打工。打工在前几期视频你已经学过，我去东莞打工，从一个城市到很远的城市去打工，也就是你到外地去打工。在这里，这些学生在学校里打工，其实指的是这个工作，不是一个真正的工作，他可能每天只工作一个小时、2个小时或者工作两三个月就不做了。我们一般把这样的工作叫做兼职。所以既可以说他在学校打工，我也可以说他在学校做兼职。🎼 大家请看这张照片，今天我们要讲的故事是关于谁的呢？这张照片上的人在干什么？他们是什么人？你可能已经知道了，他们是学生正在上课，他们是小学生、中学生还是大学生。他们不是大学生，也不是小学生，而是中学生。中学又分两种，有初中和高中，我觉得他们应该是高中生。因为你可以看到每个人的桌子上都有一大摞书，一大摞书，不是一本书、两本书，而是一大摞书。我来给大家解释一下什么是一大摞书。什么叫一摞书呢？这就是一摞书。你看一摞书。12345678可以有很多本一摞书，这样就叫一。摞书每个人的桌子上都有一大摞书。有的学生在书的后面睡觉，有的学生在书的后面吃东西或者玩手机，他们以为老师看不到，可是我后来自己当了老师，站在讲台上一看，其实看的清清楚楚。这些学生都是高中生，他们是高中几年级、一年级、二年级还是三年级？他们是高中三年级。高中三年级，我们也可以说高三，他们是高三学生，高三的学生面临一个非常重要的考试。那就是高考高考考得好就可以进入好的大学学习，如果高考考的不好。那么很可能就要去一些不好的学校，甚至不用上学了，直接去工作。所以高考对觉。大多数中国人来说是一生中非常重要的一次考试。高考前，孩子们从早到晚的学习，而且教室里还有高考倒计时。倒计时是什么意思呢？倒计时1987，倒着数倒计时，距离高考还有多少天？距离高考还有100天。距离高考还有99天、98天、97天。高考倒计时对很多人来说，高三是他整个学习生涯中压力最大的一年。他们不仅作业多，考试也多。而且老师还会根据考试成绩进行座位排名。我说慢一点，考试成绩，成绩就是你考了多少分，如果你考的好，那么你就可以做的靠前一点，你可以。离黑板近一点，如果你考的不好，就要离黑板远一点。你看这个学生坐到了教室的最后一排。所以我猜这个学生的成绩不好，他的学习不好，他在干什么呢？他在写作业吗？不是他在睡觉，他上课的时候睡觉，可是他为什么上课的时候睡觉呢？他学习不好就更不应该睡觉了。因为他昨天晚上熬夜了，熬夜的意思就是睡得很晚，不睡觉，熬夜。他昨天晚上熬夜了。你喜欢熬夜吗？我知道有很多年轻人喜欢熬夜，晚上12.1点才睡觉，熬夜熬夜对身体不好。他昨天晚上也熬夜了，他为什么熬夜呢？因为他知道他的成绩不好，所以他每天晚上都学习到很晚。🎼可是他晚上不睡觉，上课的时候睡觉，你觉得这样的学习方法有效吗？让我们来一起复习一遍今天的词汇。第一个词，我们学了一摞书，不是一本，而是一摞书。你还可以说一摞纸一摞杯子。一摞碗，一摞盘子。下一个词讲台台其实是一个台子。如果你在这个台子上唱歌跳舞，我们叫舞台。如果你在这个台子上讲话上课，一般叫讲台，你在讲台上讲话说话。Yeah.下一个词，高考，为什么是高考呢？因为是高中生的考试。高考是进入大学前，绝大多数人都要参加的一个考试。高考我不知道在你的国家，高考叫什么名字呢？在法国叫back在你的国家高考叫什么名字。Okay.下一个倒计时倒着数倒计时，我们可以一天一天的倒计时，22天21天、20天，倒着数一天一天的数，也可以1秒1秒的倒计时，10秒9秒8秒7秒by second1秒1秒的倒计时。下一个排名排名排名是什么意思呢？名就是名次，不是名次啊，是名次，第一名、第二名、第三名名次排名。我给大家一个例子，比如我们可以看到国家的GDP排名，所有国家的GDP排名，第一名、第二名、第三名、GDP排名。Okay.也有可能是名人财富榜，看这些名人有多少钱，他们的财富有多少，财富最多的在第一名，对财富进行排名，财富排名。而在今天的视频中，我们讲的是乘绩排名。根据成绩来排名。下一个熬夜熬夜就是不睡觉，熬夜干什么？熬夜看电视，熬夜玩游戏，有的人熬夜学习或者熬夜工作。😊🎼请大家看这张照片，这张照片上有两个人。一个孩子和一位老人，这个孩子叫什么名字？这个孩子叫小明小明，这个老人是小明的什么人？这个老人是小明的爸爸吗？不是，这位老人是小明的姥爷姥爷。老爷是什么意思呢？姥爷就是妈妈的爸爸叫姥爷。当然，在中国的南方，人们也叫外公。外公，我来自中国的北方，所以我叫老爷，可是南方的朋友会叫外公，老爷和外公是一样的。妈妈的爸爸叫老爷或者外公，他们两个去干什么啊？今天是姥爷接小明放学，老爷来接小明放学，放学是什么意思？放学就是今天的课上完了，可以回家了。放学。为什么小明的爸爸妈妈没有来？因为小明的爸爸妈妈去出差了。出差出差的意思就是表示，因为工作原因要去另外一个城市，要去见客户，或者见同事，要去另外一个城市工作。小明的爸爸妈妈去出差了，所以不能来接小明放学。他的姥爷今天不工作吗？他的姥爷已经退休了。退休了的意思就是表示他已经工作了一辈子，终于不用工作了。他工作了40年，不用再工作了，可以回家了。他退休了。他的老爷以前是做什么工作的？他的老爷以前是一位火车司机，火车司机，他的老爷以前是火车司机。小明的老爷特别宠爱他，特别宠爱他是什么意思呢？当我们说一个人特别宠爱另外一个人的意思是表示。他特别喜欢这个人，对这个人特别好。但是我们指的是长辈宠爱晚辈。比如。在这张照片中，老爷是长辈，小明是晚辈。长辈宠爱晚辈，而不能说晚辈宠爱长辈，不能这么说。小明的姥爷特别宠爱小明，对他特别好，给他买各种各样的玩具礼物。小明只要说他想要什么，老爷一定给他买。可是小明的爸爸妈妈认为这样不对，这是在溺爱孩子。溺爱孩子，刚才不是宠爱吗？对，小明的姥爷很宠爱小明，可是小明的爸爸妈妈认为姥爷在溺爱孩子，在溺爱小明，溺爱是好词还是不好的词，溺爱其实有负面的意思。也就是有不好的意思。当我们说溺爱一个人，是表示你太爱一个人而为他做所有的事情？比如不让小明自己穿衣服，老爷帮他穿，不让小明自己刷牙，老爷帮他刷。小明说我要这个那个那个我要好多玩具，老爷全部卖给他。所以小明的爸爸妈妈认为这是溺爱，这就是我们今天的故事。接下来让我们来一起复习一遍今天的词汇。😊今天我们学习的第一个词汇是姥爷或者外公，姥爷外公都是指妈妈的爸爸，小明的爸爸妈妈去干什么了？他们去出差了，你的工作经常出差吗？我的工作不需要出差。下一个，他的老爷难道不工作吗？他的老爷已经退休了，我的爸爸妈妈都退休了，你的父母退休了吗？在你的国家要工作多少年才可以退休？火车司机，你可能知道出租车司机、taxi driver出租车司机。今天我们说的是火车司机，开火车的人，火车司机。小明的老爷特别宠爱他，特别爱他，对他特别好，特别宠爱他。在你们家，哪一位长辈特别宠爱你呢？在我们家，我的奶奶特别宠爱我，总是把最好的东西给我，对我特别好，小明的老爷特别宠爱小明，可是他的爸爸妈妈不认为这是好的，小明的爸爸妈妈认为老爷。太溺爱孩子，溺爱溺爱就是表示为孩子做所有的事情。比如有的家长特别害怕孩子哭，只要孩子说我不喜欢，不高兴，爸爸妈妈可以做任何事情，让自己的孩子高兴，这就是溺爱。😊🎼在这张照片上，你可以看到两个人，他们是乔恩和安娜。这是他们第一次约会。乔恩和安娜是在朋友的婚礼上认识的。乔恩虽然看上去相貌平平，但是在朋友中，他却是出了名的好人。什么叫相貌平平呢？相貌指的是一个人的长相，一个人的外观。乔恩虽然看上去是一个很普通的人，但是在朋友中，他却是一个好人。怎么样的好人呢？他认真诚恳而且节俭。节俭的意思就是不爱乱花钱，他是一个很节俭的人。乔恩拿着菜单，心里在犹豫，今晚该点什么？这个菜单上的每一道菜都很贵。😊这让他想起了朋友的话。乔恩，请女孩子吃饭，千万不要节俭，你要大方一点，不然女孩子会觉得你很小气，没有诚意。可是乔恩却怎么也不理解这些话，他不认为豪华的晚餐或者昂贵的礼物可以证明一个人的诚意。如果真的是这样，那么每个人都可以用请人吃饭送礼物的办法，假装自己很有诚意。那些真正能够证明一个人有诚意的，应该是他的性格以及做事情的习惯。就在这个时候，安娜说话了。乔恩，你介意我们换一家餐厅吗？这家的菜太贵了，就在我公司楼下有一家小餐厅又好吃又便宜，我带你一起去。乔恩放下菜单，他的内心突然亮了起来，他知道安娜正是他要找的那种女孩。现在我们来一起看一下今天的词汇。第一个是相貌平平，相貌指的是一个人的长相，一个人的长相。我们当然可以说一个人长得很漂亮。还有他的相貌出众，出众就是比一般人都好，他长得很帅，长得很漂亮，相貌出众。可是大多数人呢都是相貌平平，相貌平平。你在什么时候会听到这个词呢？比如说演员这个职业，其实对相貌的要求是很高的。你看那些明星长得都特别漂亮，相貌出众。可是也有一些演员，他们虽然相貌平平，长得很一般，但是演技很棒，演技很棒，相貌平平，但是演技很棒。下一个词节俭节俭的意思就是不乱花钱，很少买东西，很少花钱的意思。节俭。节俭的反面呢节俭的反面是非常爱乱花钱，爱买各种东西，有用的没用的都买，把钱很快的花掉，就是不节俭。节俭表示不乱花钱。下一个词，大方。当我们说一个人很大方，他可能是很喜欢给别人送礼物，或者别人向他借什么东西，借一支笔，借一本书，甚至借钱，他都很轻易的给别人。我们就可以说这个人很大方，很大方。Ya.下一个表达，小气。如果你学会了大方，那么我们一定要学习小气，小气是大方的反义词。你看这两个孩子他们在抢一个玩具，这个玩具汽车是小男孩的，小女孩说，给我玩一会儿吧，小男孩说不给。他就是小气，这个男孩子有点小气。如果他说没问题，拿去吧，玩吧。我们可以说这个男孩子很大方很大方。😊下一个词证明我们通常会说我想证明什么什么东西是真的。比如有人说我，但你昨天在超市偷了东西，我没有啊，我没有啊，可是你怎么证明你没有偷呢？你怎么证明。我有办法证明我不是小偷，我可以把超市摄像头的录像调取出来。我们看一看我到底有没有偷东西，我可以用超市的录像来证明我是不是小偷，证明。下一个词有诚意。有诚意这个词一般用在一段关系中，比如男女朋友关系中。朋友关系中或者商务关系中，我们来分别举三个例子。第一个男女朋友关系。如果我和一个人交男女朋友，我有诚意的话是我真的希望我们两个可以在一起。我真的希望我能做他的女朋友。如果我没有诚意的话，就是我嘴上说是的，我想做你的女朋友。其实我心里想着另外一个人，我没有诚意。也就是我不诚实，对吗？我不诚实。第二个例子，朋友关系朋友关系。如果我真的想和一个人做朋友，那么我就真的会把他当做朋友，我会帮他，我会在意他，我会关心他。可是如果我在这段朋友关系中没有诚意。很可能我只是嘴上说，对你是我最好的朋友。可是他需要帮助的时候，我却不会真的帮他，没有诚意。Okay.最后一个例子，在商务关系中，人们也很在乎是不是彼此有诚意。如果在商务关系中，彼此有诚意，是表示大家一起努力把这件事情做好，可是没有诚意，很可能嘴上承诺的事情根本不会去做，嘴上说的和真正做的不是一回事。\n"
     ]
    },
    {
     "name": "stderr",
     "output_type": "stream",
     "text": [
      "\n"
     ]
    }
   ],
   "source": [
    "model = AutoModel(\n",
    "    model='iic/SenseVoiceSmall',\n",
    "     vad_model=\"fsmn-vad\",\n",
    "     vad_kwargs={\"max_single_segment_time\": 30000},\n",
    "    device=\"cuda:0\",\n",
    "    #punc_model = \"ct-punc\"\n",
    ")\n",
    "\n",
    "# en\n",
    "res = model.generate(\n",
    "    input=audio_16KHz,\n",
    "    cache={},\n",
    "    language=\"zn\",  # \"zn\", \"en\", \"yue\", \"ja\", \"ko\", \"nospeech\"\n",
    "    use_itn=True,\n",
    "    batch_size_s=60,\n",
    "    merge_vad=True,  #\n",
    "    merge_length_s=15,\n",
    ")\n",
    "text = rich_transcription_postprocess(res[0][\"text\"])\n",
    "print(text)"
   ]
  },
  {
   "cell_type": "code",
   "execution_count": 14,
   "metadata": {},
   "outputs": [],
   "source": [
    "# Save the transcription to a text file\n",
    "with open(\"transcription_SenseVoiceSmall-fsmn-vad.txt\", \"w\", encoding=\"utf-8\") as file:\n",
    "    file.write(text)"
   ]
  },
  {
   "cell_type": "code",
   "execution_count": null,
   "metadata": {},
   "outputs": [],
   "source": []
  }
 ],
 "metadata": {
  "kernelspec": {
   "display_name": "sensevoice_env",
   "language": "python",
   "name": "python3"
  },
  "language_info": {
   "codemirror_mode": {
    "name": "ipython",
    "version": 3
   },
   "file_extension": ".py",
   "mimetype": "text/x-python",
   "name": "python",
   "nbconvert_exporter": "python",
   "pygments_lexer": "ipython3",
   "version": "3.12.2"
  }
 },
 "nbformat": 4,
 "nbformat_minor": 2
}
