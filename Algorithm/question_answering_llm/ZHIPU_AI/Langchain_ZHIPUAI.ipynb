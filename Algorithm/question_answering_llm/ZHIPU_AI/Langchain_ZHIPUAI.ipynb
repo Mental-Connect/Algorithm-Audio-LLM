{
 "cells": [
  {
   "cell_type": "code",
   "execution_count": 1,
   "metadata": {},
   "outputs": [],
   "source": [
    "from langchain_core.prompts import ChatPromptTemplate\n"
   ]
  },
  {
   "cell_type": "code",
   "execution_count": 2,
   "metadata": {},
   "outputs": [],
   "source": [
    "from langchain_community.chat_models import ChatZhipuAI\n",
    "from langchain_core.messages import AIMessage, HumanMessage, SystemMessage\n",
    "import os"
   ]
  },
  {
   "cell_type": "code",
   "execution_count": 3,
   "metadata": {},
   "outputs": [],
   "source": [
    "os.environ[\"ZHIPUAI_API_KEY\"] = '7c5dd5c2b27eb250cf2d62c9903326b9.s4QDrfGTqp641Kw1'"
   ]
  },
  {
   "cell_type": "code",
   "execution_count": 3,
   "metadata": {},
   "outputs": [],
   "source": [
    "context = '''\n",
    "应对抑郁症的复杂情感和挑战可能是一个极其艰巨的过程，尤其是在你作为学生需要平衡学术责任、社交压力和个人期望的时候。理解抑郁症不是弱点或无法应对的表现，而是一种需要同情、理解和适当护理的医学状况，这一点至关重要。在你经历这些困难时，认识和验证你的感受是很重要的。学业压力、社交动态和自我施加的期望可能会让人感到难以承受。请记住，你并不是孤单面对这些经历。许多学生也经历类似的困扰，寻求支持是迈向康复的勇敢和重要的一步。\n",
    "\n",
    "抑郁症常常扭曲我们对自己和周围情况的看法，让我们感到孤立无援，仿佛我们的困境无法克服。然而，这些感受虽然非常真实，但并不定义你的价值或改善的潜力。寻求帮助是至关重要的，无论是通过专业咨询、支持小组还是信任的亲友。治疗提供了一个安全的空间，让你可以在没有评判的情况下探索你的思想和感受，提供管理和缓解抑郁症状的工具和策略。例如，认知行为疗法可以帮助你识别和挑战那些加重抑郁症的负面思维模式和行为。此外，药物治疗可能会被建议，以帮助平衡大脑中的化学物质，但这应始终与医疗提供者充分讨论。\n",
    "\n",
    "在治疗中，我们一起探讨抑郁症的根本原因，这可能包括过去的创伤、持续的压力源或其他心理因素。我们可以深入这些领域，以帮助你制定应对策略和建立韧性。同样，关注自我护理实践也很重要，例如保持健康的日常生活、参与带给你快乐的活动、以及练习正念和放松技巧。定期的身体活动、均衡饮食和充足睡眠对支持心理健康至关重要。参与爱好、与支持的朋友和家人共度时光，以及设定小而可实现的目标也可以显著改善你的整体幸福感。\n",
    "\n",
    "请记住，管理抑郁症的进展并非总是线性的。这过程中会有起伏，这很正常。重要的是你继续迈向康复的步伐，并在需要时寻求支持。了解抑郁症和心理健康也是很有益的，它可以赋予你力量，减少无助感。你的旅程是独特的，重要的是以耐心和自我同情来对待它。感觉好转的道路往往是渐进的，但通过正确的支持和策略，你可以取得有意义的进展。\n",
    "\n",
    "你的感受是有效的，寻求帮助是积极而坚强的一步。继续寻求支持，无论是向心理健康专业人士、支持的朋友还是家人。建立一个支持网络和实践自我同情可以显著帮助你迈向心理健康的旅程。请记住，你值得感到更好，并且有资源和人们准备好在你每一步的路上支持你。\n",
    "'''"
   ]
  },
  {
   "cell_type": "code",
   "execution_count": 6,
   "metadata": {},
   "outputs": [
    {
     "name": "stdout",
     "output_type": "stream",
     "text": [
      "在这次咨询中，我注意到来访者正面临抑郁症带来的复杂情感和挑战。他们在平衡学术责任、社交压力及个人期望方面感到吃力。通过我们的对话和评估，我发现来访者对自身的抑郁症有了一定认识，理解这并非个人弱点，而是一种需要专业关怀的医学状况。他们在治疗过程中展现出了寻求支持和帮助的勇气。\n",
      "\n",
      "在情感表达和思考模式上，来访者的抑郁症影响了他们对自我和周围环境的看法，产生了孤立无援和难以克服困境的感受。然而，他们依然努力寻求帮助，这表明他们有着康复的强烈愿望和动力。\n",
      "\n",
      "在观察和测试结果方面，我注意到来访者可能需要进一步探讨抑郁症的根本原因，这可能涉及过去的创伤、持续的压力源或其他心理因素。为了支持他们的康复过程，我建议了一些策略，如认知行为疗法来挑战负面思维模式，以及关注自我护理实践，如健康的生活习惯、参与愉悦活动、练习正念和放松技巧。\n",
      "\n",
      "此外，我也强调了药物治疗作为一种可能的选择，但强调这需要与医疗提供者充分讨论。在就诊结果方面，我了解到来访者已经在接受或考虑接受专业的心理健康服务。\n",
      "\n",
      "总体来说，来访者是一个勇于面对挑战、积极寻求帮助的人。他们在康复的道路上可能遇到起伏，但他们的努力和决心使他们有望取得有意义的进展。我将继续提供专业的支持和指导，帮助他们建立一个坚实的支持网络，并鼓励他们在整个康复过程中保持耐心和自我同情。\n"
     ]
    }
   ],
   "source": [
    "template = \"\"\"\n",
    "你是一位刚刚结束了与学生咨询的心理医生。以下是关于这次咨询的详细信息：\n",
    "<Context>\n",
    "{context}\n",
    "<Context>\n",
    "根据这次咨询的信息，请用第一人称的口吻来回答以下问题。不要使用标题或分段格式，请直接叙述内容。请尽可能准确、富有同情心，并体现出作为心理医生的观察和思考。\n",
    "问题：{input}\n",
    "\"\"\"\n",
    "\n",
    "chat = ChatZhipuAI(\n",
    "    model=\"glm-4\",\n",
    "    temperature=0.4,\n",
    ")\n",
    "\n",
    "\n",
    "prompt = ChatPromptTemplate.from_template(\n",
    "    template = template\n",
    ")\n",
    "\n",
    "formatted_prompt = prompt.format(context=context, input='对来访者的客观描述（咨询师的观察、测试结果、医院就诊结果等）')\n",
    "# chain = prompt | chat\n",
    "\n",
    "\n",
    "\n",
    "\n",
    "response = chat.invoke(formatted_prompt)\n",
    "print(response.content)  # Displays the AI-generated poem"
   ]
  },
  {
   "cell_type": "code",
   "execution_count": 11,
   "metadata": {},
   "outputs": [],
   "source": []
  },
  {
   "cell_type": "code",
   "execution_count": 12,
   "metadata": {},
   "outputs": [],
   "source": []
  },
  {
   "cell_type": "code",
   "execution_count": 25,
   "metadata": {},
   "outputs": [
    {
     "name": "stdout",
     "output_type": "stream",
     "text": [
      "Corrected Transcription: We live in a world where we can communicate; it has transformed everyday tasks, making things faster, easier, and more efficient. From smartphones and computers with advanced AI and reported technology, it continues to push the boundaries, offering solutions to complex problems, opening doors to new possibilities, and connecting people across the globe, enabling instant communication and access to an enormous amount of information. As technology evolves, it plays a key role in driving innovation, improving healthcare and education, and industry, while also raising important questions about ethics, privacy, and its impact on society. Technology is all around us, making life easier and more connected with the use of phones, computers, and the internet, whether to learn new things and solve problems, and helping many areas like healthcare, where machines and complex algorithms can save lives, and in education, where students learn from anywhere. Technology keeps changing constantly.\n"
     ]
    }
   ],
   "source": [
    "# context = 'technology is constantly shaping the way we live where can communicate it has transformed every day task making thing faster easier and more efficficent from from smart phonand comcomputed with learccy areon reportetechlology es es contincontinuto to push the boundaries offering solution to complex problems to learning doors to new possibilities to with ther lenening people across the gloth and eimbling instant communication and access to our amount of information as technology evolved it play a key role and driving innovation improving health care and education and industry while also raising important cation about heathics privacy and its impact on the society technology is all owners making life easier and more connected with use phone computer and the internet average to whether learn new things and solve probleproblem and helping many areas like health care where machines and complex can save'\n",
    "context = 'technology is constantly shaping the way we live, where we can communicate; it has transformed everyday tasks, making things faster, easier, and more efficient. From smartphones and computers to electric cars and reported technology, it continues to push the boundaries, offering solutions to complex problems, opening doors to new possibilities, and connecting people across the globe, enabling instant communication and access to an enormous amount of information. As technology evolves, it plays a key role in driving innovation, improving healthcare and education, and industry, while also raising important questions about ethics, privacy, and its impact on society. Technology is all around us, making life easier and more connected with the use of phones, computers, and the internet, whether to learn new things and solve problems, and helping many areas like healthcare, where machines and complex algorithms can save lives.'\n",
    "transcription = 'we we live where can communicate it has transformed everyday task making things faster easier and more efficient from smart phones and computer with advanced ai and protect technology comes to continues to wish the boundaries of insolution to complex problems any opening to ooisto new possibilities and connect ct and across the globe enambing instant communication and access to a amount of information as technology evolved it play a key role and driving innovation improving healthcare and education and industry while also raising important question about heththqus privacy and its impact on the society technology is all owners making life easier and more connected we use phone computer and internet average to p to with ther learn new things and solprobleand helping many areas like health care and machines and tools can save lives and in education where students learn from any weir technology keeps changing lasting'\n",
    "\n",
    "# Define the template for the prompt\n",
    "template = \"\"\"\n",
    "You are a spelling and grammar correction expert. Your ONLY job is to correct the wrong words in the transcription based on the provided context. DO NOT change the meaning or add any additional words and only the corrected text with no additional labels or explanations.\n",
    "\n",
    "Context: {context}\n",
    "Transcription: {transcription}\n",
    "\"\"\"\n",
    "\n",
    "# Create an instance of the chat model\n",
    "chat_model = ChatZhipuAI(\n",
    "    model=\"glm-4\",  # or any appropriate model name\n",
    "    temperature=0,\n",
    ")\n",
    "\n",
    "# Prepare the prompt using the template\n",
    "prompt = ChatPromptTemplate.from_template(template)\n",
    "formatted_prompt = prompt.format(context=context, transcription=transcription)\n",
    "\n",
    "# Invoke the model with the formatted prompt\n",
    "response = chat_model.invoke(formatted_prompt)\n",
    "\n",
    "# Output the model's response (should contain corrected transcription)\n",
    "print(\"Corrected Transcription:\", response.content)"
   ]
  },
  {
   "cell_type": "code",
   "execution_count": 26,
   "metadata": {},
   "outputs": [
    {
     "data": {
      "text/plain": [
       "'We live in a world where we can communicate; it has transformed everyday tasks, making things faster, easier, and more efficient. From smartphones and computers with advanced AI and reported technology, it continues to push the boundaries, offering solutions to complex problems, opening doors to new possibilities, and connecting people across the globe, enabling instant communication and access to an enormous amount of information. As technology evolves, it plays a key role in driving innovation, improving healthcare and education, and industry, while also raising important questions about ethics, privacy, and its impact on society. Technology is all around us, making life easier and more connected with the use of phones, computers, and the internet, whether to learn new things and solve problems, and helping many areas like healthcare, where machines and complex algorithms can save lives, and in education, where students learn from anywhere. Technology keeps changing constantly.'"
      ]
     },
     "execution_count": 26,
     "metadata": {},
     "output_type": "execute_result"
    }
   ],
   "source": [
    "response.content"
   ]
  },
  {
   "cell_type": "code",
   "execution_count": 21,
   "metadata": {},
   "outputs": [],
   "source": [
    "context = response.content"
   ]
  },
  {
   "cell_type": "code",
   "execution_count": 22,
   "metadata": {},
   "outputs": [
    {
     "data": {
      "text/plain": [
       "'We live, where we can communicate; it has transformed everyday tasks, making things faster, easier, and more efficient. From smartphones and computers with advanced AI and protective technology, it continues to push the boundaries, offering solutions to complex problems, opening doors to new possibilities, and connecting people across the globe, enabling instant communication and access to a vast amount of information. As technology evolves, it plays a key role in driving innovation, improving healthcare and education, and industry, while also raising important questions about ethics, privacy, and its impact on society. Technology is all around us, making life easier and more connected as we use phones, computers, and the internet to learn new things and solve problems, and helping many areas like healthcare, where machines and tools can save lives, and in education, where students learn from anywhere. Technology keeps changing and lasting.'"
      ]
     },
     "execution_count": 22,
     "metadata": {},
     "output_type": "execute_result"
    }
   ],
   "source": [
    "context"
   ]
  },
  {
   "cell_type": "code",
   "execution_count": null,
   "metadata": {},
   "outputs": [],
   "source": []
  },
  {
   "cell_type": "code",
   "execution_count": null,
   "metadata": {},
   "outputs": [],
   "source": [
    "context = 'We live, where we can communicate; it has transformed everyday tasks, making things faster, easier, and more efficient. From smartphones and computers with advanced AI and protective technology, it continues to push the boundaries, offering solutions to complex problems, opening doors to new possibilities, and connecting people across the globe, enabling instant communication and access to a vast amount of information. As technology evolves, it plays a key role in driving innovation, improving healthcare and education, and industry, while also raising important questions about ethics, privacy, and its impact on society. Technology is all around us, making life easier and more connected as we use phones, computers, and the internet to learn new things and solve problems, and helping many areas like healthcare, where machines and tools can save lives, and in education, where students learn from anywhere. Technology keeps changing and lasting.'\n",
    "\n",
    "# Define the template for the prompt\n",
    "template = \"\"\"\n",
    "You are a spelling and grammar correction expert. Your ONLY job is to correct the wrong words in the transcription based on the provided context. DO NOT change the meaning or add any additional words and only the corrected text with no additional labels or explanations.\n",
    "\n",
    "Context: {context}\n",
    "Transcription: {transcription}\n",
    "\"\"\"\n",
    "\n",
    "# Create an instance of the chat model\n",
    "chat_model = ChatZhipuAI(\n",
    "    model=\"glm-4\",  # or any appropriate model name\n",
    "    temperature=0,\n",
    ")\n",
    "\n",
    "# Prepare the prompt using the template\n",
    "prompt = ChatPromptTemplate.from_template(template)\n",
    "formatted_prompt = prompt.format(context=context, transcription=transcription)\n",
    "\n",
    "# Invoke the model with the formatted prompt\n",
    "response = chat_model.invoke(formatted_prompt)\n",
    "\n",
    "# Output the model's response (should contain corrected transcription)\n",
    "print(\"Corrected Transcription:\", response.content)"
   ]
  },
  {
   "cell_type": "code",
   "execution_count": null,
   "metadata": {},
   "outputs": [],
   "source": [
    "context = 'technology is constantly shaping the way we live, where we can communicate; it has transformed everyday tasks, making things faster, easier, and more efficient. From smartphones and computers to electric cars and reported technology, it continues to push the boundaries, offering solutions to complex problems, opening doors to new possibilities, and connecting people across the globe, enabling instant communication and access to an enormous amount of information. As technology evolves, it plays a key role in driving innovation, improving healthcare and education, and industry, while also raising important questions about ethics, privacy, and its impact on society. Technology is all around us, making life easier and more connected with the use of phones, computers, and the internet, whether to learn new things and solve problems, and helping many areas like healthcare, where machines and complex algorithms can save lives.'"
   ]
  },
  {
   "cell_type": "code",
   "execution_count": 24,
   "metadata": {},
   "outputs": [
    {
     "name": "stdout",
     "output_type": "stream",
     "text": [
      "Corrected Transcription: technology is constantly shaping the way we live, where we can communicate; it has transformed everyday tasks, making things faster, easier, and more efficient. From smartphones and computers to electric cars and reported technology, it continues to push the boundaries, offering solutions to complex problems, opening doors to new possibilities, and connecting people across the globe, enabling instant communication and access to an enormous amount of information. As technology evolves, it plays a key role in driving innovation, improving healthcare and education, and industry, while also raising important questions about ethics, privacy, and its impact on society. Technology is all around us, making life easier and more connected with the use of phones, computers, and the internet, whether to learn new things and solve problems, and helping many areas like healthcare, where machines and complex algorithms can save lives.\n"
     ]
    }
   ],
   "source": [
    "context = 'technology is constantly shaping the way we live where can communicate it has transformed every day task making thing faster easier and more efficficent from from smart phonand comcomputed with learccy areon reportetechlology es es contincontinuto to push the boundaries offering solution to complex problems to learning doors to new possibilities to with ther lenening people across the gloth and eimbling instant communication and access to our amount of information as technology evolved it play a key role and driving innovation improving health care and education and industry while also raising important cation about heathics privacy and its impact on the society technology is all owners making life easier and more connected with use phone computer and the internet average to whether learn new things and solve probleproblem and helping many areas like health care where machines and complex can save'\n",
    "\n",
    "# transcription = 'we we live where can communicate it has transformed everyday task making things faster easier and more efficient from smart phones and computer with advanced ai and protect technology comes to continues to wish the boundaries of insolution to complex problems any opening to ooisto new possibilities and connect ct and across the globe enambing instant communication and access to a amount of information as technology evolved it play a key role and driving innovation improving healthcare and education and industry while also raising important question about heththqus privacy and its impact on the society technology is all owners making life easier and more connected we use phone computer and internet average to p to with ther learn new things and solprobleand helping many areas like health care and machines and tools can save lives and in education where students learn from any weir technology keeps changing lasting'\n",
    "\n",
    "# Define the template for the prompt\n",
    "template = \"\"\"\n",
    "You are a spelling and grammar correction expert. Your ONLY job is to correct the wrong words in the provided context. DO NOT change the meaning or add any additional words and only the corrected text with no additional labels or explanations.\n",
    "\n",
    "Context: {context}\n",
    "\"\"\"\n",
    "\n",
    "# Create an instance of the chat model\n",
    "chat_model = ChatZhipuAI(\n",
    "    model=\"glm-4\",  # or any appropriate model name\n",
    "    temperature=0,\n",
    ")\n",
    "\n",
    "# Prepare the prompt using the template\n",
    "prompt = ChatPromptTemplate.from_template(template)\n",
    "formatted_prompt = prompt.format(context=context)\n",
    "\n",
    "# Invoke the model with the formatted prompt\n",
    "response = chat_model.invoke(formatted_prompt)\n",
    "\n",
    "# Output the model's response (should contain corrected transcription)\n",
    "print(\"Corrected Transcription:\", response.content)"
   ]
  },
  {
   "cell_type": "code",
   "execution_count": 41,
   "metadata": {},
   "outputs": [
    {
     "name": "stdout",
     "output_type": "stream",
     "text": [
      "Corrected Combined Transcription: Technology is constantly shaping the way we live, enabling us to communicate; it has transformed everyday tasks, making things faster, easier, and more efficient. From smartphones and computers with advanced AI and reported technology, it continues to push the boundaries, offering solutions to complex problems, opening doors to new possibilities, and connecting people across the globe, enabling instant communication and access to an enormous amount of information. As technology evolves, it plays a key role in driving innovation, improving healthcare and education, and industry, while also raising important questions about ethics, privacy, and its impact on society. Technology is all around us, making life easier and more connected with the use of phones, computers, and the internet, whether to learn new things and solve problems, and helping many areas like healthcare, where machines and complex algorithms can save lives, and in education, where students can learn from anywhere. Technology keeps changing and lasting.\n"
     ]
    }
   ],
   "source": [
    "context = 'technology is constantly shaping the way we live, where we can communicate; it has transformed everyday tasks, making things faster, easier, and more efficient. From smartphones and computers to electric cars and reported technology, it continues to push the boundaries, offering solutions to complex problems, opening doors to new possibilities, and connecting people across the globe, enabling instant communication and access to an enormous amount of information. As technology evolves, it plays a key role in driving innovation, improving healthcare and education, and industry, while also raising important questions about ethics, privacy, and its impact on society. Technology is all around us, making life easier and more connected with the use of phones, computers, and the internet, whether to learn new things and solve problems, and helping many areas like healthcare, where machines and complex algorithms can save lives.'\n",
    "transcription = 'we we live where can communicate it has transformed everyday task making things faster easier and more efficient from smart phones and computer with advanced ai and protect technology comes to continues to wish the boundaries of insolution to complex problems any opening to ooisto new possibilities and connect ct and across the globe enambing instant communication and access to a amount of information as technology evolved it play a key role and driving innovation improving healthcare and education and industry while also raising important question about heththqus privacy and its impact on the society technology is all owners making life easier and more connected we use phone computer and internet average to p to with ther learn new things and solprobleand helping many areas like health care and machines and tools can save lives and in education where students learn from any weir technology keeps changing lasting'\n",
    "\n",
    "template = \"\"\"\n",
    "You are a spelling and grammar correction expert. Your ONLY job is to correct the wrong words in the transcription based on the provided context and combine both into a final sentence. DO NOT change the meaning or add any additional words from your side, and provide only the final corrected text with no additional labels or explanations.\n",
    "\n",
    "Context: {context}\n",
    "Transcription: {transcription}\n",
    "\"\"\"\n",
    "\n",
    "# Create an instance of the chat model\n",
    "chat_model = ChatZhipuAI(\n",
    "    model=\"glm-4\",  # or any appropriate model name\n",
    "    temperature=0,\n",
    ")\n",
    "\n",
    "# Prepare the prompt using the template\n",
    "prompt = ChatPromptTemplate.from_template(template)\n",
    "formatted_prompt = prompt.format(context=context, transcription=transcription)\n",
    "\n",
    "# Invoke the model with the formatted prompt\n",
    "response = chat_model.invoke(formatted_prompt)\n",
    "\n",
    "# Output the model's response (should contain the combined corrected transcription)\n",
    "corrected_combined_transcription = response.content.strip()  # Strip any leading/trailing whitespace\n",
    "print(\"Corrected Combined Transcription:\", corrected_combined_transcription)"
   ]
  },
  {
   "cell_type": "code",
   "execution_count": 29,
   "metadata": {},
   "outputs": [],
   "source": [
    "new_context = corrected_combined_transcription"
   ]
  },
  {
   "cell_type": "code",
   "execution_count": 30,
   "metadata": {},
   "outputs": [
    {
     "data": {
      "text/plain": [
       "'Technology is constantly shaping the way we live, enabling us to communicate; it has transformed everyday tasks, making things faster, easier, and more efficient. From smartphones and computers with advanced AI and reported technology, it continues to push the boundaries, offering solutions to complex problems, opening doors to new possibilities, and connecting people across the globe, enabling instant communication and access to an enormous amount of information. As technology evolves, it plays a key role in driving innovation, improving healthcare and education, and industry, while also raising important questions about ethics, privacy, and its impact on society. Technology is all around us, making life easier and more connected with the use of phones, computers, and the internet, whether to learn new things and solve problems, and helping many areas like healthcare, where machines and complex algorithms can save lives, and in education, where students can learn from anywhere. Technology keeps changing and lasting.'"
      ]
     },
     "execution_count": 30,
     "metadata": {},
     "output_type": "execute_result"
    }
   ],
   "source": [
    "new_context"
   ]
  },
  {
   "cell_type": "code",
   "execution_count": 36,
   "metadata": {},
   "outputs": [],
   "source": [
    "new_context = 'Technology is constantly shaping the way we live, enabling us to communicate; it has transformed everyday tasks, making things faster, easier, and more efficient. From smartphones and computers with advanced AI and reported technology, it continues to push the boundaries, offering solutions to complex problems, opening doors to new possibilities, and connecting people across the globe, enabling instant communication and access to an enormous amount of information. As technology evolves, it plays a key role in driving innovation, improving healthcare and education, and industry, while also raising important questions about ethics, privacy, and its impact on society. Technology is all around us, making life easier and more connected with the use of phones, computers, and the internet, whether to learn new things and solve problems, and helping many areas like healthcare, where machines and complex algorithms can save lives, and in education, where students can learn from anywhere. Technology keeps changing and lasting.'\n",
    "trans = 'advanced AI and report technology comes to continues to push the boundaries of insolution to complex problems any opening tools to new possibilities making conconnect people across the globe and nambling instant communication and access to a amount of information as technology evolve it play a kerole in driving innovation improving health care and education about teindury ry while raraing impimportant question and athics privacy and its impact on the society technology is all owners making life easier and more connected we use phone computer and internenet everyday to puto with lelearnew new things solve probleproblein helping marry areas health care where machines and tool can save lives and an education where student can learn from any fair technology keeps changing fosting brbring a new areas and solution however it also come with a challenge like how to keep our information saven how to affect the jobs whaoverall it helps'"
   ]
  },
  {
   "cell_type": "code",
   "execution_count": 40,
   "metadata": {},
   "outputs": [
    {
     "name": "stdout",
     "output_type": "stream",
     "text": [
      "Corrected Combined Transcription: Advanced AI and reported technology continue to push the boundaries, offering solutions to complex problems and opening doors to new possibilities, making it possible to connect people across the globe and enabling instant communication and access to an enormous amount of information. As technology evolves, it plays a key role in driving innovation, improving healthcare and education in industry, while also raising important questions about ethics, privacy, and its impact on society. Technology is all around us, making life easier and more connected through the use of phones, computers, and the internet, whether to learn new things and solve problems, and helping many areas like healthcare, where machines and complex algorithms can save lives, and in education, where students can learn from anywhere. Technology keeps changing, fostering new areas and solutions; however, it also comes with challenges, like how to keep our information safe and how it affects jobs. Overall, it helps.\n"
     ]
    }
   ],
   "source": [
    "template = \"\"\"\n",
    "You are a spelling and grammar correction expert. Your only job is to combine the context and given transcription and check the spelling. DO NOT change the meaning or add any additional words from your side, and provide only the final corrected text with no additional labels or explanations.\n",
    "\n",
    "Context: {new_context}\n",
    "Transcription: {trans}\n",
    "\"\"\"\n",
    "\n",
    "# Create an instance of the chat model\n",
    "chat_model = ChatZhipuAI(\n",
    "    model=\"glm-4\",  # or any appropriate model name\n",
    "    temperature=0,\n",
    ")\n",
    "\n",
    "# Prepare the prompt using the template\n",
    "prompt = ChatPromptTemplate.from_template(template)\n",
    "formatted_prompt = prompt.format(new_context=new_context, trans=trans)\n",
    "\n",
    "# Invoke the model with the formatted prompt\n",
    "response = chat_model.invoke(formatted_prompt)\n",
    "\n",
    "# Output the model's response (should contain the combined corrected transcription)\n",
    "corrected_combined_transcription = response.content.strip()  # Strip any leading/trailing whitespace\n",
    "print(\"Corrected Combined Transcription:\", corrected_combined_transcription)"
   ]
  },
  {
   "cell_type": "code",
   "execution_count": null,
   "metadata": {},
   "outputs": [],
   "source": []
  }
 ],
 "metadata": {
  "kernelspec": {
   "display_name": "sensevoice_env",
   "language": "python",
   "name": "python3"
  },
  "language_info": {
   "codemirror_mode": {
    "name": "ipython",
    "version": 3
   },
   "file_extension": ".py",
   "mimetype": "text/x-python",
   "name": "python",
   "nbconvert_exporter": "python",
   "pygments_lexer": "ipython3",
   "version": "3.12.2"
  }
 },
 "nbformat": 4,
 "nbformat_minor": 2
}
