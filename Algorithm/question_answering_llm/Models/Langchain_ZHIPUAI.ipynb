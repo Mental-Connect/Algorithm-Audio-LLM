{
 "cells": [
  {
   "cell_type": "code",
   "execution_count": 1,
   "metadata": {},
   "outputs": [],
   "source": [
    "from langchain_core.prompts import ChatPromptTemplate\n"
   ]
  },
  {
   "cell_type": "code",
   "execution_count": 2,
   "metadata": {},
   "outputs": [],
   "source": [
    "from langchain_community.chat_models import ChatZhipuAI\n",
    "from langchain_core.messages import AIMessage, HumanMessage, SystemMessage\n",
    "import os"
   ]
  },
  {
   "cell_type": "code",
   "execution_count": 4,
   "metadata": {},
   "outputs": [],
   "source": [
    "context = '''\n",
    "应对抑郁症的复杂情感和挑战可能是一个极其艰巨的过程，尤其是在你作为学生需要平衡学术责任、社交压力和个人期望的时候。理解抑郁症不是弱点或无法应对的表现，而是一种需要同情、理解和适当护理的医学状况，这一点至关重要。在你经历这些困难时，认识和验证你的感受是很重要的。学业压力、社交动态和自我施加的期望可能会让人感到难以承受。请记住，你并不是孤单面对这些经历。许多学生也经历类似的困扰，寻求支持是迈向康复的勇敢和重要的一步。\n",
    "\n",
    "抑郁症常常扭曲我们对自己和周围情况的看法，让我们感到孤立无援，仿佛我们的困境无法克服。然而，这些感受虽然非常真实，但并不定义你的价值或改善的潜力。寻求帮助是至关重要的，无论是通过专业咨询、支持小组还是信任的亲友。治疗提供了一个安全的空间，让你可以在没有评判的情况下探索你的思想和感受，提供管理和缓解抑郁症状的工具和策略。例如，认知行为疗法可以帮助你识别和挑战那些加重抑郁症的负面思维模式和行为。此外，药物治疗可能会被建议，以帮助平衡大脑中的化学物质，但这应始终与医疗提供者充分讨论。\n",
    "\n",
    "在治疗中，我们一起探讨抑郁症的根本原因，这可能包括过去的创伤、持续的压力源或其他心理因素。我们可以深入这些领域，以帮助你制定应对策略和建立韧性。同样，关注自我护理实践也很重要，例如保持健康的日常生活、参与带给你快乐的活动、以及练习正念和放松技巧。定期的身体活动、均衡饮食和充足睡眠对支持心理健康至关重要。参与爱好、与支持的朋友和家人共度时光，以及设定小而可实现的目标也可以显著改善你的整体幸福感。\n",
    "\n",
    "请记住，管理抑郁症的进展并非总是线性的。这过程中会有起伏，这很正常。重要的是你继续迈向康复的步伐，并在需要时寻求支持。了解抑郁症和心理健康也是很有益的，它可以赋予你力量，减少无助感。你的旅程是独特的，重要的是以耐心和自我同情来对待它。感觉好转的道路往往是渐进的，但通过正确的支持和策略，你可以取得有意义的进展。\n",
    "\n",
    "你的感受是有效的，寻求帮助是积极而坚强的一步。继续寻求支持，无论是向心理健康专业人士、支持的朋友还是家人。建立一个支持网络和实践自我同情可以显著帮助你迈向心理健康的旅程。请记住，你值得感到更好，并且有资源和人们准备好在你每一步的路上支持你。\n",
    "'''"
   ]
  },
  {
   "cell_type": "code",
   "execution_count": 8,
   "metadata": {},
   "outputs": [
    {
     "name": "stdout",
     "output_type": "stream",
     "text": [
      "在这次咨询中，我注意到来访者正面临抑郁症带来的复杂情感和挑战。他们在平衡学术责任、社交压力及个人期望方面感到吃力。通过我们的对话和评估，我发现他们有明显的抑郁症状，这些症状影响了他们的日常生活和自我感知。尽管如此，来访者表现出了寻求帮助的勇气，这本身就是积极的一步。\n",
      "\n",
      "在咨询过程中，我观察到来访者存在一些负面思维模式，这些可能是加重他们抑郁症状的因素。我们进行了深入的探讨，试图理解抑郁症的根本原因，这可能包括过去的创伤和持续的压力源。此外，我也注意到了他们在自我护理方面的不足，比如日常生活的不规律、缺乏身体活动等。\n",
      "\n",
      "根据医院的就诊结果和测试，来访者被诊断为抑郁症，但具体诊断细节需要保密。在考虑治疗方案时，我强调了认知行为疗法对于识别和挑战负面思维模式的重要性，同时也讨论了药物治疗作为一种可能的选择，强调这需要与医疗提供者充分讨论。\n",
      "\n",
      "总体来说，来访者是一个有意识寻求改变和康复的人，他们在治疗过程中展现出了开放和积极参与的态度。虽然他们目前面临困难，但我相信通过持续的支持和适当的治疗策略，他们有能力逐步改善自己的心理健康状况。\n"
     ]
    }
   ],
   "source": [
    "template = \"\"\"\n",
    "你是一位刚刚结束了与学生咨询的心理医生。以下是关于这次咨询的详细信息：\n",
    "<Context>\n",
    "{context}\n",
    "<Context>\n",
    "根据这次咨询的信息，请用第一人称的口吻来回答以下问题。不要使用标题或分段格式，请直接叙述内容。请尽可能准确、富有同情心，并体现出作为心理医生的观察和思考。\n",
    "问题：{input}\n",
    "\"\"\"\n",
    "\n",
    "chat = ChatZhipuAI(\n",
    "    model=\"glm-4\",\n",
    "    temperature=0.4,\n",
    ")\n",
    "\n",
    "\n",
    "prompt = ChatPromptTemplate.from_template(\n",
    "    template = template\n",
    ")\n",
    "\n",
    "formatted_prompt = prompt.format(context=context, input='对来访者的客观描述（咨询师的观察、测试结果、医院就诊结果等）')\n",
    "# chain = prompt | chat\n",
    "\n",
    "\n",
    "\n",
    "\n",
    "response = chat.invoke(formatted_prompt)\n",
    "print(response.content)  # Displays the AI-generated poem"
   ]
  },
  {
   "cell_type": "code",
   "execution_count": null,
   "metadata": {},
   "outputs": [],
   "source": []
  }
 ],
 "metadata": {
  "kernelspec": {
   "display_name": "sensevoice_env",
   "language": "python",
   "name": "python3"
  },
  "language_info": {
   "codemirror_mode": {
    "name": "ipython",
    "version": 3
   },
   "file_extension": ".py",
   "mimetype": "text/x-python",
   "name": "python",
   "nbconvert_exporter": "python",
   "pygments_lexer": "ipython3",
   "version": "3.12.2"
  }
 },
 "nbformat": 4,
 "nbformat_minor": 2
}
